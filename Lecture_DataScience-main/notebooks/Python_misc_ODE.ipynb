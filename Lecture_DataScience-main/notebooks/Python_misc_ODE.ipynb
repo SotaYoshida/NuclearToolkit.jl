{
  "cells": [
    {
      "cell_type": "markdown",
      "metadata": {
        "colab_type": "text",
        "id": "view-in-github"
      },
      "source": [
        "<a href=\"https://colab.research.google.com/github/SotaYoshida/Lecture_DataScience/blob/main/notebooks/Python_misc_ODE.ipynb\" target=\"_parent\"><img src=\"https://colab.research.google.com/assets/colab-badge.svg\" alt=\"Open In Colab\"/></a>"
      ]
    },
    {
      "cell_type": "markdown",
      "metadata": {},
      "source": []
    },
    {
      "cell_type": "markdown",
      "metadata": {
        "id": "wVdYiDLFHEEL"
      },
      "source": [
        "# 常微分方程式の数値解法"
      ]
    },
    {
      "cell_type": "code",
      "execution_count": null,
      "metadata": {
        "id": "MO6-C742mcJ-"
      },
      "outputs": [],
      "source": [
        "#使用するモジュールのimport\n",
        "import numpy as np\n",
        "from matplotlib import pyplot as plt"
      ]
    },
    {
      "cell_type": "markdown",
      "metadata": {
        "id": "JxV3JSWOd-W8"
      },
      "source": [
        "## 常微分方程式"
      ]
    },
    {
      "cell_type": "markdown",
      "metadata": {
        "id": "AGBSpCwiHIgY"
      },
      "source": [
        "多くの自然現象や社会現象は微分方程式として定式化される。\n",
        "\n",
        "身近な例としてはニュートンの運動方程式にはじまり、\n",
        "金融や群集動態、感染症のモデルなどにも当てはまる。\n",
        "\n",
        "このノートでは、微分方程式のうちとくに一変数関数の場合である  \n",
        "常微分方程式(ordinary differential equation, ODE)について  \n",
        "いくつかの代表的な数値解法を解説するとともに、  \n",
        "アルゴリズムを自分で実装してみよう。\n",
        "\n",
        "例えば1階の常微分方程式は、一般に以下の形で書くことが出来る:  \n",
        "$dx(t)/dt = f(x,t)$ (Eq. 1)\n",
        "\n",
        "これは、ある質点の時刻$t$での座標を$x(t)$と呼ぶことにすると、  \n",
        "質点の位置の変化が$f(x,t)$の関数として書けるような状況に相当する。\n",
        "\n",
        "注) 別に$t$は時間である必要はないし、  \n",
        "$x(t)$は座標以外の量(金融商品の価格など)何でも構わない。\n",
        "\n",
        "\n",
        "一般に常微分方程式が与えられた時、まずはその解が変数分離などを用いて  \n",
        "閉じた形で書き下せないかと考えるわけだが、  \n",
        "実際の多くの問題ではそうは上手く行かず、数値計算が必要となる。"
      ]
    },
    {
      "cell_type": "markdown",
      "metadata": {
        "id": "duBNxeB_cUMU"
      },
      "source": [
        "以下では、主として$dx/dt = f(x,t)$を考えるが、  \n",
        "高階の微分を含む場合も、\n",
        "\n",
        "$$\n",
        "\\left[\n",
        "\\begin{matrix} \n",
        "x_1 \\\\ \n",
        "x_2 \\\\\n",
        "\\vdots \\\\\n",
        "x_r\n",
        "\\end{matrix}\n",
        "\\right]\n",
        "= \n",
        "\\left[\n",
        "\\begin{matrix} \n",
        "x \\\\ \n",
        "dx/dt \\\\\n",
        "\\vdots \\\\\n",
        "d^{r-1}x/dt^{r-1}\n",
        "\\end{matrix} \\right]\n",
        "$$\n",
        "\n",
        "と置き換えれば、連立1階常微分方程式:\n",
        "\n",
        "$$\n",
        "\\left[\n",
        "\\begin{matrix} \n",
        "x_2 \\\\ \n",
        "x_3 \\\\\n",
        "\\vdots \\\\\n",
        "x_{r}\n",
        "\\end{matrix}\n",
        "\\right]\n",
        "= \n",
        "\\frac{d}{dx}\n",
        "\\left[\n",
        "\\begin{matrix} \n",
        "x_1 \\\\ \n",
        "x_2 \\\\\n",
        "\\vdots \\\\\n",
        "x_{r-1} \n",
        "\\end{matrix} \\right]\n",
        "$$\n",
        "とみなすことが出来る。"
      ]
    },
    {
      "cell_type": "markdown",
      "metadata": {
        "id": "brvU1jS2W0NK"
      },
      "source": [
        "\n",
        "常微分方程式の解を求めるためには、 \n",
        "適切な条件(初期条件や境界条件)を設定しなければならない。\n",
        "\n",
        "そのうち、変数$t$の最初の値(初期値,初期条件)$t_0$と  \n",
        "$x(t=t_0)$の値が与えられた問題を初期値問題と呼ぶ。  \n",
        "※$t_0$は問題によって0だったり、$-\\infty$だったりする。\n",
        "\n",
        "\n",
        "解の存在性や下記のリプシッツ条件など適切な条件の元での  \n",
        "解の一意性の証明等については教科書に譲る。"
      ]
    },
    {
      "cell_type": "markdown",
      "metadata": {
        "id": "o2JwiqJAd2LL"
      },
      "source": [
        "###リプシッツ条件"
      ]
    },
    {
      "cell_type": "markdown",
      "metadata": {
        "id": "ipc62VyEeFXo"
      },
      "source": [
        "関数$f$が$U$(たとえば$R^n$の部分集合) 上でリプシッツ(Lipshitz)連続であるとは、  \n",
        "正実数$K$が存在し、任意の$x,y \\in U$に対し、  \n",
        "$||f(x)-f(y)|| \\leq K ||x −y||$が成立することである。  \n",
        "以下では$||\\cdot||$はユークリッドノルムとし、$K$をリプシッツ定数と呼ぶ。\n",
        "\n",
        "この$K$が存在しているとき、  \n",
        "前述の常微分方程式の初期値問題は一意の解を持つ。"
      ]
    },
    {
      "cell_type": "markdown",
      "metadata": {
        "id": "3BMukvRtgdZI"
      },
      "source": [
        "## 代表定期な数値解法"
      ]
    },
    {
      "cell_type": "markdown",
      "metadata": {
        "id": "-pwbBdUBgjMr"
      },
      "source": [
        "### オイラー(Euler)法"
      ]
    },
    {
      "cell_type": "markdown",
      "metadata": {
        "id": "JrC4_IHYgu8-"
      },
      "source": [
        "1階の常微分方程式$dx(t)/dt=f(x,y)$を数値的に解く上で  \n",
        "最も基本的な考え方は時刻(便宜上そう呼ぶ)を  \n",
        "細かく分割した上で、$x$の任意時刻$t$での近似値を  \n",
        "初期値から初めて逐次的に求めていくことである。  \n",
        "\n",
        "以下では、その最も単純な例であるオイラー法を説明する。\n",
        "\n",
        "微分の定義:\n",
        "$dx(t)/dt = \\lim_{h\\to 0} \\frac{x(t+h) - x(t)}{h}$から  \n",
        "微小変分$h$を十分小さく取れば、  \n",
        "$x_{i+1} = x_{i} + h f(x,t_i)$という近似式が得られる。\n",
        "\n",
        "つまり、$i=0$の初期値$(x_0,t_0=0)$から順番に上の漸化式を用いて、  $i$番目の時刻$t_i$での座標$x_i$を推定していく。\n",
        "\n",
        "※一般に微小変分$h$は各ステップ$i$に依存しても良いが、簡単のため共通とした。"
      ]
    },
    {
      "cell_type": "markdown",
      "metadata": {
        "id": "VgupCOzCjPwO"
      },
      "source": [
        "例: $dx/dt = -2x^2t$, 初期条件$x(t=0)=1.0$のもとで  \n",
        "$0 < t \\leq 1.0$での$x$の値を予想してみよう:"
      ]
    },
    {
      "cell_type": "code",
      "execution_count": null,
      "metadata": {
        "colab": {
          "base_uri": "https://localhost:8080/",
          "height": 225
        },
        "id": "lI-2SaBkHCXa",
        "outputId": "be62334d-2414-425b-a2a3-29a2efee59ff"
      },
      "outputs": [
        {
          "data": {
            "image/png": "[encoded data removed]",
            "text/plain": [
              "<Figure size 720x216 with 1 Axes>"
            ]
          },
          "metadata": {
            "needs_background": "light"
          },
          "output_type": "display_data"
        }
      ],
      "source": [
        "# f(x,t)のトイモデルとして dx/dt = -2tx^2 というものを考える\n",
        "def f(x,t): \n",
        "    return -  2.0*  x * x * t\n",
        "#時刻tを間隔hで細かく分割する\n",
        "h = 1.e-4\n",
        "tr = np.arange(0.0,1.0,h) \n",
        "#初期条件\n",
        "x0 = 1.0 \n",
        "\n",
        "#求解\n",
        "x = x0\n",
        "xs = [x0]\n",
        "for t in tr:\n",
        "    x += h * f(x,t)\n",
        "    xs += [x]\n",
        "\n",
        "#描画\n",
        "fig = plt.figure(figsize=(10,3))\n",
        "plt.xlabel(\"t\");plt.ylabel(\"x\")\n",
        "plt.plot(tr,xs[:-1])\n",
        "plt.show()\n",
        "plt.close()"
      ]
    },
    {
      "cell_type": "markdown",
      "metadata": {
        "id": "_xzmhI0Rq7A_"
      },
      "source": [
        "実は今の初期条件のもとでこの微分方程式は  \n",
        "閉じた形$x(t)=x_0/(x_0t^2+1)$で解が与えられるので、  \n",
        "真の解と数値解法による近似解を比較できる。\n",
        "\n",
        "差分のlogを取ってみると...以下のようになる:"
      ]
    },
    {
      "cell_type": "code",
      "execution_count": null,
      "metadata": {
        "colab": {
          "base_uri": "https://localhost:8080/",
          "height": 225
        },
        "id": "dMy_G8hjq6i-",
        "outputId": "acdfa5e0-6bf7-4e04-922a-8d9885e98d63"
      },
      "outputs": [
        {
          "data": {
            "image/png": "[encoded data removed]",
            "text/plain": [
              "<Figure size 720x216 with 1 Axes>"
            ]
          },
          "metadata": {
            "needs_background": "light"
          },
          "output_type": "display_data"
        }
      ],
      "source": [
        "def fexact(t):\n",
        "    return x0/(x0* t*t + 1.0)\n",
        "xe = np.array([ fexact(t) for t in tr])\n",
        "fig = plt.figure(figsize=(10,3))\n",
        "plt.xlabel(\"t\"); plt.ylabel(\"abs. diff.\")\n",
        "plt.yscale(\"log\")\n",
        "plt.plot(tr,abs(xe-np.array(xs[:-1])))\n",
        "plt.show()\n",
        "plt.close()"
      ]
    },
    {
      "cell_type": "markdown",
      "metadata": {
        "id": "q7jGOD0zssEL"
      },
      "source": [
        "Taylor展開するだけで簡単に調べられるようにEuler法は局所打ち切り誤差が$O(h^2)$、  \n",
        "大局打切り誤差が$\\sim O(h^2)\\times O(h^{-1})\\sim O(h)$の手法となっている。  \n",
        "つまり1桁精度を上げたいなら$h$を1/10、つまり計算量を10倍にしなくてはならない。\n",
        "\n",
        "上の$h$を変えてチェックしてみよう。  \n",
        "\n",
        "大局誤差が$h$の$p$乗に比例する手法を一般に$p$次公式と呼び  \n",
        "上のEuler法は1次公式となる。\n",
        "\n",
        "Euler法に少し工夫を加えた修正Euler法は、2次公式であり  \n",
        "$h$を1/10すると、大局誤差は1/100にできる。  \n",
        "\n"
      ]
    },
    {
      "cell_type": "markdown",
      "metadata": {
        "id": "6ru34y_hvFV6"
      },
      "source": [
        "### 4次のルンゲクッタ法 (RK4)\n",
        "\n",
        "次に4次公式の代表例である4次のルンゲクッタ法を紹介しよう。  \n",
        "古典的ルンゲ=クッタ法などとも呼ばれるこの方法は、  \n",
        "幾つかの$(x,t)$に対して$f(x,t)$の値を計算し、  \n",
        "打切り誤差が互いにキャンセルしあうように  \n",
        "うまく重み付けをして次ステップの$x$の値を求めていく方法であり  \n",
        "様々なところで用いられている。\n",
        "\n",
        "基本的には2変数関数のTaylor展開をやれば更新式を導出できるが\n",
        "煩雑なので導出については省略することにして結果だけ示すと\n",
        "\n",
        "$i$番目のステップでの$x,t$の値$x_i,t_i$が所与のとき、\n",
        "以下の4点での$f(x,t)$の(近似)値を用意して  \n",
        "$ f_1 = f(x_i,t_i),\n",
        "f_2 = f(x_i+\\frac{h}{2} f_1,t_i+\\frac{h}{2}),$\n",
        "$f_3 = f(x_i+\\frac{h}{2} f_2,t_i+\\frac{h}{2}),\n",
        "f_4 = f(x_i+h f_3,t_i+h)\n",
        "$\n",
        "\n",
        "$x_{i+1} = x_{i} + \\frac{h}{6} (f_1+2f_2+2f_3 + f_4 )$\n",
        "とすることで、4次公式が得られる。\n",
        "\n",
        "また、前述のような\"重み付け\"の選択には自由度があり、  \n",
        "$ f_1 = f(x_i,t_i),\n",
        "f_2 = f(x_i+\\frac{h}{3} f_1,t_i+\\frac{h}{3}),$\n",
        "$\n",
        "f_3 = f(x_i-\\frac{h}{3}f_1 + h f_2,t_i+\\frac{2h}{3}),\n",
        "f_4 = f(x_i+hf_1-hf_2+h f_3,t_i+h)\n",
        "$\n",
        "\n",
        "$x_{i+1} = x_{i} + \\frac{h}{8} (f_1+3f_2+3f_3 + f_4 )$\n",
        "\n",
        "という公式も知られている。\n",
        "\n",
        "\n",
        "前者を実装して、先程の例でEuler法と比べてみると...\n",
        "\n"
      ]
    },
    {
      "cell_type": "code",
      "execution_count": null,
      "metadata": {
        "colab": {
          "base_uri": "https://localhost:8080/",
          "height": 225
        },
        "id": "bpzo_HH03zsy",
        "outputId": "2256e450-8361-4754-e1a8-332e05ff5372"
      },
      "outputs": [
        {
          "data": {
            "image/png": "[encoded data removed]",
            "text/plain": [
              "<Figure size 720x216 with 1 Axes>"
            ]
          },
          "metadata": {
            "needs_background": "light"
          },
          "output_type": "display_data"
        }
      ],
      "source": [
        "#求解(RK4)\n",
        "xsRK4 = [x0]\n",
        "x = x0\n",
        "for t in tr:\n",
        "    f1 = f(x,t)\n",
        "    f2 = f(x+0.5*h*f1, t+0.5*h)\n",
        "    f3 = f(x+0.5*h*f2, t+0.5*h)\n",
        "    f4 = f(x+h*f3, t+h)\n",
        "    x += h*(f1 + 2*f2 + 2*f3 + f4)/6.0\n",
        "    xsRK4 += [x]\n",
        "#描画\n",
        "fig = plt.figure(figsize=(10,3))\n",
        "plt.xlabel(\"t\");plt.ylabel(\"abs. diff.\")\n",
        "plt.yscale(\"log\")\n",
        "plt.plot(tr,abs(xe-np.array(xs[:-1])),label=\"Euler\")\n",
        "plt.plot(tr,abs(xe-np.array(xsRK4[:-1])),label=\"RK4\")\n",
        "plt.legend()\n",
        "plt.show()\n",
        "plt.close()"
      ]
    },
    {
      "cell_type": "markdown",
      "metadata": {
        "id": "WqKW52Ncbg7c"
      },
      "source": [
        "となり、高精度で解が得られていることが分かる。"
      ]
    },
    {
      "cell_type": "markdown",
      "metadata": {
        "id": "uIqPPSsJb-KD"
      },
      "source": [
        "## 積分を用いた解法"
      ]
    },
    {
      "cell_type": "markdown",
      "metadata": {
        "id": "SUuqmECsuB4l"
      },
      "source": [
        "常微分方程式 $\\frac{dx}{dt} = f(x,t)$は形式的には  \n",
        "$x(t') = x(t_0) + \\int^{t'}_{t_0} f(x(t),t,) dt$ と書くことが出来る。\n",
        "\n",
        "右辺の積分を数値的に計算することで、  \n",
        "元の微分方程式の解を求めることを考えよう。"
      ]
    },
    {
      "cell_type": "markdown",
      "metadata": {
        "id": "GSy9sdWUdyXI"
      },
      "source": [
        "### Adams-Bashforth法"
      ]
    },
    {
      "cell_type": "markdown",
      "metadata": {
        "id": "0mWaZoxBd1m5"
      },
      "source": [
        "\n",
        "\n",
        "以下では特に、Adams-Bashforth法(AB法)と呼ばれる手法を考える。\n",
        "\n",
        "\n"
      ]
    },
    {
      "cell_type": "markdown",
      "metadata": {
        "id": "svbcn9pIM-n1"
      },
      "source": [
        "まずは、2次のAB法を考えよう。\n",
        "\n",
        "$t_i$と$t_{i+1}$の間の$f(x(t),t)$を、現在居る$i$番目のステップと  \n",
        "1個前の$i-1$番目のステップを用いて、1次のLagrange補間で近似してみる。\n",
        "\n",
        "$\n",
        "\\begin{align} \n",
        "x_{i+1} &= x_i + \\int^{t_{i+1}}_{t_i} P_1(t) dt  \\\\\n",
        "P_1(t) &= f_{i-1}L_{i-1}(t) + f_i L_i(t) \\\\\n",
        "L_{i-1} &= \\frac{t-t_i}{t_{i-1}-t_i}, L_{i} = \\frac{t-t_{i-1}}{t_{i}-t_{i-1}}\n",
        "\\end{align}$\n",
        "\n",
        "各ステップの刻み幅$t_{i}-t_{i-1}$ for $\\forall i $を一定$h$としよう。  \n",
        "このもとで上の積分を評価すると、  \n",
        "$x_{i+1} = x_i + \\frac{h}{2} (-f_{i-1}+3f_i)$\n",
        "という更新式を得る。\n",
        "\n",
        "この手法の局所打切り誤差は(またTaylor展開して)$O(h^3)$であり、  \n",
        "２次の公式となる。一般的な分類に倣えば、この手法は過去の2ステップの情報を利用する、  \n",
        "陽(explicit)解法かつ２段法(2-step method)となっている。\n",
        "\n",
        "\n",
        "同様にして、一般に$m$ステップのAB法($n-1$次のLegendre補間を使用)は$m$次公式を与える。  \n",
        "たとえば4次公式は$x_{i+1}=x_i + \\frac{h}{24}(-9f_{i-3} + 37f_{i-2} -59f_{i-1} +55f_{i})$\n",
        "\n",
        "\n"
      ]
    },
    {
      "cell_type": "markdown",
      "metadata": {
        "id": "40VvY7-xRbXC"
      },
      "source": [
        "**Adams-Bashforth法とRunge-Kutta法の違い**\n",
        "\n",
        "AB法では、過去に評価した$f$の値を用いるため、計算量の増加を防ぐことができる。  \n",
        "つまり、各$f$の評価は１回だけで良い。  \n",
        "一方で、RK4では各ステップで$f$を４回計算する必要がある。\n",
        "\n",
        "これは$f$の評価が複雑な場合  \n",
        "(例えば解きたい微分方程式が行列(連立)になっていて、$f$に行列演算を含む場合など)  \n",
        "Runge-Kutta法よりも、高速に計算できるかもしれない。\n",
        "\n",
        "一方で、$m$次のAB法では過去の情報を利用するため、  \n",
        "はじめの$m-1$回については、RK法などで予め求めておく必要がある。  \n",
        "また、Runge-Kutta法と比較すると、誤差が大きかったり、  \n",
        "数値的に不安定になりやすいことも知られている。"
      ]
    },
    {
      "cell_type": "code",
      "execution_count": null,
      "metadata": {
        "colab": {
          "base_uri": "https://localhost:8080/",
          "height": 225
        },
        "id": "v8lSgfj-jvu5",
        "outputId": "45d3597a-12ff-43bf-eaa5-b24b1f4b6d0c"
      },
      "outputs": [
        {
          "data": {
            "image/png": "[encoded data removed]",
            "text/plain": [
              "<Figure size 720x216 with 1 Axes>"
            ]
          },
          "metadata": {
            "needs_background": "light"
          },
          "output_type": "display_data"
        }
      ],
      "source": [
        "def AB4(x0,m=4):\n",
        "    xsAB = [x0]\n",
        "    x = x0\n",
        "    fs = [ 0.0 for i in range(m)]\n",
        "    for i,t in enumerate(tr):\n",
        "        if len(xsAB) < m : #RK4\n",
        "            f1 = f(x,t)\n",
        "            f2 = f(x+0.5*h*f1, t+0.5*h)\n",
        "            f3 = f(x+0.5*h*f2, t+0.5*h)\n",
        "            f4 = f(x+h*f3, t+h)\n",
        "            x += h*(f1 + 2*f2+ 2*f3 + f4)/6.0\n",
        "            fs[0] = f1; fs[1] = f2; fs[2] = f3; fs[3] = f4\n",
        "        else:\n",
        "            f1,f2,f3 = fs[1:]\n",
        "            f4 = f(x,t)\n",
        "            x += h *(-9*f1 +37*f2 -59*f3 +55*f4 )/24.0 \n",
        "            fs[0] = f1; fs[1] = f2; fs[2] = f3; fs[3] = f4\n",
        "        xsAB += [x]\n",
        "    return xsAB\n",
        "\n",
        "xsAB4 = AB4(x0)\n",
        "#描画\n",
        "fig = plt.figure(figsize=(10,3))\n",
        "plt.xlabel(\"t\");plt.ylabel(\"abs. diff.\")\n",
        "plt.yscale(\"log\")\n",
        "plt.plot(tr,abs(xe-np.array(xs[:-1])),label=\"Euler\")\n",
        "plt.plot(tr,abs(xe-np.array(xsRK4[:-1])),label=\"RK4\")\n",
        "plt.plot(tr,abs(xe-np.array(xsAB4[:-1])),label=\"AB4\")\n",
        "plt.legend()\n",
        "plt.show()\n",
        "plt.close()"
      ]
    },
    {
      "cell_type": "markdown",
      "metadata": {
        "id": "dYfoXPujX-vw"
      },
      "source": [
        "### Adams-Moulton法"
      ]
    },
    {
      "cell_type": "markdown",
      "metadata": {
        "id": "2VU4odEJYEE7"
      },
      "source": [
        "AB法は、現在$i$と過去のステップの情報のみを使用したが、  \n",
        "$i+1$ステップの情報を使う(陰解法)ことで、より高精度の結果を得ることができる。\n",
        "\n",
        "3次のAB法($i-2,i-1,i$の情報)に加えて$i+1$番目の情報を用いて  \n",
        "3次のLagrange補間多項式$P_3(t)=\\sum^2_{j=-1}f_{i-j}L_{i-j}$のもと  \n",
        "$x_{i+1}=x_i + \\sum^2_{j=-2} f_{i+j}  \\int^{t_{i+1}}_{t_i} L_{i+j}(t) dt $\n",
        "という  \n",
        "更新式を考える。愚直に上と同様に各積分を評価すると  \n",
        "$x_{i+1}=x_i + \\frac{h}{24}(f_{i-2}-5f_{i-1}+19f_{i} +9f_{i+1}) $\n",
        "という式が得られる。\n",
        "\n",
        "これは、４次精度の公式になっており、3ステップ(4次)のAdams-Moulton法と呼ばれる。  \n",
        "右辺にある$f_{i+1}$の評価に関する計算コストの分だけ、3次のAB法に比べて増えることになる。\n"
      ]
    },
    {
      "cell_type": "markdown",
      "metadata": {
        "id": "yI-0E3olcM4m"
      },
      "source": [
        "### Adams-Bashforth-Moulton法"
      ]
    },
    {
      "cell_type": "markdown",
      "metadata": {
        "id": "eLY3gCIokyI1"
      },
      "source": [
        "AM法とAB法を組み合わせることで、使いやすい高精度な陽解法を作ろう  \n",
        "というのが予測子修正子法の発想である。\n",
        "\n",
        "4ステップのAB法を予測子, 4ステップのAM法を修正子として採用すると  \n",
        "以下の更新式が得られる:\n",
        "\n",
        "$\\begin{align}\n",
        "x^{P}_{i+1} &= x_i + \\frac{h}{24}(-9f_{i-3}+37f_{i-2}-59f_{i-1}+55f_i) \\\\\n",
        "x_{i+1} &= x_i + \\frac{h}{24}(f_{i-2}-5f_{i-1}+19f_i + 9f(t_{i+1},x^P_{i+1}))\n",
        "\\end{align}\n",
        "$\n"
      ]
    },
    {
      "cell_type": "code",
      "execution_count": null,
      "metadata": {
        "colab": {
          "base_uri": "https://localhost:8080/",
          "height": 225
        },
        "id": "xu2CrHFXFh_p",
        "outputId": "7c978fc2-0411-46a9-c1cb-cb48ceaee61c"
      },
      "outputs": [
        {
          "data": {
            "image/png": "[encoded data removed]",
            "text/plain": [
              "<Figure size 720x216 with 1 Axes>"
            ]
          },
          "metadata": {
            "needs_background": "light"
          },
          "output_type": "display_data"
        }
      ],
      "source": [
        "def ABM(x0,m=4):\n",
        "    xsABM = [x0]\n",
        "    x = x0\n",
        "    fs = [ 0.0 for i in range(m)]\n",
        "    for i,t in enumerate(tr):\n",
        "        if len(xsABM) < m : #RK4\n",
        "            f1 = f(x,t)\n",
        "            f2 = f(x+0.5*h*f1, t+0.5*h)\n",
        "            f3 = f(x+0.5*h*f2, t+0.5*h)\n",
        "            f4 = f(x+h*f3, t+h)\n",
        "            x += h*(f1 + 2*f2+ 2*f3 + f4)/6.0\n",
        "            fs[0] = f1; fs[1] = f2; fs[2] = f3; fs[3] = f4\n",
        "        else:\n",
        "            f1,f2,f3 = fs[1:]; f4 = f(x,t)\n",
        "            ## 予測子\n",
        "            xp = x + h *(-9*f1+37*f2-59*f3+55*f4) / 24.0            \n",
        "            f5 = f(xp,t+h)\n",
        "            ## 修正子\n",
        "            x += h *(f2 -5*f3 +19*f4 +9*f5 )/24.0 \n",
        "            fs[0] = f1; fs[1] = f2; fs[2] = f3; fs[3] = f4\n",
        "        xsABM += [x]\n",
        "    return xsABM\n",
        "\n",
        "xsABM = ABM(x0)\n",
        "fig = plt.figure(figsize=(10,3))\n",
        "plt.xlabel(\"t\");plt.ylabel(\"abs. diff.\");plt.yscale(\"log\")\n",
        "plt.plot(tr,abs(xe-np.array(xs[:-1])),label=\"Euler\")\n",
        "plt.plot(tr,abs(xe-np.array(xsRK4[:-1])),label=\"RK4\")\n",
        "plt.plot(tr,abs(xe-np.array(xsAB4[:-1])),label=\"AB4\")\n",
        "plt.plot(tr,abs(xe-xsABM[:-1]),label=\"ABM4\")\n",
        "plt.legend();plt.show();plt.close()"
      ]
    },
    {
      "cell_type": "markdown",
      "metadata": {
        "id": "6DUB18TOpj-9"
      },
      "source": [
        "1桁程度、AB法よりも精度が改善していることがわかる。"
      ]
    }
  ],
  "metadata": {
    "colab": {
      "collapsed_sections": [],
      "include_colab_link": true,
      "name": "Python_misc_ODE.ipynb",
      "provenance": []
    },
    "kernelspec": {
      "display_name": "Python 3",
      "name": "python3"
    },
    "language_info": {
      "name": "python"
    }
  },
  "nbformat": 4,
  "nbformat_minor": 0
}
