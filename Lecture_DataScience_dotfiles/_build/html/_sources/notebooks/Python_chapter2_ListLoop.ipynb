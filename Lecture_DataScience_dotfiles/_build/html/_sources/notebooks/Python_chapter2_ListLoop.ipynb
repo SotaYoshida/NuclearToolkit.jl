{
  "cells": [
    {
      "cell_type": "markdown",
      "metadata": {
        "colab_type": "text",
        "id": "view-in-github"
      },
      "source": [
        "<a href=\"https://colab.research.google.com/github/SotaYoshida/Lecture_DataScience/blob/main/notebooks/Python_chapter2_ListLoop.ipynb\" target=\"_parent\"><img src=\"https://colab.research.google.com/assets/colab-badge.svg\" alt=\"Open In Colab\"/></a>"
      ]
    },
    {
      "cell_type": "markdown",
      "metadata": {
        "id": "9f041YDhyHKb"
      },
      "source": [
        "# Pythonの基本 その２: \n",
        "\n",
        "\n",
        "[この章の目的]\n",
        "プログラミングで非常に重要な概念である配列や繰り返し処理について学ぶ。\n"
      ]
    },
    {
      "cell_type": "markdown",
      "metadata": {
        "id": "FxEjmIHu3StG"
      },
      "source": [
        "## リスト\n",
        "\n",
        "実際にいろんなデータを扱う際には、値や変数をまとめて処理したくなります。\n",
        "こうしたときに必要になるのが以下で扱う**リスト**型を始めとする**配列**です。\n",
        "\n",
        "リストは、値や変数などを括弧[ ]で括り、カンマで区切ることで作ることができます。\n",
        "例: ```[1.0, 2.0, 3.0]```  \n",
        "また好きな名前の変数にリストを代入する(リストに名前を割り振る)こともできます"
      ]
    },
    {
      "cell_type": "code",
      "execution_count": null,
      "metadata": {
        "id": "dxpkCjfvjsDD"
      },
      "outputs": [],
      "source": [
        "heights=[178.0, 180.0, 153.0]\n",
        "\n",
        "# 変数heightsをprint\n",
        "print(heights)\n",
        "\n",
        "# 変数heightsの型をprint\n",
        "print(\"変数aの型(type)は\", type(heights))  "
      ]
    },
    {
      "cell_type": "markdown",
      "metadata": {
        "id": "CI7AqILkzWYY"
      },
      "source": [
        "リストの要素にできるのは数値だけではなく、文字列のリストも作ることができます。"
      ]
    },
    {
      "cell_type": "code",
      "execution_count": null,
      "metadata": {
        "id": "a7c5bw5O36CC"
      },
      "outputs": [],
      "source": [
        "names = [ \"Aさん\", \"Bさん\", \"宇大太郎さん\"]"
      ]
    },
    {
      "cell_type": "markdown",
      "metadata": {
        "id": "SkfATN0Jj_Oo"
      },
      "source": [
        "リストに入っている要素の数は、`len()`関数(lengthの略)で見ることができます。"
      ]
    },
    {
      "cell_type": "code",
      "execution_count": null,
      "metadata": {
        "id": "nexyb9lAkJC0"
      },
      "outputs": [],
      "source": [
        "print(\"リストnamesは\", names)\n",
        "print(\"長さは\", len(names))"
      ]
    },
    {
      "cell_type": "markdown",
      "metadata": {
        "id": "7NWIj0tWzxGa"
      },
      "source": [
        "当然、長さに名前をつけて適当な変数として定義することもできます。\n",
        "**関数の出力の結果を何度も後で再利用する場合**などは、このように変数に代入しておくと便利です。\n"
      ]
    },
    {
      "cell_type": "code",
      "execution_count": null,
      "metadata": {
        "id": "yQWDGLFCmszW"
      },
      "outputs": [],
      "source": [
        "ln_a = len(names)\n",
        "print(\"リストaの長さは\", len(names), \"で、型は\", type(ln_a)) "
      ]
    },
    {
      "cell_type": "markdown",
      "metadata": {
        "id": "gjwXE2cJz05q"
      },
      "source": [
        "文字列と値を組み合わせたようなリストも作ることができます。  \n",
        "例：名前、身長、体重 => ```[\"Aさん\", 178, 66]```\n",
        "\n",
        "また、これを拡張して、入れ子に(リストのリストを作成)することもできます。\n",
        "``` [ [\"Aさん\", 178,66], [\"Bさん\", 180, 70] ]```"
      ]
    },
    {
      "cell_type": "markdown",
      "metadata": {
        "id": "8kVQe42tkK-D"
      },
      "source": [
        "### リストの要素にアクセスする, インデックス(index)\n",
        "\n",
        "リストの中の要素にアクセスするときは、半角括弧を使って[整数]といった形で\"番地\"を指定します。  \n",
        "このときの番地(あるいは座標といっても良いですが)を指定する整数のことをインデックス(index)と呼びます。\n",
        "\n",
        "**【重要】Pythonでは要素にアクセスするためのインデックスは１からではなく、0からカウントします!**\n"
      ]
    },
    {
      "cell_type": "code",
      "execution_count": null,
      "metadata": {
        "id": "kRMlRuwhj2Rc"
      },
      "outputs": [],
      "source": [
        "a = [\"Aさん\", 178, 66]\n",
        "print(a[0])\n",
        "print(a[1])\n",
        "print(a[2])"
      ]
    },
    {
      "cell_type": "markdown",
      "metadata": {
        "id": "Ci65y6MBoSvU"
      },
      "source": [
        "ですので、`a[3]`にアクセスしようとすると、\n"
      ]
    },
    {
      "cell_type": "code",
      "execution_count": null,
      "metadata": {
        "id": "mkON3qP1occT"
      },
      "outputs": [],
      "source": [
        "print(a[3])"
      ]
    },
    {
      "cell_type": "markdown",
      "metadata": {
        "id": "zHlSjTaJn9UU"
      },
      "source": [
        "list index out of range (リストのインデックスが用意された範囲(range)を逸脱している)というエラーが出ます。  \n",
        "慣れないうちは0からカウントするのを変に思うかもしれませんが、これはプログラミング言語の仕様によるもので、Pythonの他にもC/C++なども0からカウントします。(ちなみにFORTRAN, Juliaなどは1からカウントします。)\n",
        "\n",
        "こうした0-based indexingと呼ばれる言語の利点はいくつかありますが、代表的なものは負のインデックスが自然に使えることでしょうか？\n",
        "\n",
        "理工系分野では、教科書などで行列やベクトルの要素を指定するのに1-based indexingを使うことも多いため、混乱するかもしれません。慣れるまでは注意が必要です。"
      ]
    },
    {
      "cell_type": "code",
      "execution_count": null,
      "metadata": {
        "id": "D_hxwmblo4GK"
      },
      "outputs": [],
      "source": [
        "a = [\"Aさん\", 178, 66]\n",
        "print(a)\n",
        "print(a[-1])\n",
        "print(a[-2])\n",
        "print(a[-3])"
      ]
    },
    {
      "cell_type": "markdown",
      "metadata": {
        "id": "--1OHCHKo9An"
      },
      "source": [
        "`[-1]`でアクセスすれば末尾の要素に、`[-2]`番目の要素は後ろから二番目といった具合です。\n",
        "\n",
        "長いリストを作って「えっとこれ前から何番目の要素だったっけ...？」というときに、  \n",
        "後ろからX番目の要素といったように、サクッと取得できるのが便利なときもあります。\n",
        "\n",
        "入れ子にしたリストの要素を見たり、使いたいときには、少々慣れが必要です。  \n",
        "```a = [ [[1,2], [3,4]], 5, 6]```  \n",
        "このような場合では、一番外側の括弧から数えて、  \n",
        "何番目の階層になっているかを考えることが必要になります。  \n",
        "練習してみましょう。\n"
      ]
    },
    {
      "cell_type": "markdown",
      "metadata": {
        "id": "_yXPKxkk1XYh"
      },
      "source": [
        "**練習**\n",
        "\n",
        ":::{margin} 変数名の規則\n",
        "授業の資料のように、一時的な変数を使う場合は`a`や`tmp`といった意味のない変数名で十分なのですが\n",
        "自身でいろんなコードを書くときは**後で自分や他人が見たときになんの変数のつもりか分かる**ような変数名にしましょう。\n",
        "5日後の自分も他人のようなものです。\n",
        ":::\n",
        "1.   [+コード]でセルを以下に追加し、下のリストを作成する  \n",
        "    ```tmp = [ [\"Aさん\", 178,66], [\"Bさん\", 180, 70] ]```\n",
        "2.    ```tmp[i][j]```のi,jに可能な整数を入れて、Aさんの身長、Bさんの体重などをprint関数で表示してみましょう。\n",
        "3.   2.と同じことを、負のインデックスを駆使してやってみましょう。\n",
        "4.   ```a = [ [[1,2], [3,4]], 5, 6]```を作成して、\n",
        "     len(a[0]) #0番目の要素の数をprintしてみましょう。\n",
        "5.   ```print(a[0][0][1])```を実行してみましょう。\n",
        "6.   4.5.の挙動から推測して、aのリストの中から４を取り出したい場合どうすればいいのかprint関数を使いながら考えてみましょう。\n",
        "\n",
        "\n",
        ":::{note}\n",
        "テキストセルの内容をコードセルなどにコピー&ペーストしたければ、対象をドラッグして、`Ctrl+C`でコピー,`Ctrl+V`でペースト出来ます(Macの場合は`Ctrl`を`⌘`に置き換えてください)\n",
        ":::"
      ]
    },
    {
      "cell_type": "markdown",
      "metadata": {
        "id": "ZB9epIx_VAQ6"
      },
      "source": [
        "### リストの結合\n",
        "\n",
        "２つのリストを結合することもできます。"
      ]
    },
    {
      "cell_type": "code",
      "execution_count": null,
      "metadata": {
        "id": "YUsuP81s3_BG"
      },
      "outputs": [],
      "source": [
        "a=[1,3]\n",
        "b=[2,4]\n",
        "c= a+b\n",
        "print(c)"
      ]
    },
    {
      "cell_type": "markdown",
      "metadata": {
        "id": "hfEDbcvd6bFE"
      },
      "source": [
        "\n",
        "上のリストを\"座標\"だと思えば、要素ごとの和になってほしいような気もしますが、リストの足し算は要素ごとの和ではなく\"リストの結合\"を意味します。\n",
        "\n",
        "> 補足: 要素ごとの和のような、数学などで必要な演算は以降で扱う```numpy```というモジュールを使って`ndarray`型と呼ばれるものにすれば簡単に実行できます\n"
      ]
    },
    {
      "cell_type": "markdown",
      "metadata": {
        "id": "CDhimmq_0x-q"
      },
      "source": [
        "長さや階層の異なる2つのリストでも可能です."
      ]
    },
    {
      "cell_type": "code",
      "execution_count": null,
      "metadata": {
        "id": "b3DFZtE602hP"
      },
      "outputs": [],
      "source": [
        "c=[1,2,\"Aさん\"]\n",
        "d=[[5,6],[7,8]]\n",
        "c+d"
      ]
    },
    {
      "cell_type": "markdown",
      "metadata": {
        "id": "ovAjU_321ROI"
      },
      "source": [
        "### リストに要素を加える"
      ]
    },
    {
      "cell_type": "markdown",
      "metadata": {
        "id": "s568X9r-4c6J"
      },
      "source": [
        "リストにあとから要素を加えたくなるときもあります.  \n",
        "そんなときは ```append```関数か```+=```を使います。"
      ]
    },
    {
      "cell_type": "code",
      "execution_count": null,
      "metadata": {
        "id": "b_1nWHpd4ptJ"
      },
      "outputs": [],
      "source": [
        "A = [\"Aさん\", 178,66] \n",
        "A.append(\"O型\")\n",
        "print(\"A\", A)\n",
        "\n",
        "B = [ \"Bさん\", 180,70] \n",
        "B += [\"A型\"]\n",
        "print(B)"
      ]
    },
    {
      "cell_type": "markdown",
      "metadata": {
        "id": "qpkIcDzA8S4X"
      },
      "source": [
        "厳密には両者は違うのですが、この授業では見た目がスッキリするので後者をよく使います。  \n",
        "入れ子のリストを作るときは"
      ]
    },
    {
      "cell_type": "code",
      "execution_count": null,
      "metadata": {
        "id": "lqfalNz788Rx"
      },
      "outputs": [],
      "source": [
        "data = [ ]\n",
        "data +=  [ [\"Aさん\",178,66] ]\n",
        "data +=  [ [\"Bさん\",180,70] ]\n",
        "print(\"data\", data)"
      ]
    },
    {
      "cell_type": "markdown",
      "metadata": {
        "id": "wT8k9-LB9Y74"
      },
      "source": [
        "などとする。空リストに既存(新規)のリストを追加したいときに、上のように`［ ］`が二重に必要な理由はリスト同士の和の演算が結合となることから理解できる。\n",
        "実際に1重の括弧で試してみよう:"
      ]
    },
    {
      "cell_type": "code",
      "execution_count": null,
      "metadata": {
        "id": "GRI40dgS1U-u"
      },
      "outputs": [],
      "source": [
        "data2 = [ ]\n",
        "data2 +=  [\"Aさん\", 178,66] # １重カッコ これだと右辺のリストを空リストに結合することになる\n",
        "data2 +=  [ \"Bさん\",180,70] # これも同様\n",
        "print(data2)\n",
        "print(\"data2\", data2)"
      ]
    },
    {
      "cell_type": "markdown",
      "metadata": {
        "id": "u3Q7Qi8mnE4l"
      },
      "source": [
        "こうしてしまう(リスト同士の単なる結合)と、人ごとにデータが区切られていないので扱うのに不便となる。\n",
        "\n",
        "リストに格納する情報に血液型を加えたりする際は以下のようにすればよい"
      ]
    },
    {
      "cell_type": "code",
      "execution_count": null,
      "metadata": {
        "id": "_l9GJWZ98srB"
      },
      "outputs": [],
      "source": [
        "### 名前,身長,体重,血液型,住んでる市区町村のリストを\n",
        "a = [ \"Aさん\", 178, 66, \"A型\"]\n",
        "print(a)\n",
        "a += [\"宇都宮市\"]\n",
        "print(\"住所追加後\", a)"
      ]
    },
    {
      "cell_type": "markdown",
      "metadata": {
        "id": "cdCiouyW2oqJ"
      },
      "source": [
        "リストの要素は後から更新することもできます.\n",
        "\n"
      ]
    },
    {
      "cell_type": "code",
      "execution_count": null,
      "metadata": {
        "id": "XIATihMK9Lh6"
      },
      "outputs": [],
      "source": [
        "data =  [ [\"Aさん\", 178,66],[\"Bさん\",180,70]  ]"
      ]
    },
    {
      "cell_type": "markdown",
      "metadata": {
        "id": "vdRIu-li9Oqe"
      },
      "source": [
        "というリストがあったとして、Aさんの体重を修正したければ、"
      ]
    },
    {
      "cell_type": "code",
      "execution_count": null,
      "metadata": {
        "id": "fZ0mjwjn2uXd"
      },
      "outputs": [],
      "source": [
        "data[0][2] = 58 #Aさんの体重を更新\n",
        "print(data) #リストを表示"
      ]
    },
    {
      "cell_type": "markdown",
      "metadata": {},
      "source": [
        "血液型を追加したければ以下のようにすればよい。"
      ]
    },
    {
      "cell_type": "code",
      "execution_count": null,
      "metadata": {},
      "outputs": [],
      "source": [
        "data[0] += [ \"A型\"]\n",
        "data[1] += [ \"B型\"]\n",
        "\n",
        "print(data)"
      ]
    },
    {
      "cell_type": "markdown",
      "metadata": {
        "id": "a0gQkWzeUqgj"
      },
      "source": [
        "### インデックスの取得"
      ]
    },
    {
      "cell_type": "markdown",
      "metadata": {
        "id": "V_MaDugdUs2T"
      },
      "source": [
        "\n",
        "```index```関数を使ってリスト内の、[興味のある要素]のインデックスを取得することができます。"
      ]
    },
    {
      "cell_type": "code",
      "execution_count": null,
      "metadata": {
        "id": "DsvZFrmmU4iz"
      },
      "outputs": [],
      "source": [
        "tlist = [ \"いちご\", \"りんご\", \"ぶどう\"]\n",
        "tlist.index(\"りんご\")"
      ]
    },
    {
      "cell_type": "markdown",
      "metadata": {
        "id": "ZIyt7579U7bR"
      },
      "source": [
        "重複する要素がある場合、初めにヒットしたインデックスを返します。"
      ]
    },
    {
      "cell_type": "code",
      "execution_count": null,
      "metadata": {
        "id": "WD1qkBNvU8fH"
      },
      "outputs": [],
      "source": [
        "tlist2 = [ \"いちご\", \"りんご\", \"ぶどう\",\"メロン\",\"りんご\"]\n",
        "tlist2.index(\"りんご\")"
      ]
    },
    {
      "cell_type": "markdown",
      "metadata": {
        "id": "97rfD_PvVKU2"
      },
      "source": [
        "複雑なデータを扱う際に「あれ、あの要素ってどこの番地にあるんだっけ？」といった状況に便利な関数です。"
      ]
    },
    {
      "cell_type": "markdown",
      "metadata": {
        "id": "rYMz3ClOhp9D"
      },
      "source": [
        "### スライスを用いた部分リストの取得"
      ]
    },
    {
      "cell_type": "markdown",
      "metadata": {
        "id": "GSRzB_IPiPCO"
      },
      "source": [
        "以下の```a```のようなリストがあったとき、"
      ]
    },
    {
      "cell_type": "code",
      "execution_count": null,
      "metadata": {
        "id": "mkyfjA4ZiPtu"
      },
      "outputs": [],
      "source": [
        "a= [ \"years\", 1990, 1995, 2000, 2005, 2010, 2015, 2020]"
      ]
    },
    {
      "cell_type": "markdown",
      "metadata": {
        "id": "0WmC8_qwiZPi"
      },
      "source": [
        "始点,コロン(`:`),終点でインデックスの範囲を指定して、部分的に取り出すことが出来ます。"
      ]
    },
    {
      "cell_type": "code",
      "execution_count": null,
      "metadata": {
        "id": "z2fish5zixSf"
      },
      "outputs": [],
      "source": [
        "a[2:5]"
      ]
    },
    {
      "cell_type": "markdown",
      "metadata": {
        "id": "COx3lOQZjCFo"
      },
      "source": [
        "終点のインデックスに相当する要素は取り出されないことに注意しましょう。  "
      ]
    },
    {
      "cell_type": "code",
      "execution_count": null,
      "metadata": {
        "id": "XasfLIqRjHbe"
      },
      "outputs": [],
      "source": [
        "a[1:]"
      ]
    },
    {
      "cell_type": "markdown",
      "metadata": {
        "id": "sG4YvJTQjIE0"
      },
      "source": [
        "とすると、最後の要素まで含まれます。\n"
      ]
    },
    {
      "cell_type": "markdown",
      "metadata": {
        "id": "LWya_HtMjKXw"
      },
      "source": [
        "負のインデックスを使用することもできます。"
      ]
    },
    {
      "cell_type": "code",
      "execution_count": null,
      "metadata": {
        "id": "MKJ5-cJPi_xy"
      },
      "outputs": [],
      "source": [
        "a[1:-1]"
      ]
    },
    {
      "cell_type": "markdown",
      "metadata": {
        "id": "BsLWAvmb3JDd"
      },
      "source": [
        "### $\\clubsuit$ リスト操作の注意点 \n",
        "\n",
        "授業で扱う程度の内容のプログラミングに関する疑問は、ググれば自分でだいたい解決することができます。   \n",
        "ただしこの項目で述べることは(初学者にとって)「直感に反するのだけど、どこがおかしいのか分からないので**そもそもどうググっていいかが分からない**」という点で、少し事情が異なります。  \n",
        "\n",
        "例を見せるために、以下の2種類のリストを用意します.\n"
      ]
    },
    {
      "cell_type": "code",
      "execution_count": null,
      "metadata": {
        "id": "IUJ1-lAY3T0n"
      },
      "outputs": [],
      "source": [
        "data1 = [[ \"Aさん\", 178,66], [ \"Bさん\",180,70] ]\n",
        "tmp = [\"Aさん\", 178,66]\n",
        "data2 =[ tmp, tmp] \n",
        "\n",
        "print(\"data1\", data1)\n",
        "print(\"data2\", data2)"
      ]
    },
    {
      "cell_type": "markdown",
      "metadata": {
        "id": "t2FS4d0U3-rq"
      },
      "source": [
        "`data2`のようにまず雛形のリスト`tmp`を作って人数分の長さを持つリストを作ってから中身を編集しようと考えた場合、"
      ]
    },
    {
      "cell_type": "code",
      "execution_count": null,
      "metadata": {
        "id": "w-uX1Alb4OOi"
      },
      "outputs": [],
      "source": [
        "data2[1][0]=\"Bさん\"\n",
        "data2[1][1]=180\n",
        "data2[1][2]=70"
      ]
    },
    {
      "cell_type": "markdown",
      "metadata": {
        "id": "iQwPT_WN4WG_"
      },
      "source": [
        "という操作を思いつきます。このとき、`data2`の2つ目(０から数えて1番目)の要素だけを編集したつもりでも`data2`を`print`すると\n"
      ]
    },
    {
      "cell_type": "code",
      "execution_count": null,
      "metadata": {
        "id": "rkK0uOpz4huX"
      },
      "outputs": [],
      "source": [
        "print(data2)"
      ]
    },
    {
      "cell_type": "markdown",
      "metadata": {
        "id": "rVVjGsPu4jhj"
      },
      "source": [
        "data2の最初の要素(Aさんのままであってほしいリスト)まで上書きされてしまっています。  \n",
        "これは直感に反しているという点で、初学者が陥りやすい落とし穴です。\n",
        "\n",
        "※C言語などを学習していれば、参照渡し(ポインタ渡し)などである程度馴染みがあるかもしれません。\n",
        "\n",
        "「値を格納する箱というよりは値が保管される住所を示すもの」と1章の[変数の定義と簡単な演算]のところで書きました。  \n"
      ]
    },
    {
      "cell_type": "code",
      "execution_count": null,
      "metadata": {
        "id": "xt1Q_B0f5QYL"
      },
      "outputs": [],
      "source": [
        "tmp = [\"Aさん\", 178,66]\n",
        "data2 =[ tmp, tmp] \n",
        "print(id(data2[0]), id(data2[1])) #それぞれのidを調べてprint\n",
        "print(\"idが等しいか\", id(data2[0])== id(data2[1])) #id()は変数のidを確認する関数"
      ]
    },
    {
      "cell_type": "markdown",
      "metadata": {
        "id": "HktuZ7f85_FY"
      },
      "source": [
        "今の場合、`data2`を最初に作ったときには0番目と1番目の要素(リスト)は同一の`id`を持つ`tmp`というリストです。  \n",
        "したがって`tmp`の中身を書き換える操作(`data2[1][0]=\"Bさん\"`)は、`tmp`の更新を通して`data2`の要素いずれもに影響します。\n",
        "\n"
      ]
    },
    {
      "cell_type": "markdown",
      "metadata": {
        "id": "LU95twWnrFGG"
      },
      "source": [
        "このように、(特に)リストを入れ子にする際には、注意が必要です。なんかへんだな？と思ったときは要素の`id`に気を配ってみるのも重要です.  \n",
        "上のコードで、意図したものと違う挙動を起こした原因は、リスト`tmp`を参照する形で`data2`を作ったことでした。  \n",
        "これは`copy`モジュールの`copy`関数を用いて配列のコピーを作成することで回避できます。(モジュールについては4章で説明します)"
      ]
    },
    {
      "cell_type": "code",
      "execution_count": null,
      "metadata": {
        "id": "Bor6WGZzrIXO"
      },
      "outputs": [],
      "source": [
        "import copy #copyというモジュールをインポートする\n",
        "tmp=[\"Aさん\",178,66]\n",
        "data2 = [ copy.copy(tmp), copy.copy(tmp)]\n",
        "print(id(data2[0]) == id(data2[1])) # ← data2の0番目と1番目のidが同じ(参照元が同じ)だと困るのでFalseであってほしい"
      ]
    },
    {
      "cell_type": "markdown",
      "metadata": {
        "id": "EZQPPyoaryQS"
      },
      "source": [
        " また、リストのリスト(ネストされたリストといったりします)それ自体をcopyしたいときは、\n",
        "```copy.deepcopy()```を使います。"
      ]
    },
    {
      "cell_type": "code",
      "execution_count": null,
      "metadata": {
        "id": "WkRQ4_klncVY"
      },
      "outputs": [],
      "source": [
        "import copy\n",
        "data = [[ \"Aさん\", 178,66], [\"Bさん\",180,70] ]\n",
        "\n",
        "copydata = copy.copy(data)\n",
        "deepcopydata = copy.deepcopy(data)\n",
        "\n",
        "\n",
        "print(id(data), id(copydata),id(deepcopydata))\n",
        "print(id(data[0]), id(copydata[0]), id(deepcopydata[0]))"
      ]
    },
    {
      "cell_type": "markdown",
      "metadata": {
        "id": "di-HvKQhpV4c"
      },
      "source": [
        "上を見ると```data```というリストと```copydata```という\"リスト同士\"が異なるidを持っていても、それぞれの0番目の要素のidを見てみると、同じものを参照していることがわかります。  \n",
        "このように、ネストされたリストをコピーして別々に扱いたい場合は特に注意が必要で、```deepcopy```のような作業が必要となります。(私も初めてプログラミングで配列を使ったときに、この点に気が付かずに時間をかなり溶かしました)\n",
        "\n"
      ]
    },
    {
      "cell_type": "markdown",
      "metadata": {
        "id": "66r8pzgrfwOi"
      },
      "source": [
        "## 条件分岐 (if文)\n",
        "\n",
        "`if`文では、書かれた条件が成立した場合、後に続くブロックを実行します。  \n",
        "`if`文を使って命題の真偽を判定することで、条件分岐を表現することができます。\n",
        "\n"
      ]
    },
    {
      "cell_type": "code",
      "execution_count": null,
      "metadata": {
        "id": "JOz7cyvQf2NX"
      },
      "outputs": [],
      "source": [
        "a=3.0; b =-0.3\n",
        "if a > b: \n",
        "    print(\"aはbよりも大きい\")\n",
        "if b > a:\n",
        "    print(\"bはaよりも大きい\") ##これは呼び出されない"
      ]
    },
    {
      "cell_type": "markdown",
      "metadata": {
        "id": "QF6tLC7agluM"
      },
      "source": [
        "条件を満たすときはA,満たさないときはBをしたい、という場合には```else```を使う。"
      ]
    },
    {
      "cell_type": "code",
      "execution_count": null,
      "metadata": {
        "id": "SacEU4f0gsmv"
      },
      "outputs": [],
      "source": [
        "if a< b:\n",
        "    print(\"aはbよりも小さい\")\n",
        "else:\n",
        "    print(\"a>=b\") "
      ]
    },
    {
      "cell_type": "markdown",
      "metadata": {
        "id": "t0pZV6Ghg31K"
      },
      "source": [
        "```elif```(else ifの略)を用いれば、もう少し複雑な条件を表現することができる。\n",
        "\n",
        "たとえば、もし条件1が満たされればAを実行、条件1は満たされないが条件2が満たされればBを、さらに1も２も満たされない場合はCを実行するという場合は下記のようなコードになる:"
      ]
    },
    {
      "cell_type": "code",
      "execution_count": null,
      "metadata": {
        "id": "a68DTqL-hak5"
      },
      "outputs": [],
      "source": [
        "if a < b: #条件1\n",
        "    print(\"a<b\")\n",
        "elif  a ==b: #条件２\n",
        "    print(\"a=b\")\n",
        "else:\n",
        "    print(\"a>b\")"
      ]
    },
    {
      "cell_type": "markdown",
      "metadata": {
        "id": "fOvfCVFUiL1d"
      },
      "source": [
        "if文は入れ子構造にすることもできる。その際はインデントを使ってブロックを表現する。\n",
        "\n",
        "たとえば`a`が偶数の場合は値をそのまま表示して、`a`が奇数の場合は3の倍数かそうでないかで処理を変える事を考えると、以下のようになる"
      ]
    },
    {
      "cell_type": "code",
      "execution_count": null,
      "metadata": {
        "id": "ioNZB5iAiM_d"
      },
      "outputs": [],
      "source": [
        "if a % 2 == 0 :\n",
        "    print(a)\n",
        "else:\n",
        "    if a % 3 == 0 :\n",
        "        print(str(a)+\"は3の倍数です\")\n",
        "    else:\n",
        "        print(str(a)+\"は3の倍数ではありません\")"
      ]
    },
    {
      "cell_type": "markdown",
      "metadata": {
        "id": "5qWPQPGMii74"
      },
      "source": [
        "`if`文を使って条件分岐を作るときは**条件分岐にモレがないか**注意が必要です。例えば、変数`a`の値によって処理を行う場合"
      ]
    },
    {
      "cell_type": "markdown",
      "metadata": {
        "id": "Tv3MJC6ukVIM"
      },
      "source": [
        "```py\n",
        "if a > 0:\n",
        "  ##　なんらかの処理1\n",
        "if a < 0:\n",
        "  ## なんらかの処理2\n",
        "```\n",
        "\n",
        "と書いてしまうと、`a=0`の場合、`if`文を２つともすり抜けてしまい、バグの原因になることがあります。はじめのうちは少々面倒でも```else```を使って、意図しないすり抜けがないかチェックするのが良いでしょう。  "
      ]
    },
    {
      "cell_type": "code",
      "execution_count": null,
      "metadata": {
        "id": "2oZ3vaYb3s1t"
      },
      "outputs": [],
      "source": [
        "a = 0 #aをいろんな値に変えて実行してみてください\n",
        "if a > 0: #aが0より大きい場合\n",
        "    print(\"処理1:a+2=\", a+2)\n",
        "elif a<0:    \n",
        "    print(\"処理2:a*2=\", a*2)    \n",
        "else:\n",
        "    print(\"ゼロだよ？なんにもしなくていいの？\")"
      ]
    },
    {
      "cell_type": "markdown",
      "metadata": {
        "id": "1ecruqL3pHA4"
      },
      "source": [
        "## ループ処理\n",
        "\n",
        "ループ処理は、プログラミングの中で**最も重要な概念の一つ**です。  \n",
        "ループ処理を使うことで、同じ処理を繰り返し行うことができます。\n",
        "\n",
        "\n"
      ]
    },
    {
      "cell_type": "markdown",
      "metadata": {
        "id": "cQKuOTIcJxYE"
      },
      "source": [
        "### for文"
      ]
    },
    {
      "cell_type": "markdown",
      "metadata": {
        "id": "-hI7Tnwf79LU"
      },
      "source": [
        "まず以下のコードを実行してみましょう:"
      ]
    },
    {
      "cell_type": "code",
      "execution_count": null,
      "metadata": {
        "id": "VgjXia0upIya"
      },
      "outputs": [],
      "source": [
        "for i in range(5):\n",
        "    print(i)"
      ]
    },
    {
      "cell_type": "markdown",
      "metadata": {
        "id": "vLdv2seGpj7Z"
      },
      "source": [
        "上のコードは、\n",
        ">iを0から4まで変化させながらiをprintする作業を繰り返しなさい\n",
        "\n",
        "という処理になっています。順番に見ていきましょう:  \n",
        "まず`range()`関数は、`range`型のオブジェクトを生成する関数で、`range(5)`は0から整数を5つ(0,1,2,3,4)を生成する関数です。やはり0始まりで、5が含まれないことに注意です。  \n",
        "なお`range`関数の引数を`range(始点,終点,間隔)`と3つにすると、より複雑な整数の集合を作ることもできます。 \n",
        "\n",
        "\n",
        "\n"
      ]
    },
    {
      "cell_type": "code",
      "execution_count": null,
      "metadata": {
        "id": "HJ_Q30y-qNZv"
      },
      "outputs": [],
      "source": [
        "for i in range(0,6,2):\n",
        "    print(i) #やはり6は含まれないことに注意"
      ]
    },
    {
      "cell_type": "markdown",
      "metadata": {
        "id": "YMq8UkMY1UVt"
      },
      "source": [
        "```in```(予約語なので色が変わってますね)は、`i`に`range()`で指定した数値の範囲(リストみたいなもの)を順番に突っ込んでいく関数と理解しておけばひとまずOKです。\n",
        "\n",
        "次に、リストの中身を順番に表示させてみましょう。"
      ]
    },
    {
      "cell_type": "code",
      "execution_count": null,
      "metadata": {
        "id": "DosIH6zO1aeW"
      },
      "outputs": [],
      "source": [
        "kudamono = [\"いちご\", \"りんご\",\"ぶどう\",\"メロン\"] #リストを定義\n",
        "for tmp in kudamono:\n",
        "    print(tmp)"
      ]
    },
    {
      "cell_type": "markdown",
      "metadata": {
        "id": "Mi49kwOX1iJ0"
      },
      "source": [
        "上のコードでは、`tmp`という変数に`kudamono`というリストの中身が順番に当てはめられている事がわかります。  \n",
        "ループを用いてリストの中身にアクセスする方法は主に2通りで、\n",
        "\n",
        "1. インデックスのループを回してリストにアクセスする\n",
        "2. リストの要素に順番にアクセスする\n",
        "\n",
        "で、上のコードは2.に相当します。上の例で、1.の方法を採る場合は"
      ]
    },
    {
      "cell_type": "code",
      "execution_count": null,
      "metadata": {
        "id": "SnMf5IBXAtuY"
      },
      "outputs": [],
      "source": [
        "for i in range( len(kudamono) ) :\n",
        "    print( kudamono[i] )"
      ]
    },
    {
      "cell_type": "markdown",
      "metadata": {
        "id": "QbiNRP3tAwgD"
      },
      "source": [
        "とすればよいです。\n",
        "\n",
        "インデックスと要素を同時に取得して使いたいときには```enumerate```関数を使って"
      ]
    },
    {
      "cell_type": "code",
      "execution_count": null,
      "metadata": {
        "id": "1sBjeAU3A8CJ"
      },
      "outputs": [],
      "source": [
        "for i, tmp in enumerate(kudamono):\n",
        "    print(i, tmp)"
      ]
    },
    {
      "cell_type": "markdown",
      "metadata": {
        "id": "_iaSPpKgBBha"
      },
      "source": [
        "とします。これによって○泉○次郎構文を作ることもできます。"
      ]
    },
    {
      "cell_type": "code",
      "execution_count": null,
      "metadata": {
        "id": "3tNkMDDMBLi0"
      },
      "outputs": [],
      "source": [
        "for i, tmp in enumerate(kudamono):\n",
        "    print(tmp,\"は\"+str(i)+\"番目です\",str(i)+\"番目というのは0から数えて\"+str(i)+\"番だということです。\")"
      ]
    },
    {
      "cell_type": "markdown",
      "metadata": {
        "id": "s_IqtFV6rvKv"
      },
      "source": [
        "### ブロックとインデント"
      ]
    },
    {
      "cell_type": "markdown",
      "metadata": {
        "id": "FE1LiUrVqrbU"
      },
      "source": [
        "さて、上の`for`文のコードには、関数の前に半角スペースが4つあるのに気がついたでしょうか?  \n",
        "Pythonでは、`for`文を始め様々な処理の際に一連の作業\"ブロック\"を、**半角スペース4つ分**インデントを下げることで表現します。\n",
        "\n",
        "下のように、`for`文を使っているにも関わらず正しくインデントされていない場合はエラーが出ます。"
      ]
    },
    {
      "cell_type": "code",
      "execution_count": null,
      "metadata": {
        "id": "ItpayRhWyBIZ"
      },
      "outputs": [],
      "source": [
        "for i in range(2):\n",
        "print(i)"
      ]
    },
    {
      "cell_type": "markdown",
      "metadata": {
        "id": "z1T_hDMgyCHI"
      },
      "source": [
        "さて簡単な例でブロックごとの処理の挙動を確認しておきましょう。  \n",
        "\n",
        "**練習問題**  \n",
        "\n",
        "以下のコードを実行すると、何回数字がprintされるでしょうか？  \n",
        "コードを実行する前に、三択で答えてみてください。  \n",
        "\n",
        "A. 8回\n",
        "\n",
        "B. 11回\n",
        "\n",
        "C. 13回"
      ]
    },
    {
      "cell_type": "code",
      "execution_count": null,
      "metadata": {
        "id": "qM5QYdcJs5O-"
      },
      "outputs": [],
      "source": [
        "for i in range(2):\n",
        "    print(i)    \n",
        "    for j in range(5):\n",
        "        print(i,j)\n",
        "print(i,j)"
      ]
    },
    {
      "cell_type": "markdown",
      "metadata": {
        "id": "tZxftTZBszWq"
      },
      "source": [
        "`i`に関する繰り返し(ループとも呼びます)は、i=0,1の２回で、インデントが1ブロック下げられた操作を実行しますので、\n",
        "`print(i)`を2回と、`j`に関するループを２回繰り返します。`j`はj=0,1,2,3,4をとり、`j`のループでは```print(i,j)```は合計2×5=10回呼ばれます。最後の行にある```print(i,j)```はどのループ(ブロック)の中にも入っていませんから、実行されるのは1回だけです。  \n",
        "ということで、答えはC.の13回でした。\n"
      ]
    },
    {
      "cell_type": "markdown",
      "metadata": {
        "id": "llWzeLsx2kDq"
      },
      "source": [
        "慣れないうちは"
      ]
    },
    {
      "cell_type": "code",
      "execution_count": null,
      "metadata": {
        "id": "VAgzCZ6K2lUI"
      },
      "outputs": [],
      "source": [
        "for i in range(2):\n",
        "    print(i)\n",
        "    for j in range(5):\n",
        "        print(i,j)\n",
        "    ## End j loop\n",
        "## End i loop"
      ]
    },
    {
      "cell_type": "markdown",
      "metadata": {
        "id": "1geoDWVC2sjM"
      },
      "source": [
        "などのように、どこでループを閉じるのかをコメントしておくと良いかもしれません。  \n",
        "コードを編集しているうちに"
      ]
    },
    {
      "cell_type": "code",
      "execution_count": null,
      "metadata": {
        "id": "USOd9Zdp2zaU"
      },
      "outputs": [],
      "source": [
        "for i in range(2):\n",
        "    print(i)\n",
        "for j in range(5):\n",
        "    print(i,j)"
      ]
    },
    {
      "cell_type": "markdown",
      "metadata": {
        "id": "jWjLB9Dy243B"
      },
      "source": [
        "といったように意図しないインデントになってしまって、  \n",
        "正しい答えを与えない(バグを作ってしまう)可能性があります。\n",
        "\n",
        "> 細かい注) Pythonでは通常インデント幅は4つの半角スペースで指定されます。  \n",
        "Google Colab. では、　[ツール]→[設定]→[エディタ]から変更できますので、幅2が使いやすければ変更してください。  \n",
        "また、プログラムファイルを編集する際、Tabキーを使ってインデントを指定するのと、スペースキーを用いてインデントを指定するのとで、どちらを好むかは、[タブ/スペース論争]として知られています。"
      ]
    },
    {
      "cell_type": "markdown",
      "metadata": {
        "id": "_r-xOslCuYQt"
      },
      "source": [
        "**練習**\n",
        "\n",
        "リスト\n",
        "```data = [ [\"Aさん\", 178,66] , [\"Bさん\",180,70], [\"Cさん\", 165,55]]```を用意し、  \n",
        "[体重を二乗して身長にかけ合わせた量]の総和を計算するコードを作ってみましょう。\n",
        "\n",
        "ヒント1: 身長は入れ子になっているリストの[1]番目,体重は[2]番目  \n",
        "ヒント2: total=0.0を定義して、体重の二乗×身長をfor文を使ってどんどん足していく。"
      ]
    },
    {
      "cell_type": "code",
      "execution_count": null,
      "metadata": {
        "id": "FJpla_3Fvbjw"
      },
      "outputs": [],
      "source": [
        "###以下は、不完全なコードです。これにあと３行ほど書き足してみましょう。 \n",
        "###ちなみに答えは 2156493です.\n",
        "data = [ [\"Aさん\", 178,66] , [\"Bさん\",180,70], [\"Cさん\", 165,55]]\n",
        "total = 0.0\n"
      ]
    },
    {
      "cell_type": "markdown",
      "metadata": {
        "id": "Uf275kXcK-JN"
      },
      "source": [
        "さて、ループ(for文)の使い方がなんとなく分かったでしょうか？  \n",
        "どんどん使ってみて、なれておいてください。"
      ]
    },
    {
      "cell_type": "markdown",
      "metadata": {
        "id": "qucZen5vJ9PE"
      },
      "source": [
        "他にも、たとえば、 1, 10, 100, 1000, 10000,...というループを回したい時、"
      ]
    },
    {
      "cell_type": "code",
      "execution_count": null,
      "metadata": {
        "id": "o7dH6aHKKP4i"
      },
      "outputs": [],
      "source": [
        "for i in [1,10,100,1000,10000]:\n",
        "    print(i)"
      ]
    },
    {
      "cell_type": "markdown",
      "metadata": {
        "id": "JTg8PfD3KW5U"
      },
      "source": [
        "と書くのではなく、べき乗に対するループを回す"
      ]
    },
    {
      "cell_type": "code",
      "execution_count": null,
      "metadata": {
        "id": "Lwz3s8taKcvF"
      },
      "outputs": [],
      "source": [
        "for p in range(5):\n",
        "    print(10**p)"
      ]
    },
    {
      "cell_type": "markdown",
      "metadata": {
        "id": "8qLiZx-VKhh-"
      },
      "source": [
        "など、考えたい値を直接ループで扱うのではなく間接的な値(今の場合`p`)を扱うなどの考え方も、コードをスッキリさせる上で重要です。"
      ]
    },
    {
      "cell_type": "markdown",
      "metadata": {
        "id": "gPHPdQWAvKxc"
      },
      "source": [
        "### リスト内包表記\n",
        "\n",
        "`for`文の別の使い方として、リスト内包表記と呼ばれる書き方があります。  \n",
        "これを使うと、要素がたくさんのリストを簡単につくることができます。"
      ]
    },
    {
      "cell_type": "code",
      "execution_count": null,
      "metadata": {
        "id": "oNiE_0IHwpUm"
      },
      "outputs": [],
      "source": [
        "a = [ i for i in range(1,1000,2) ] ## i を1から999まで2ずつ変えていったときの値を詰めたリストを作成\n",
        "print(a)"
      ]
    },
    {
      "cell_type": "markdown",
      "metadata": {
        "id": "2NxxShOxNFCH"
      },
      "source": [
        "### break ループ処理を途中で抜けたい場合\n",
        "\n",
        "`break`は`for`文を途中で抜け出すのに使います。用途としては**目的を果たしたのでもうループを繰り返す必要がないとき**や**予期せぬ事が起きた場合にループ処理を終わらせてプログラムを終了するとき**などに使います.\n",
        "\n",
        "以下のような状況を考えてみましょう\n",
        "\n",
        "> Aさんは100万円を手にカジノにやってきて、  \n",
        "掛け金が20万かつ50%の確率で勝ったり負けたりするギャンブルに目をつけました。  \n",
        "\n",
        "このAさんが [最大10回ゲームをやるが１回でも負ければ即座に賭けをやめたい]という状況をコードで表現する場合、以下のようなコードになります:"
      ]
    },
    {
      "cell_type": "code",
      "execution_count": null,
      "metadata": {
        "id": "HPC5NF3FNUo3"
      },
      "outputs": [],
      "source": [
        "import random #これがなにかはとりあえず気にしない\n",
        "\n",
        "# 最初の手持ち金を定義\n",
        "money = 1000000\n",
        "\n",
        "# ゲームを開始, 最大10回まで繰り返すことをfor文で表現\n",
        "for i in range(10):   \n",
        "    result = random.choice([True,False])\n",
        "    if result: # result==True, つまり勝った場合\n",
        "        money += 200000\n",
        "        print(\"勝った!!\")\n",
        "    else :\n",
        "        money -= 200000\n",
        "        print(\"負けたので帰ります\")\n",
        "        break\n",
        "\n",
        "print(\"最終的な所持金は...\"+str(money)+\"円だ\")"
      ]
    },
    {
      "cell_type": "markdown",
      "metadata": {},
      "source": [
        "`random.choice([True,False])`は1/2の確率で`True`か`False`を与える処理になっている。\n",
        "True/Falseをそれぞれ勝ち負けに対応させられるので、その結果に応じて処理を分岐させていることが分かる。"
      ]
    },
    {
      "cell_type": "markdown",
      "metadata": {
        "id": "EGUKtqjeeyk9"
      },
      "source": [
        "### $\\clubsuit$While文\n",
        "\n",
        "`for`に似たものとして`while`もよく用いられる。  \n",
        "\n",
        "`while`文は、原理的には`for`文と`break`を組み合わせたコードでも実装可能なので発展的な内容($\\clubsuit$マーク)として授業ではスキップするかも...\n"
      ]
    },
    {
      "cell_type": "markdown",
      "metadata": {
        "id": "snmJfYawx-7u"
      },
      "source": [
        "\n",
        "プログラムを書いていくうちに、繰り返しの数が前もってわからないケースに遭遇することがある。たとえば\n",
        "\n",
        "*   連続で6が5回でるまでサイコロをふる\n",
        "*   利益がある値を超えるまで株の売買をくりかえす\n",
        "\n",
        "といったイメージ。この様な場合は、何回処理を繰り返せば良いか予め知ることはほとんど不可能となる。\n",
        "\n",
        "サイコロの例の場合だと、たとえば5回ふっただけで6が連続で出る奇跡的な状況も有りえますし、1000回ふっても100万回降っても連続で5回は出ないかもしれません。(某漫画の地下チンチロ編のようなイカサマサイコロを使用するとグッと確率はあがります)このような処理を実装したい場合には`while`文を使います.\n",
        "\n",
        "さっきのAさんとカジノのギャンブルを例に\n",
        "> 手持ち100万からゲームを開始して\n",
        ">「手持ちが50万以上150未満ある限り賭けを続けるコード」\n",
        "\n",
        "を作ってみましょう\n"
      ]
    },
    {
      "cell_type": "code",
      "execution_count": null,
      "metadata": {
        "id": "IDmdI51Mx-Tp"
      },
      "outputs": [],
      "source": [
        "import random #ランダムに勝ち負けを決めるためrandomというライブラリを使います\n",
        "\n",
        "money = 1000000\n",
        "\n",
        "#手元に50万以上-150万未満ある限り賭け続けることをwhile文で表現\n",
        "while 500000 <= money < 1500000: \n",
        "    ## choice([True,False])でTrue(勝ち)とFalse(負け)をランダムに生成       \n",
        "    result = random.choice([True,False])\n",
        "    if result: # 勝ちの場合\n",
        "        money += 200000 \n",
        "        print(\"勝った!!\")\n",
        "    else : #負けの場合 20万失う\n",
        "        money -= 200000\n",
        "        print(\"負けた..\")\n",
        "\n",
        "# 500000 <= money < 1500000部分が\"False\"、つまりお金が50万以下か150万以上になったら\n",
        "# while文が終わり、以下のprint文が読まれる\n",
        "\n",
        "print(\"最終的な所持金は...\"+str(money)+\"円だ\")"
      ]
    },
    {
      "cell_type": "markdown",
      "metadata": {
        "id": "b9q7gVgWATh0"
      },
      "source": [
        "といった具合です. 使用例が思い浮かばなければ「`while`なんてのがある」とだけ覚えておけば当面はOKです.  \n",
        "ちなみに上のコードは`random`モジュールの(疑似)乱数を用いているので、実行ごとに買ったり負けたり結果が変わります。何度か実行してみてください。\n",
        "\n",
        ">余談 これを応用すると↓のようなものを作って遊ぶこともできます(作者は私ではありません)。  \n",
        "十亀vs松田シミュレータ https://mattz.xii.jp/yakiu/yakiu.html  \n",
        "(十亀選手(ライオンズ)と松田選手(ホークス)の驚異的な相性を元に作られた対戦シミュレータ)"
      ]
    },
    {
      "cell_type": "markdown",
      "metadata": {
        "id": "iwv7BiM8NG47"
      },
      "source": [
        "### $\\clubsuit$ continue\n",
        "`continue`文は、`for`や`while`文の中で[以降の処理を無視する]のに使います.  \n",
        "具体的な用途としては[特定の条件を満たす場合にのみ適用する処理を書きたい]場合などがあります.再びカジノの例で考えてみましょう.\n",
        "\n",
        "まず、Aさんに勝負のたびに所持金を叫ばせるコードは"
      ]
    },
    {
      "cell_type": "code",
      "execution_count": null,
      "metadata": {
        "id": "eWE2Z2jVObxz"
      },
      "outputs": [],
      "source": [
        "import random\n",
        "money = 1000000\n",
        "while 500000 <= money < 1500000:\n",
        "    result = random.choice([True,False])\n",
        "    if result:\n",
        "        money += 200000 \n",
        "    else :\n",
        "        money -= 200000\n",
        "    print(\"今の所持金は...\"+str(money)+\"円だ\")\n",
        "\n",
        "print(\"最終的な所持金は...\"+str(money)+\"円だ\")"
      ]
    },
    {
      "cell_type": "markdown",
      "metadata": {
        "id": "eMPfQSziPEOP"
      },
      "source": [
        "となります。これに少しずつ、より複雑な条件を加えていくことにしましょう.  \n",
        "\n",
        "最初の掛け金を一旦5万円にすることにして[連続で勝った場合、コインを投げて表が出たら掛け金を2倍にする]という条件をいれてみましょう。これをプログラムで表現するのには以下のような実装が考えられます.\n"
      ]
    },
    {
      "cell_type": "code",
      "execution_count": null,
      "metadata": {
        "id": "M1F8_JYdPJFI"
      },
      "outputs": [],
      "source": [
        "import random\n",
        "money = 1000000\n",
        "\n",
        "# 連続勝数を記録する変数hitを定義\n",
        "hit = 0 \n",
        "# 掛け金をセット\n",
        "bet = 50000 \n",
        "\n",
        "# メイン部分のコード\n",
        "while 500000 <= money < 1500000:\n",
        "    result = random.choice([True,False])\n",
        "    if result :\n",
        "        money += bet \n",
        "        hit +=1 #勝ったら連勝数をプラス1する\n",
        "    else :\n",
        "        money -= bet\n",
        "        hit = 0 #負けたら連続勝ち数を0にリセット\n",
        "    print(\"今の所持金は...\"+str(money)+\"円だ\")\n",
        "\n",
        "    # コインの表裏を決める\n",
        "    coin = random.choice([True,False])\n",
        "    if hit >= 2 and coin: \n",
        "        bet = bet * 2\n",
        "        print(\"掛け金をレイズ!\",\"次は\"+str(bet)+\"円を賭けるぞ!!\")\n",
        "\n",
        "print(\"最終的な所持金は...\"+str(money)+\"円だ\")"
      ]
    },
    {
      "cell_type": "markdown",
      "metadata": {
        "id": "A8XHg35QQtD0"
      },
      "source": [
        "さらに**掛け金をレイズするかどうか悩んで、コインを投げて決めるのは、所持金が80万以上のときだけ**という、\n",
        "より複雑な条件を実装するのに`continue`を使ってみましょう"
      ]
    },
    {
      "cell_type": "code",
      "execution_count": null,
      "metadata": {
        "id": "5AgDgp8fQ3He"
      },
      "outputs": [],
      "source": [
        "import random\n",
        "money = 1000000\n",
        "\n",
        "#連続勝数と掛け金を設定する\n",
        "hit = 0 \n",
        "bet = 50000 \n",
        "while 500000 < money < 1500000:\n",
        "    result = random.choice([True,False])\n",
        "    if result:\n",
        "        money += bet \n",
        "        hit +=1 \n",
        "    else :\n",
        "        money -= bet\n",
        "        hit = 0 \n",
        "    print(\"今の所持金は...\"+str(money)+\"円だ\")    \n",
        "\n",
        "    # ここから下が追加された部分\n",
        "    if money < 800000:\n",
        "        continue # もし所持金が80万未満ならcontinue(以下の処理は実行しない)\n",
        "\n",
        "    coin = random.choice([True,False])\n",
        "    if hit >= 2 and coin :\n",
        "        bet = bet * 2\n",
        "        print(\"掛け金をレイズ!\",\"次は\"+str(bet)+\"円を賭けるぞ!!\")\n",
        "\n",
        "print(\"最終的な所持金は...\"+str(money)+\"円だ\")"
      ]
    },
    {
      "cell_type": "markdown",
      "metadata": {
        "id": "p_ZvXiuc2ece"
      },
      "source": [
        "### 例外処理"
      ]
    },
    {
      "cell_type": "markdown",
      "metadata": {
        "id": "6hnBZUQ1XpUW"
      },
      "source": [
        "以下の処理は[ある値から都度10を引いていって平方根を取った値を表示する]というコードです\n"
      ]
    },
    {
      "cell_type": "code",
      "execution_count": null,
      "metadata": {
        "id": "dWDJaf9G2hPi"
      },
      "outputs": [],
      "source": [
        "import math #sqrt(square root)関数を使うための1行\n",
        "s = 124\n",
        "#for i in range(20):\n",
        "while True:\n",
        "    s -= 10\n",
        "    print(math.sqrt(s)) "
      ]
    },
    {
      "cell_type": "markdown",
      "metadata": {
        "id": "ZX5FTHyOYdcF"
      },
      "source": [
        "しかし、あるところでsの値が負になってしまい、sqrtが計算できなくなってしまいます(虚数を導入すれば定義できますが、`math`の`sqrt()`関数は非負の引数に対して定義されていますのでエラーが出ます)\n",
        "\n",
        "エラーが出る(≒予期しないことが起こる)とプログラムはそこで止まってしまいます。  \n",
        "通常はそれで良い(問題があればエラーが起きないと対処しようがない)のですが、複雑な状況になると「エラーを無視してとにかくプログラムを最後まで実行させたい」「エラーが起こるときにエラーを回避するような仕組みをプログラム自体に実装したい」といった状況も起こりえます.\n",
        "\n",
        "上の例でいうと「`s`の値が正なら平方根を表示して、負の場合はエラーメッセージだけを表示してエラーが起きた回数をカウントする」という作業が必要な場合は以下のように  \n",
        "- ```try:``` 試行したい処理のブロック   \n",
        "- ```except:``` 例外(エラー）が起こった場合の処理のブロック   \n",
        "という２つの操作(`try`,`except`ともに予約語)を駆使することで、最後までプログラムを実行させることができます."
      ]
    },
    {
      "cell_type": "code",
      "execution_count": null,
      "metadata": {
        "id": "7nhzIqnHZDRJ"
      },
      "outputs": [],
      "source": [
        "import math\n",
        "s = 124\n",
        "hit = 0 \n",
        "for i in range(20):\n",
        "    s -= 10\n",
        "    try:\n",
        "        print(math.sqrt(s)) \n",
        "    except :    \n",
        "        print(\"sの値が\"+str(s)+\"になったのでsqrtが計算できません\")\n",
        "        hit += 1\n",
        "print(str(hit)+\"回 sqrtの計算でエラーがありました\")"
      ]
    },
    {
      "cell_type": "markdown",
      "metadata": {
        "id": "vcWhB2ld2EjT"
      },
      "source": [
        "このノートブックでは説明しませんがexceptの後に具体的な例外を指定して例外の種類に応じた操作を行うことも出来ます。https://docs.python.org/ja/3/library/exceptions.html"
      ]
    },
    {
      "cell_type": "markdown",
      "metadata": {
        "id": "N7bZPiJyEpx-"
      },
      "source": [
        "## $\\clubsuit$ タプル・辞書型\n",
        "\n",
        "発展的な内容です。  \n",
        "以下のタプル・辞書型は使いこなせれば便利ですが、授業では必ずしも必要ではない(リストで代用できる)ので、興味に応じて学習してください。"
      ]
    },
    {
      "cell_type": "markdown",
      "metadata": {
        "id": "5JH8ZSsU2lL8"
      },
      "source": [
        "### タプル(tuple)型, 丸括弧\n",
        "\n"
      ]
    },
    {
      "cell_type": "markdown",
      "metadata": {
        "id": "FYc9ztofGU8M"
      },
      "source": [
        "リストに似た型としてタプルと辞書があります。  \n",
        "タプルは\"immutable\"(要素が変更不可)なリストと覚えておけばよいでしょう。\n",
        "リストは要素を`[]`で囲むことで作ることができました。タプルは丸括弧`()`で囲むことで作ることができます"
      ]
    },
    {
      "cell_type": "code",
      "execution_count": null,
      "metadata": {
        "id": "4CNAqWljyjS1"
      },
      "outputs": [],
      "source": [
        "a = (1.0, 2.0, 3.0)\n",
        "print(a, type(a))\n",
        "\n",
        "print(a[0]) ##要素にアクセスするときはタプルのときでもやはり角括弧を使う"
      ]
    },
    {
      "cell_type": "markdown",
      "metadata": {
        "id": "I1IILsgUyk4T"
      },
      "source": [
        "値をリストのように格納しておきたい、という状況下かつ、リストの値を後で変更することがないなら\n",
        "タプルを使うのも一つの手です.  \n",
        "タプルを使うメリットとしては以下の通りです:  \n",
        "*   (予期せず)値を更新しようとするとエラーを吐いて教えてくれる\n",
        "*   (場合によりけりですが)リストよりも早く処理が実行される(ことがある)\n"
      ]
    },
    {
      "cell_type": "code",
      "execution_count": null,
      "metadata": {
        "id": "d-wmV-24zIa9"
      },
      "outputs": [],
      "source": [
        "##たとえば...\n",
        "a = (1.0, 2.0, 3.0)\n",
        "##たとえば...2つ目の2.0を4.0に変更しようとすると....\n",
        "a[1] = 4.0"
      ]
    },
    {
      "cell_type": "markdown",
      "metadata": {
        "id": "Xp-zrOGUzclF"
      },
      "source": [
        "↑エラーがでたかと思います。\n",
        "\n",
        "次に中身が同じ(1から5000までの整数)リストとタプルを用意して、1万回要素の和を計算するという計算をしてみましょう.\n",
        "この計算自体に意味はありません。  \n",
        "`time`というライブラリを使って2つの作業に係る時間を調べてみると..."
      ]
    },
    {
      "cell_type": "code",
      "execution_count": null,
      "metadata": {
        "id": "RNRVJHBvzrRR"
      },
      "outputs": [],
      "source": [
        "import time #時間を計測するためのライブラリをインポート\n",
        "itnum=10000 #繰り返す回数を設定\n",
        "\n",
        "#リストを使った計算\n",
        "t0= time.time() \n",
        "a = [ i for i in range(1,5001) ] #リストを定義\n",
        "for i in range(itnum):\n",
        "    sum(a)\n",
        "t1 = time.time()\n",
        "\n",
        "#タプルを使った計算\n",
        "t2= time.time() \n",
        "b = ( i for i in range(1,5001)) #タプルを定義\n",
        "for i in range(itnum):\n",
        "    sum(b)\n",
        "t3 = time.time()\n",
        "\n",
        "print(\"リストの処理にかかった時間\", t1-t0)\n",
        "print(\"タプルの処理にかかった時間\", t3-t2)"
      ]
    },
    {
      "cell_type": "markdown",
      "metadata": {
        "id": "_DFBdeB61zTN"
      },
      "source": [
        "タプルの方が実行時間が短い事がわかります.  \n",
        "今の例では差は人間にとっては気にならない程度の差ですが、複雑な処理になってコードがなかなか計算を完了しないときには、リストをタプルにするなど、コードのパフォーマンスを改善する作業が必要となります。"
      ]
    },
    {
      "cell_type": "markdown",
      "metadata": {
        "id": "X69TUPNt2nfh"
      },
      "source": [
        "### 辞書型, 波括弧\n",
        "\n",
        "辞書型は、キーと値の２つの要素をあわせ持つ型です.  \n",
        "リストにいれたものをいっぺんに扱うときに、毎回番地を指定したりループで要素を回して、望むものを持ってくるのは面倒です。\n",
        "\n",
        "たとえば以下の名前と年齢のリスト\n",
        "```\n",
        "data=[[ \"Aさん\",25],[\"Bさん\",21],[\"Cさん\",18]]\n",
        "```\n",
        "\n",
        "があったとき、これまで習った方法だけを駆使してBさんの年齢を取得するには例えば以下のようなコードになります"
      ]
    },
    {
      "cell_type": "code",
      "execution_count": null,
      "metadata": {
        "id": "oWV6iYr520v5"
      },
      "outputs": [],
      "source": [
        "data=[[ \"Aさん\",25],[\"Bさん\",21],[\"Cさん\",18]]\n",
        "\n",
        "for person in data:\n",
        "    if person[0] == \"Bさん\" :\n",
        "        print(\"Bさんの年齢=\", person[1])"
      ]
    },
    {
      "cell_type": "markdown",
      "metadata": {
        "id": "QfC_TsDD3mYh"
      },
      "source": [
        "このようなfor文とif文などを組み合わせた要素の探索が面倒なら、予め名前と年齢という２つの関係のある量を辞書として定義してしまえばよいのです。\n",
        "\n",
        "辞書型は波括弧`{}`で囲むことで構成できます.\n",
        "\n",
        "\n"
      ]
    },
    {
      "cell_type": "code",
      "execution_count": null,
      "metadata": {
        "id": "GgnqzQYq4XbS"
      },
      "outputs": [],
      "source": [
        "Dict_age = {'Aさん' : 25, 'Bさん': 21, 'Cさん': 18}"
      ]
    },
    {
      "cell_type": "markdown",
      "metadata": {
        "id": "n25YgOic5Gnp"
      },
      "source": [
        "Bさんの値(今は年齢)を知りたければ以下のように一行で取得可能です."
      ]
    },
    {
      "cell_type": "code",
      "execution_count": null,
      "metadata": {
        "id": "bHh_DVUZ5KTH"
      },
      "outputs": [],
      "source": [
        "Dict_age[\"Bさん\"]"
      ]
    },
    {
      "cell_type": "markdown",
      "metadata": {
        "id": "HP-pNfHg4Y5e"
      },
      "source": [
        "辞書を作る際には、 要素を取り出すためのキー(key)と値(value)の組み合わせで指定します.\n",
        "その際\n",
        "```\n",
        "{\"key\" : value}\n",
        "```\n",
        "と`key`と`value`をコロン:をつかって区切り、複数要素を入れる際はカンマで区切ります.  \n",
        "`key`は文字列や数字(たとえば小中学校の出席番号とか)を使用することができ`value`は様々な型が使えます。\n",
        "\n",
        "値(`value`)として、リストを保持することもできます.次のように年齢と出身県のリストを値にもつ辞書にしてみましょう.\n"
      ]
    },
    {
      "cell_type": "code",
      "execution_count": null,
      "metadata": {
        "id": "PWzZQh4p5lqC"
      },
      "outputs": [],
      "source": [
        "Dict = {'Aさん' : [25,\"栃木県\"], 'Bさん': [21,\"茨城県\"], 'Cさん': [18,\"群馬県\"]}"
      ]
    },
    {
      "cell_type": "markdown",
      "metadata": {
        "id": "cDz_Xk0I6D1k"
      },
      "source": [
        "Cさんの個人情報にアクセスする際は"
      ]
    },
    {
      "cell_type": "code",
      "execution_count": null,
      "metadata": {
        "id": "gqsBmc4o6Rkn"
      },
      "outputs": [],
      "source": [
        "Dict[\"Cさん\"]"
      ]
    },
    {
      "cell_type": "markdown",
      "metadata": {
        "id": "E9fJ-WT76ROd"
      },
      "source": [
        "とすればいいことがわかります.\n",
        "\n",
        "慣れないうちはタプルや辞書を使わずリストだけ覚えておけば問題ないのですが(私も簡単なコードだと、面倒だからリストでやっちゃう)複雑な処理になると(タプルにしないと)パフォーマンス差が顕著になったり(辞書にしないと)コードの可読性が低くなったりミスの原因になるので、タプルや辞書型もうまく組み合わせながら使えると良いです。"
      ]
    }
  ],
  "metadata": {
    "colab": {
      "collapsed_sections": [],
      "include_colab_link": true,
      "name": "Python_chapter2_ListLoop.ipynb",
      "provenance": []
    },
    "kernelspec": {
      "display_name": "Python 3.9.10 64-bit",
      "language": "python",
      "name": "python3"
    },
    "language_info": {
      "name": "python",
      "version": "3.9.13"
    },
    "vscode": {
      "interpreter": {
        "hash": "aee8b7b246df8f9039afb4144a1f6fd8d2ca17a180786b69acc140d282b71a49"
      }
    }
  },
  "nbformat": 4,
  "nbformat_minor": 0
}
