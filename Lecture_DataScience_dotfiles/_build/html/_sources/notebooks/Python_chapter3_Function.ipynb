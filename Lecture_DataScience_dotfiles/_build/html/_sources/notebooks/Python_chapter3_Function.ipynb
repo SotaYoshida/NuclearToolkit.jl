{
  "cells": [
    {
      "cell_type": "markdown",
      "metadata": {
        "colab_type": "text",
        "id": "view-in-github"
      },
      "source": [
        "<a href=\"https://colab.research.google.com/github/SotaYoshida/Lecture_DataScience/blob/main/notebooks/Python_chapter3_Function.ipynb\" target=\"_parent\"><img src=\"https://colab.research.google.com/assets/colab-badge.svg\" alt=\"Open In Colab\"/></a>"
      ]
    },
    {
      "cell_type": "markdown",
      "metadata": {
        "id": "7Id5T1JiYLyY"
      },
      "source": [
        "# 関数\n",
        "\n",
        "[この章の目的]プログラム内での関数と戻り値,スコープの概念を獲得する。\n",
        "\n",
        "ここでは、Pythonにおける関数の定義と関数が返す値[戻り値(返り値とも呼ぶ)]、ややテクニカルですが重要な点である変数のスコープについて説明します。  "
      ]
    },
    {
      "cell_type": "markdown",
      "metadata": {
        "id": "39hwOTPKHdBK"
      },
      "source": [
        "## 関数の定義"
      ]
    },
    {
      "cell_type": "markdown",
      "metadata": {
        "id": "8YqBoNnXHjDe"
      },
      "source": [
        "既に現れた```print```や```len```などはPythonに備え付けられた\"組み込み関数\"と呼ばれるものの一種です。以下に示すように、組み込み関数とは別にユーザーが独自の関数を定義することができます。\n",
        "\n",
        "たとえば"
      ]
    },
    {
      "cell_type": "code",
      "execution_count": null,
      "metadata": {
        "id": "oeG9EoBPYflr"
      },
      "outputs": [],
      "source": [
        "p1 = [2.0, 4.0, -5.0]\n",
        "p2 = [1.0, 3.0, -4.0]\n",
        "#...中略\n",
        "p100 = [5.5,-2.0, 3.0]"
      ]
    },
    {
      "cell_type": "markdown",
      "metadata": {
        "id": "f-1OoOC3ZFfW"
      },
      "source": [
        "といったようなリスト(ある点の$x,y,z$座標だと思ってください)がたくさん(たとえば100個)あったときに、任意の２つの点の距離を求める操作が必要だったとします。\n",
        "そんなとき${}_{100}C_2=4950$通りに対して毎回"
      ]
    },
    {
      "cell_type": "code",
      "execution_count": null,
      "metadata": {
        "id": "lrWeMpk5ZGy6"
      },
      "outputs": [],
      "source": [
        "d_1_2 = ( (p1[0] - p2[0])**2 + (p1[1] - p2[1])**2 + (p1[2] - p2[2])**2 ) ** 0.5\n",
        "d_1_100 = ( (p1[0] - p100[0])**2 + (p1[1] - p100[1])**2 + (p1[2] - p100[2])**2 ) ** 0.5"
      ]
    },
    {
      "cell_type": "markdown",
      "metadata": {
        "id": "lyuVwV40Ytk8"
      },
      "source": [
        "などと書くのは面倒です。このように、何回も必要になる処理は、**関数**として定義しておけば呼び出して簡単に使うことができます。  \n",
        "\n",
        "例として「任意の長さが3の数値リストに対して3次元空間での距離を計算する関数」を自作してみましょう。"
      ]
    },
    {
      "cell_type": "code",
      "execution_count": null,
      "metadata": {
        "colab": {
          "base_uri": "https://localhost:8080/"
        },
        "id": "f0iYOWb5Zfcp",
        "outputId": "b42f1ff6-dd82-4cb7-e8a3-4f4a29676c14"
      },
      "outputs": [],
      "source": [
        "def calc_d(l1,l2):           \n",
        "    return ( (l1[0] - l2[0])**2 + (l1[1] - l2[1])**2 + (l1[2] - l2[2])**2 ) ** 0.5\n",
        "\n",
        "t = calc_d(p1,p2) \n",
        "print(\"点1\",p1, \"と点2\", p2, \"の距離は\", t, \"です\")"
      ]
    },
    {
      "cell_type": "markdown",
      "metadata": {
        "id": "r6JbFf61Zv3l"
      },
      "source": [
        "`calc_d`は自作した関数の名前で、関数名の後ろのカッコには**引数**(ひきすう)を指定します。\n",
        "\n",
        "リスト(```l1```)とリスト(```l2```)を突っ込んだときに距離を計算して```return```する(返す)という一連の操作を```def```(defineの略)した、というのが上のコードで行っていることです。\n",
        "コロン`:`は「以下で関数の中身を記述するブロックが開始する」ことを意味していて、インデントによってどこまでが関数のブロックかわかるようになっています。(ブロックについては```if```や```for```を思い出してください)\n",
        "\n",
        "定義した関数を使用する際には、この関数```calc_d()```に必要な引数(変数,今の場合リスト)```l1,l2```を代入して使います。\n",
        "関数に入れる引数は代名詞のようなもので、関数に入れるものを`l1`,`l2`という名前にあわせて定義しておく必要はありません。\n"
      ]
    },
    {
      "cell_type": "code",
      "execution_count": null,
      "metadata": {
        "colab": {
          "base_uri": "https://localhost:8080/"
        },
        "id": "vfn_uW7jsk1x",
        "outputId": "fdbad61a-ab09-423b-daae-9dca5c621215"
      },
      "outputs": [],
      "source": [
        "print(calc_d(p1,p100)) #←これでも使えるし\n",
        "print(calc_d([20.0, 1.0,-5.0], [-2.0, 3.0,5.5])) #←などとして名前をつけなくても使える"
      ]
    },
    {
      "cell_type": "markdown",
      "metadata": {
        "id": "JYEIUOkRx34k"
      },
      "source": [
        "上の例のように100個の点の3次元座標に対応するリストがある場合,\n"
      ]
    },
    {
      "cell_type": "code",
      "execution_count": null,
      "metadata": {
        "colab": {
          "base_uri": "https://localhost:8080/"
        },
        "id": "rQeQdGnqytj6",
        "outputId": "57e68e0c-4e6c-49c9-de91-51e56a20adea"
      },
      "outputs": [],
      "source": [
        "import random \n",
        "lists = [ [ random.gauss(0,1) for n in range(3)] for i in range(100)] #3次元の座標点をランダムに100個作っている n,iはダミー変数(特に使ってない)\n",
        "hit = 0\n",
        "for j in range(100):\n",
        "    for i in range(j+1,100): # i>j\n",
        "        distance = calc_d( lists[j], lists[i])\n",
        "        #print(j,i, distance) # 4950回文の計算結果をprintすると邪魔なのでコメントアウトした\n",
        "        hit += 1 \n",
        "print(hit) #回数だけ表示しよう\n",
        "#上のjのループ内で、iはj+1から99までを回る。 j+1= 100つまり j=99のとき range(j+1,100)はちゃんと空になる\n",
        "#つまり、長さ100のリストにindex=100でアクセス(範囲外参照)したりすることはない。"
      ]
    },
    {
      "cell_type": "markdown",
      "metadata": {
        "id": "YsUvuSp0hHta"
      },
      "source": [
        "などとすれば、全組み合わせ(${}_{100}C_2$)に対して距離を計算することが出来る。  \n",
        "上で使われているインデックス($j,i$)の模式図:  \n",
        "<img src=\"https://drive.google.com/uc?export=view&id=1d_MB8x20a2OE-WwLWqJCM1LRM-to6AoO\" width = 15%>\n",
        "\n",
        "引数は通常関数の中で行う操作に必要な変数を指定します。上の例では２つのリストを引数としました。\n",
        "\n",
        "関数内の操作に関数外からの情報(インプット)が必要ない場合は引数なしの関数でも構いませんし、関数の外に値を渡す(アウトプット)必要がなければreturn文を明示的に書かなくても大丈夫です。`return`文がない場合は```None```(値なし)が返されます。\n",
        "\n",
        "幾つか例を作って、挙動を理解してみましょう。\n"
      ]
    },
    {
      "cell_type": "code",
      "execution_count": null,
      "metadata": {
        "colab": {
          "base_uri": "https://localhost:8080/"
        },
        "id": "hKXXnar5huWZ",
        "outputId": "654717fd-5230-412a-f84d-9fd88761d9aa"
      },
      "outputs": [],
      "source": [
        "def name(): #引数なしで、ただ以下の文字列を表示する関数\n",
        "    print(\"私は田中です\")\n",
        "\n",
        "def myname(namae): #引数namaeを使って、以下の文字列を表示する関数\n",
        "    print(\"私は\"+str(namae)+\"です\")\n",
        "\n",
        "def myname_return(namae): #　myname()で表示させた文字列自体を返す関数\n",
        "    return \"私は\"+str(namae)+\"です\"\n",
        "\n",
        "print(\"name()の実行→\", name()) ## name()が実行されたあとにココのprint文が実行される。\n",
        "\n",
        "print(\"myname()の返り値→\", myname(\"吉田\"))\n",
        "\n",
        "print(\"myname_return()の返り値→\", myname_return(\"吉田\"))"
      ]
    },
    {
      "cell_type": "markdown",
      "metadata": {
        "id": "KfNDxdUVaxhm"
      },
      "source": [
        "戻り値```return```は単一の値や文字列に限らず、複数の値でも可能ですし、リストを返すことも出来ます。\n",
        "\n",
        "先程の自作関数```calc_d```の場合、戻り値は`float`(実数値)ですが"
      ]
    },
    {
      "cell_type": "code",
      "execution_count": null,
      "metadata": {
        "colab": {
          "base_uri": "https://localhost:8080/"
        },
        "id": "_6vSVbsia69R",
        "outputId": "c951d169-b3bf-4f2d-c5f8-3bbcb2caa21a"
      },
      "outputs": [],
      "source": [
        "def calc_d_print(l1,l2):\n",
        "    return \"距離は\"+str( ( (l1[0] - l2[0])**2 + (l1[1] - l2[1])**2 + (l1[2] - l2[2])**2 ) ** 0.5  )+\"です\"\n",
        "\n",
        "def zahyo_and_d(l1,l2):\n",
        "    d = calc_d(l1,l2) #関数の中で、先程の自作関数を呼んでいる\n",
        "    return [l1,l2],d  #座標を結合したリストと距離を返す\n",
        "\n",
        "ret = calc_d_print(p1,p2)\n",
        "print(\"関数calc_d_print→\", ret,type(ret))\n",
        "\n",
        "\n",
        "ret = zahyo_and_d(p1,p2)\n",
        "print(\"関数zahyo→ \", ret,type(ret))\n",
        "print(\"座標の結合リスト\",ret[0],\"距離\",ret[1])"
      ]
    },
    {
      "cell_type": "markdown",
      "metadata": {
        "id": "oVUqT1cDbijH"
      },
      "source": [
        "といったように、様々な返り値を持つ関数を定義できます。\n"
      ]
    },
    {
      "cell_type": "markdown",
      "metadata": {
        "id": "gwbplPrRy35O"
      },
      "source": [
        "関数を定義するときに、引数にデフォルト値(とくに値を指定しなければこの値が選ばれる)を設定することも出来ます。\n"
      ]
    },
    {
      "cell_type": "code",
      "execution_count": null,
      "metadata": {
        "colab": {
          "base_uri": "https://localhost:8080/"
        },
        "id": "EGy5tiLSzKHq",
        "outputId": "1c4fc107-7cf3-43d8-b6be-1f7e296db0d2"
      },
      "outputs": [],
      "source": [
        "#数値リストの要素のp乗和を計算する関数\n",
        "def sump(tmp,p=2): \n",
        "    return sum([tmp[i]**p for i in range(len(tmp))])\n",
        "\n",
        "list1 = [10.0,20.0,30.0,40.0]\n",
        "print(\"default\", sump(list1)) #pを指定しなければp=2が選ばれる\n",
        "print(\"p=1\", sump(list1,p=1))\n",
        "print(\"p=2\", sump(list1,2))\n",
        "print(\"p=3\", sump(list1,3))"
      ]
    },
    {
      "cell_type": "markdown",
      "metadata": {
        "id": "hOiz1XSGKDyx"
      },
      "source": [
        "上の場合、引数を指定する際に`p=`などは書いても書かなくてもなくてもOKですが、デフォルト値が複数設定されている関数を作った場合には、どの変数を指定しているのかを明示的にするため、`p=3`などと引数に入力します。\n",
        "関数を定義することで作業を*パッケージ化*し、コードを簡略化することができます。「繰り返しの操作は関数にする」ことを心がけましょう。"
      ]
    },
    {
      "cell_type": "markdown",
      "metadata": {
        "id": "Hi4Bw-xWK3d5"
      },
      "source": [
        "## 変数のスコープについて\n",
        "\n",
        "以下の内容は、これまで学習したfor文や関数のインデントとも関連した話題です。非常に重要な反面、初学者がつまづきやすい点でもあります。\n",
        "\n",
        "一般に、プログラミングでは[グローバル変数]と[ローカル変数]と呼ばれるものがあります。その名(global/local)が示すとおりグローバル変数とはどこからでも参照できる変数で、ローカル変数とは、ある有効範囲(たとえば関数内)のみで参照できる変数です。\n",
        "例を見ながら理解していきましょう。\n"
      ]
    },
    {
      "cell_type": "code",
      "execution_count": null,
      "metadata": {
        "id": "SDXBYARcMssS"
      },
      "outputs": [],
      "source": [
        "a = 2\n",
        "list1 = [10.0,20.0,30.0,40.0]"
      ]
    },
    {
      "cell_type": "markdown",
      "metadata": {
        "id": "Hz1s_N4CM5GE"
      },
      "source": [
        "のように、関数内での代入などではない場合、変数はグローバル変数として定義されます。  \n",
        "そのため、一度定義されれば関数に引数として渡さなくても参照することができます"
      ]
    },
    {
      "cell_type": "code",
      "execution_count": null,
      "metadata": {
        "colab": {
          "base_uri": "https://localhost:8080/"
        },
        "id": "lqCI3oOSNCWs",
        "outputId": "681dbaae-556a-457c-d82e-32a9291921c6"
      },
      "outputs": [],
      "source": [
        "def testfunc():\n",
        "    print(a)\n",
        "\n",
        "a = 2\n",
        "testfunc()"
      ]
    },
    {
      "cell_type": "markdown",
      "metadata": {
        "id": "sXaRD7zMO7gq"
      },
      "source": [
        "一方、関数の中で定義(代入)されるローカル変数は、関数の外で参照することはできません。  \n",
        "(注: あとで説明するように関数内でglobal変数であることを宣言すれば関数の外でも参照できます)\n",
        "\n",
        "以下のコードを実行して,関数の中で定義された変数`abcd`を`print`しようとしてもエラーが起こってしまいます。"
      ]
    },
    {
      "cell_type": "code",
      "execution_count": null,
      "metadata": {
        "colab": {
          "base_uri": "https://localhost:8080/",
          "height": 202
        },
        "id": "0C7YGdYCPGZ0",
        "outputId": "4f82d90c-791e-4946-f384-526d3178cb72"
      },
      "outputs": [],
      "source": [
        "def testfunc():\n",
        "    abcd = 1.000\n",
        "testfunc()\n",
        "print(abcd)"
      ]
    },
    {
      "cell_type": "markdown",
      "metadata": {
        "id": "Skv7X7b3N2vc"
      },
      "source": [
        "では、次のコードを実行すると、最後に表示される`a`の値はどうなるでしょうか？  \n",
        "2でしょうか？それとも5でしょうか？"
      ]
    },
    {
      "cell_type": "code",
      "execution_count": null,
      "metadata": {
        "colab": {
          "base_uri": "https://localhost:8080/"
        },
        "id": "MRy8oApxN8em",
        "outputId": "321ced5c-3002-4eee-e298-7a172cf3effc"
      },
      "outputs": [],
      "source": [
        "def testfunc():\n",
        "    a = 5\n",
        "a= 2\n",
        "testfunc()\n",
        "print(a)"
      ]
    },
    {
      "cell_type": "markdown",
      "metadata": {
        "id": "wNbcnDiiOPqV"
      },
      "source": [
        "となり`a`の値は更新されません。これは`testfunc`の中で定義されている`a`は、関数の内部で定義(代入)される変数であるため、ローカル変数とみなされて処理が行われるためです。\n",
        "実際`id`を`print`させてみると、関数の内と外とで`id`が異なることも分かります。"
      ]
    },
    {
      "cell_type": "code",
      "execution_count": null,
      "metadata": {
        "colab": {
          "base_uri": "https://localhost:8080/"
        },
        "id": "feLgu_e4OPcc",
        "outputId": "6e647e2f-2a1c-411a-ef4b-365e61e9e906"
      },
      "outputs": [],
      "source": [
        "def testfunc():\n",
        "    a = 5\n",
        "    print(\"関数の内部\", a, id(a))\n",
        "    \n",
        "a= 2 \n",
        "print(\"関数の実行前\", a, id(a))\n",
        "testfunc()\n",
        "print(\"関数の実行後\", a, id(a)) "
      ]
    },
    {
      "cell_type": "markdown",
      "metadata": {
        "id": "-y5mwt3OPiFY"
      },
      "source": [
        "一方で、"
      ]
    },
    {
      "cell_type": "code",
      "execution_count": null,
      "metadata": {
        "colab": {
          "base_uri": "https://localhost:8080/"
        },
        "id": "csjHT3p_Pl3D",
        "outputId": "6a5ad181-d94e-4f56-da8c-aa85f4a3c604"
      },
      "outputs": [],
      "source": [
        "def testfunc():\n",
        "    global abc, a #global変数の宣言\n",
        "    abc = 5\n",
        "    a += 2\n",
        "\n",
        "a=2\n",
        "print(\"実行前\")\n",
        "print(\"a\",a , id(a))\n",
        "testfunc()\n",
        "print(\"実行後\")\n",
        "print(\"a\", a, id(a))  #別の変数として再定義されていることが分かる\n",
        "print(\"abc\", abc)"
      ]
    },
    {
      "cell_type": "markdown",
      "metadata": {
        "id": "qctKvajGMmO9"
      },
      "source": [
        ":::{margin} プログラミング言語とスコープ\n",
        "Pythonでは、インデントでブロックを定義したりすることで短いコードを書くことができますが、一方で変数のスコープが分かりづらいことがしばしばあります。たとえば関数内で、定義されていない変数を用いたコードがあればPythonでは「global変数で定義されているのでは？」と解釈され実行が試行されますが、このことを「気が利いている」と感じる人もいれば「意図しない参照が起きて余計なバグの温床になる」と、見る人によって違う捉え方になったりします。\n",
        ":::\n",
        "\n",
        "といったように、関数の中で使う変数をグローバル変数として宣言すれば、関数の外でもその変数を使うことができます。\n",
        "`global`変数の宣言を使うべき場合としては...コードの中で一度計算して、二度と変更する必要が無いような値にのみ使うようにしましょう。\n",
        "\n",
        "ただし、このようなコードの書き方は、処理が複雑化してくるとどこでその変数が定義されたり更新されたりしているかがわかりづらく、予期しない挙動の原因にもなりますのであまりオススメしません。\n",
        "[関数には引数として変数を渡して、必要な戻り値を取得する]というコードを書くのがあくまで基本です。\n",
        "\n",
        "また、関数を用いる際に、変数のスコープに関して混乱を避ける手助けとなる方法は...メインプログラムと関数内とで変数の命名規則を区別しておく:   \n",
        "たとえば...メインコード(global変数)で使うリストの名前の区別には数字を使う、関数の引数にはアルファベットを使うなどの工夫(ルール作り)がオススメです。"
      ]
    },
    {
      "cell_type": "code",
      "execution_count": null,
      "metadata": {
        "id": "RKaOuz0HQsVh"
      },
      "outputs": [],
      "source": [
        "def func_join(listA,listB): #特殊なリストの結合をして返す関数\n",
        "    return listA + 2 * listB \n",
        "\n",
        "list1 = [ 2.0,30.0,18.0]\n",
        "list2 = [ 9.0,4.0,8.0]\n",
        "nlist = func_join(list1,list2)"
      ]
    },
    {
      "cell_type": "markdown",
      "metadata": {
        "id": "6TUuABHM4ei0"
      },
      "source": [
        "### $\\clubsuit$ 関数内でのリスト更新\n"
      ]
    },
    {
      "cell_type": "markdown",
      "metadata": {
        "id": "vRetz7vT4iyg"
      },
      "source": [
        "上では、数値(float)と関数を例に説明しましたが、リストの場合はもう少し挙動が複雑です。"
      ]
    },
    {
      "cell_type": "code",
      "execution_count": null,
      "metadata": {
        "colab": {
          "base_uri": "https://localhost:8080/"
        },
        "id": "5rZLX1Vh4p2f",
        "outputId": "ca13440a-d6b6-44c9-8521-f6ea3ce39efe"
      },
      "outputs": [],
      "source": [
        "def func_update_list(in_list):\n",
        "    in_list[0] = \"AAA\"\n",
        "\n",
        "tmp = [ \"SS\", 1,2,3]\n",
        "print(\"実行前\", tmp, id(tmp), id(tmp[0]))\n",
        "func_update_list(tmp)\n",
        "print(\"実行後\", tmp,id(tmp),id(tmp[0])) "
      ]
    },
    {
      "cell_type": "markdown",
      "metadata": {
        "id": "5w-Zo7Pw5YyA"
      },
      "source": [
        "リストオブジェクト自体のidは引き継がれていて、リスト内要素(0番目)の更新が反映されていることがわかります。"
      ]
    },
    {
      "cell_type": "code",
      "execution_count": null,
      "metadata": {
        "colab": {
          "base_uri": "https://localhost:8080/"
        },
        "id": "OgGkbM7u-k15",
        "outputId": "8283c13a-5d99-48cc-b879-ea53284581a3"
      },
      "outputs": [],
      "source": [
        "def func_update_list(in_list):\n",
        "    in_list[0] = \"AAA\" \n",
        "    in_list = [\"BBB\", 0,1,2]  ##ココはローカル変数扱い\n",
        "    return in_list\n",
        "\n",
        "tmp = [ \"SS\", 1,2,3]\n",
        "print(\"実行前\", tmp, id(tmp), id(tmp[0]))\n",
        "ret = func_update_list(tmp)\n",
        "print(\"実行後\", tmp,id(tmp),id(tmp[0])) \n",
        "print(\"ret\", ret,id(ret),id(ret[0])) "
      ]
    },
    {
      "cell_type": "markdown",
      "metadata": {},
      "source": [
        "## 関数とメソッド\n",
        "\n",
        "これまで登場してきた`print`や`len`などの関数は、Pythonに組み込まれている関数で、`関数()`という自作関数と同じ方法で呼び出せた。\n",
        "\n",
        "一方で、リストや文字列などのオブジェクトに対して、`オブジェクト.関数()`という形で呼び出せる関数がある。\n",
        "これらは**メソッド**と呼ばれ、オブジェクト(正確にはクラス)に対して定義された関数になっている。\n",
        "\n",
        "たとえば、リストに対して`append`というメソッドを呼び出すと、リストの末尾に要素を追加することができた"
      ]
    },
    {
      "cell_type": "code",
      "execution_count": null,
      "metadata": {},
      "outputs": [],
      "source": [
        "a = [1,2,3]\n",
        "a.append(4)\n",
        "print(a)"
      ]
    },
    {
      "cell_type": "markdown",
      "metadata": {},
      "source": [
        "関数もメソッドも、引数を取り何らかの操作をするという点では同じだが、両者はその設計思想が異なるため、混乱しないように注意する必要がある。\n",
        "大雑把に言えば、**関数は引数を取り、何らかの操作を行い、戻り値を返す**という設計思想であるのに対し、**メソッドはオブジェクトに対して何らかの操作を行う**という設計思想である。\n",
        "\n",
        "この授業では、クラスについての説明を行わないため、自分でクラスないしメソッドを定義することはないとは思うが、\n",
        "ライブラリ等で用意されているクラス・メソッドを用いることも多いため、混乱した場合はこの違いを意識するようにすると良い。"
      ]
    }
  ],
  "metadata": {
    "colab": {
      "authorship_tag": "ABX9TyM6vO7bZgJuLDdF+5NjdpNA",
      "collapsed_sections": [],
      "include_colab_link": true,
      "name": "Python_chapter3_Function.ipynb",
      "provenance": []
    },
    "kernelspec": {
      "display_name": "Python 3",
      "language": "python",
      "name": "python3"
    },
    "language_info": {
      "file_extension": ".jl",
      "mimetype": "application/julia",
      "name": "python",
      "version": "3.9.13"
    }
  },
  "nbformat": 4,
  "nbformat_minor": 0
}
