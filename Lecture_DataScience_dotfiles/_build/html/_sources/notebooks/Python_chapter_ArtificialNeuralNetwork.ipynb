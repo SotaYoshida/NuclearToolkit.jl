{
  "cells": [
    {
      "cell_type": "markdown",
      "metadata": {
        "colab_type": "text",
        "id": "view-in-github"
      },
      "source": [
        "<a href=\"https://colab.research.google.com/github/SotaYoshida/Lecture_DataScience/blob/main/notebooks/Python_chapter_ArtificialNeuralNetwork.ipynb\" target=\"_parent\"><img src=\"https://colab.research.google.com/assets/colab-badge.svg\" alt=\"Open In Colab\"/></a>"
      ]
    },
    {
      "cell_type": "markdown",
      "metadata": {
        "id": "sKor3X3ievgT"
      },
      "source": [
        "# 機械学習: ニューラルネットワークによる回帰"
      ]
    },
    {
      "cell_type": "markdown",
      "metadata": {
        "id": "4qZBy99AnBTn"
      },
      "source": [
        "\n",
        "\n",
        "この章では、最も単純な、入力層・隠れ層・出力層からなるニューラルネットワークを使って、データから尤もらしい予測を与える関数を構築してみましょう。\n",
        "\n",
        "対象とする(疑似)データは、多項式回帰の際に用いたデータと同じsin関数＋ノイズで生成することにします。\n",
        "\n",
        "\n",
        "* すすんだ注: このノートブックでは「ニューラルネットワークをPythonで表現してみる」ことに重きをおくため、使用するデータを訓練データ,検証データ,テストデータに分けることはせず、データは全てニューラルネットワークの訓練データとして使うこととします。\n",
        "授業で説明するとおり、一般に[教師あり学習]の文脈でニューラルネットワークを考える際は、本来データを上の様に複数用途に分けながら、モデル選択を行ったり、汎化性能の評価に使ったりします。"
      ]
    },
    {
      "cell_type": "code",
      "execution_count": 135,
      "metadata": {
        "id": "nme6EtxcerdN",
        "vscode": {
          "languageId": "python"
        }
      },
      "outputs": [],
      "source": [
        "import numpy as np\n",
        "def create_toy_data(sample_size, std):\n",
        "    np.random.seed(1234) #毎回同じデータになるように乱数の種を固定しておく \n",
        "    x = np.linspace(0, 0.5, sample_size)\n",
        "    t = np.sin(2*np.pi*x) + np.random.normal(scale=std, size=x.shape)                                                                                                                 \n",
        "    return x, t\n",
        "\n",
        "xt,yt = create_toy_data(40,5.e-2) "
      ]
    },
    {
      "cell_type": "code",
      "execution_count": 136,
      "metadata": {
        "colab": {
          "base_uri": "https://localhost:8080/",
          "height": 279
        },
        "id": "kZDRP8GFCSl1",
        "outputId": "b2d6c33e-26ad-45d1-ed2a-30b914602522",
        "vscode": {
          "languageId": "python"
        }
      },
      "outputs": [
        {
          "data": {
            "image/png": "[encoded data removed]",
            "text/plain": [
              "<Figure size 720x288 with 1 Axes>"
            ]
          },
          "metadata": {
            "needs_background": "light"
          },
          "output_type": "display_data"
        }
      ],
      "source": [
        "###グラフにしてみる\n",
        "import matplotlib.pyplot as plt\n",
        "fig = plt.figure(figsize=(10,4))\n",
        "ax = fig.add_subplot(111)\n",
        "ax.set_xlabel(\"x\"); ax.set_ylabel(\"y\")\n",
        "ax.scatter(xt, yt, facecolor=\"none\", edgecolor=\"b\", s=50, label=\"Data\")\n",
        "ax.legend()\n",
        "plt.show()\n",
        "plt.close()"
      ]
    },
    {
      "cell_type": "markdown",
      "metadata": {
        "id": "qG3GbElypvo7"
      },
      "source": [
        "ではいくつか必要な関数を適宜定義しながら進めていきましょう。\n",
        "\n",
        "*注: 以下のコードは入力・出力ともに1次元かつ、決まったニューラルネットワーク構造の場合に対して書かれているため、naiveに2層以上の隠れ層を持つニューラルネットワークに拡張するのはstraightfowardではなく、また効率的ではありません。"
      ]
    },
    {
      "cell_type": "code",
      "execution_count": 137,
      "metadata": {
        "id": "uRYnoX_rhm6U",
        "vscode": {
          "languageId": "python"
        }
      },
      "outputs": [],
      "source": [
        "nhl = 8 ## 隠れ層のノードの数を指定 これを増やすほどニューラルネットワークの表現能力が上がる一方、データに過適合しやすくなる(例外あり)"
      ]
    },
    {
      "cell_type": "code",
      "execution_count": 138,
      "metadata": {
        "id": "9NjbaZrFpw0K",
        "vscode": {
          "languageId": "python"
        }
      },
      "outputs": [],
      "source": [
        "#重み行列W,V(今はベクトル)と、隠れ層でのバイアスbs,出力層でのバイアスを正規乱数で初期化\n",
        "np.random.seed(1234)  #結果が実行ごとに同じになるよう乱数を固定(バグを見つけやすくする)\n",
        "W = np.random.normal(0.0,1.0,nhl)\n",
        "V = np.random.normal(0.0,1.0,nhl)\n",
        "bs = np.random.normal(0.0,1.0,nhl)\n",
        "b0 = np.random.normal()"
      ]
    },
    {
      "cell_type": "markdown",
      "metadata": {
        "id": "OqSaHMtth5to"
      },
      "source": [
        "隠れ層で作用させる活性化関数を定義しておきましょう。"
      ]
    },
    {
      "cell_type": "code",
      "execution_count": 139,
      "metadata": {
        "id": "z8XFRbf6h6q9",
        "vscode": {
          "languageId": "python"
        }
      },
      "outputs": [],
      "source": [
        "#シグモイド関数: 活性化関数の一つ\n",
        "def sigmoid(z):\n",
        "    return 1.0/(1.0+np.exp(-z))"
      ]
    },
    {
      "cell_type": "markdown",
      "metadata": {
        "id": "iHf3g_gsiENm"
      },
      "source": [
        "最適化したい量(データとモデルの齟齬を表す量)を目的関数(target function)やloss functionなどと呼びます。(以下でもそれに倣う)\n",
        "\n",
        "以下では、データとANNのアウトプットの二乗誤差を目的関数として定めることにします。"
      ]
    },
    {
      "cell_type": "code",
      "execution_count": 140,
      "metadata": {
        "id": "AsIEltHxiEY4",
        "vscode": {
          "languageId": "python"
        }
      },
      "outputs": [],
      "source": [
        "### データとANNの出力間の二乗誤差を計算する関数を作っておく。\n",
        "def calc_tloss(x,y,tW,tV,tbs,tb0,acf):\n",
        "    nhl = len(tW)\n",
        "    s=0.0\n",
        "    for i in range(len(x)):\n",
        "        s += (np.dot(tV, acf(tW*x[i]+tbs)) + tb0 - y[i])**2\n",
        "    return s"
      ]
    },
    {
      "cell_type": "markdown",
      "metadata": {
        "id": "Q_QhyjGnQVyJ"
      },
      "source": [
        "上ではcalc_tlossの引数にacfという変数を指定し、acfにsigmoidを指定しました。  \n",
        "この様にしておくと、sigmoid関数以外の活性化関数を使う際にも、上のcalc_tloss関数が使いまわせますね。\n",
        "\n"
      ]
    },
    {
      "cell_type": "markdown",
      "metadata": {
        "id": "6P_hprmIWE0w"
      },
      "source": [
        "## データの下処理\n",
        "\n",
        "機械学習などの分析では、データの値を中心0,分散1に変換して扱うのが基本です。\n",
        "\n",
        "このことを、データの標準化と呼びます。\n",
        "\n"
      ]
    },
    {
      "cell_type": "code",
      "execution_count": 141,
      "metadata": {
        "id": "ABVMF4Y9WCBN",
        "vscode": {
          "languageId": "python"
        }
      },
      "outputs": [],
      "source": [
        "ymean = np.mean(yt)\n",
        "ystd = np.std(yt)\n",
        "ny = (np.array(yt)-ymean)/ ystd #それぞれのデータを平均をひいて標準偏差で割る"
      ]
    },
    {
      "cell_type": "markdown",
      "metadata": {
        "id": "p_n9AjxUYWUr"
      },
      "source": [
        "なぜ標準化が必要なのかは、今のような1次元入力データの場合よりもむしろ多変数を扱う際を考えてみるとわかります。\n",
        "\n",
        "変数ごとに標準的なスケールが違う値を扱う場合、スケールの大きな量に学習が引っ張られる、ということが起こりえます。\n",
        "\n",
        "たとえば目的関数を[体重と身長、それぞれについての二乗誤差の和]とする場合、  \n",
        "データが50kg、ニューラルネットワークの予測が55kgで10%違っていても、二乗誤差の値は25ですが、  \n",
        "身長が180cm vs 198cmと10%違っていたら、二乗誤差の値は324となります。  \n",
        "したがって、目的関数は身長の予測精度により強く依存することになり、  \n",
        "身長をより重視する(きちんと再現する)方向へ、ニューラルネットワークの学習が引っ張られてしまいます。\n",
        "\n",
        "もちろん、身長をより高い精度で推測したいニューラルネットワークを構築したいなら話は別ですが、  \n",
        "特定の値を特別視しない(全ての量を平等に扱う)のなら、通常は標準化を行います。\n",
        "\n"
      ]
    },
    {
      "cell_type": "code",
      "execution_count": 142,
      "metadata": {
        "id": "e01pxFk0Qiuj",
        "vscode": {
          "languageId": "python"
        }
      },
      "outputs": [],
      "source": [
        "acf = sigmoid #sigmoid関数をacfという名前で使う"
      ]
    },
    {
      "cell_type": "markdown",
      "metadata": {
        "id": "eUXQaPuVQ_FR"
      },
      "source": [
        "さて、初期値W,V,bs,b0と活性化関数にsigmoidを選んだニューラルネットワークとデータの値の二乗誤差は..."
      ]
    },
    {
      "cell_type": "code",
      "execution_count": 143,
      "metadata": {
        "colab": {
          "base_uri": "https://localhost:8080/"
        },
        "id": "Xsdv35IfQ_bs",
        "outputId": "958a2fc0-1afa-4736-bde7-4c3051d1aedb",
        "vscode": {
          "languageId": "python"
        }
      },
      "outputs": [
        {
          "name": "stdout",
          "output_type": "stream",
          "text": [
            "初期値での二乗誤差 61.29358546868393\n"
          ]
        }
      ],
      "source": [
        "print(\"初期値での二乗誤差\",calc_tloss(xt,ny,W,V,bs,b0,acf))"
      ]
    },
    {
      "cell_type": "markdown",
      "metadata": {
        "id": "q5o7mlnFMPLF"
      },
      "source": [
        "データ1個あたり、ニューラルネットワークとデータ値との間にどれくらい誤差があるかというと..."
      ]
    },
    {
      "cell_type": "code",
      "execution_count": 144,
      "metadata": {
        "colab": {
          "base_uri": "https://localhost:8080/"
        },
        "id": "84AJ8uM3MYxi",
        "outputId": "a374719e-bd7f-4d97-ad61-2d02ef322096",
        "vscode": {
          "languageId": "python"
        }
      },
      "outputs": [
        {
          "name": "stdout",
          "output_type": "stream",
          "text": [
            "データ1個あたりの誤差: 1.2378770684995737\n"
          ]
        }
      ],
      "source": [
        "print(\"データ1個あたりの誤差:\", np.sqrt(calc_tloss(xt,ny,W,V,bs,b0,acf)/len(xt))) #データ1個あたりどれほど誤差*があるか *標準化された誤差"
      ]
    },
    {
      "cell_type": "markdown",
      "metadata": {
        "id": "iV0s8cpJrN2e"
      },
      "source": [
        "ランダムに生成した重み(W,V)やバイアス項(bs,b0)では、まだニューラルネットワークは訓練がなされていないデタラメな関数なので、図にプロットしてみると...\n"
      ]
    },
    {
      "cell_type": "code",
      "execution_count": 145,
      "metadata": {
        "colab": {
          "base_uri": "https://localhost:8080/",
          "height": 279
        },
        "id": "pSmbEHP9MhfL",
        "outputId": "3b7c5b66-55f3-4e47-dfca-3e5e2184ae62",
        "vscode": {
          "languageId": "python"
        }
      },
      "outputs": [
        {
          "data": {
            "image/png": "[encoded data removed]",
            "text/plain": [
              "<Figure size 720x288 with 1 Axes>"
            ]
          },
          "metadata": {
            "needs_background": "light"
          },
          "output_type": "display_data"
        }
      ],
      "source": [
        "xp = np.linspace(0.0,0.5,300)\n",
        "yp = np.array([np.dot(V, sigmoid(W*xp[i]+bs)) for i in range(len(xp))])\n",
        "\n",
        "fig = plt.figure(figsize=(10,4))\n",
        "ax = fig.add_subplot(111)\n",
        "ax.set_xlabel(\"x\"); ax.set_ylabel(\"y\")\n",
        "ax.scatter(xt, yt, facecolor=\"none\", edgecolor=\"b\", s=50, label=\"Data\") \n",
        "ax.plot(xp,yp*ystd+ymean,label=\"ANN\") #ニューラルネットワークの予測ypは、\"標準化された\"yの値に従って学習されているので、元のスケールに戻さないといけない。\n",
        "ax.legend()\n",
        "plt.show(); plt.close()"
      ]
    },
    {
      "cell_type": "markdown",
      "metadata": {
        "id": "zfYX7Od8NEDt"
      },
      "source": [
        "当然ですが、全然だめですね。\n",
        "\n",
        "状況を改善するためにニューラルネットワークのパラメータを徐々に更新(学習)していきましょう。  \n",
        "そのためには、まず勾配を計算する関数を用意しておきます。\n",
        "\n",
        "loss functionを$f$と書くことにすると、必要な勾配は4種類で\n",
        "$\\frac{\\partial f}{\\partial W}, \\frac{\\partial f}{\\partial V}, \\frac{\\partial f}{\\partial b}, \\frac{\\partial f}{\\partial b_0}$です。  \n",
        "プログラムではそれぞれ```dw,dv,dbs,db0```とでも名前をつけることにして、勾配を返り値として与える関数を定義します。\n",
        "\n",
        "以下では、勾配降下法, Adamの2通りの最適化手法を用いてパラメータを更新することとします。"
      ]
    },
    {
      "cell_type": "markdown",
      "metadata": {
        "id": "wOxttwbLdc1E"
      },
      "source": [
        "## 勾配降下法"
      ]
    },
    {
      "cell_type": "markdown",
      "metadata": {
        "id": "nyeC4YIfjnua"
      },
      "source": [
        "勾配降下法とは、目的関数を微分した勾配の値のみを使ってパラメータを更新する方法です。  \n",
        "たとえば,重み$W$の$i$番目を更新する際には  \n",
        "$W_i := W_i - \\eta \\frac{\\partial f}{\\partial W_i}$  \n",
        "とします。($f$は目的関数で、$\\eta$は学習率(パラメータ更新のスケールを決めるパラメータ)です。)"
      ]
    },
    {
      "cell_type": "code",
      "execution_count": 146,
      "metadata": {
        "id": "xyL8Tvp1r6F-",
        "vscode": {
          "languageId": "python"
        }
      },
      "outputs": [],
      "source": [
        "def calc_der(x,y,tW,tV,tbs,tb0,acf,acfder):\n",
        "    tdw = np.zeros(nhl)\n",
        "    tdv =  np.zeros(nhl)\n",
        "    tdbs = np.zeros(nhl)\n",
        "    tdb0 = 0.0\n",
        "    #以下の勾配の計算は、目的関数が二乗誤差かつ全データでの勾配の和を使用する場合にのみ正しい\n",
        "    for i in range(len(x)):\n",
        "        g = np.dot(tV, acf(tW*x[i]+tbs) ) + tb0 - y[i]\n",
        "        tdb0 += 2.0 * g\n",
        "        for jth in range(nhl):                    \n",
        "            tdv[jth]  += 2.0 * g * acf(tW[jth]*x[i]+tbs[jth])\n",
        "            tdw[jth]  += 2.0 * g * tV[jth] * acfder(tW[jth]*x[i]+tbs[jth]) *x[i]\n",
        "            tdbs[jth] += 2.0 * g * tV[jth] * acfder(tW[jth]*x[i]+tbs[jth])\n",
        "    return tdw, tdv, tdbs, tdb0\n",
        "\n",
        "#シグモイド関数の微分: 勾配の計算を具体的に求めるのに使う\n",
        "def sigmoid_der(z):\n",
        "    return np.exp(-z)/ ((1.0+np.exp(-z))**2)"
      ]
    },
    {
      "cell_type": "markdown",
      "metadata": {
        "id": "UOWJiYG6Nrp5"
      },
      "source": [
        "さてW,V,bs,b0の初期値での勾配の値は"
      ]
    },
    {
      "cell_type": "code",
      "execution_count": 147,
      "metadata": {
        "colab": {
          "base_uri": "https://localhost:8080/"
        },
        "id": "6Px2oXdcNzTQ",
        "outputId": "413b3795-ca17-4929-b956-278ea19b15f9",
        "vscode": {
          "languageId": "python"
        }
      },
      "outputs": [
        {
          "data": {
            "text/plain": [
              "(array([ 5.21872673e-02, -8.03960749e+00,  1.83009108e+00,  1.91103332e+00,\n",
              "         3.24927634e+00, -7.23670010e+00, -1.12232153e+00,  7.58282404e-03]),\n",
              " array([36.82875279, 29.24447765, 49.19261588,  9.67161219, 23.84412956,\n",
              "        23.11524231, 35.19158249, 35.04412075]),\n",
              " array([ 2.14818071e-01, -3.23527933e+01,  9.04076394e+00,  8.00770445e+00,\n",
              "         1.34159140e+01, -2.80674027e+01, -4.66782630e+00,  2.97730658e-02]),\n",
              " 58.69466810466825)"
            ]
          },
          "execution_count": 147,
          "metadata": {},
          "output_type": "execute_result"
        }
      ],
      "source": [
        "acf = sigmoid\n",
        "acfder = sigmoid_der #sigmoid関数の微分sigmoid_derをacfderという名前で使う\n",
        "calc_der(xt,ny,W,V,bs,b0,acf,acfder)"
      ]
    },
    {
      "cell_type": "markdown",
      "metadata": {
        "id": "k7vvCZExdmnK"
      },
      "source": [
        "と計算できるようになりました。"
      ]
    },
    {
      "cell_type": "code",
      "execution_count": 148,
      "metadata": {
        "id": "skJRBuEBrn4b",
        "vscode": {
          "languageId": "python"
        }
      },
      "outputs": [],
      "source": [
        "def fitGD(x,y,tW,tV,tbs,tb0,acf,acfder,nepoch,eta,verbose):\n",
        "    for i in range(nepoch):\n",
        "        tdw,tdv,tdbs, tdb0 = calc_der(x,y,tW,tV,tbs,tb0,acf,acfder)\n",
        "        tW = tW - eta * tdw\n",
        "        tV = tV -eta * tdv\n",
        "        tbs =  tbs -eta * tdbs\n",
        "        tb0 = tb0 -eta * tdb0        \n",
        "        if verbose == 1:\n",
        "            print(i, \"tloss =\", calc_tloss(x,y,tW,tV,tbs,tb0,acf))\n",
        "    return tW,tV,tbs,tb0,tdw,tdv,tdbs, tdb0"
      ]
    },
    {
      "cell_type": "markdown",
      "metadata": {
        "id": "W86sRWDOSZfU"
      },
      "source": [
        "では実際に上の関数を使って、パラメータの値を更新してみましょう。  \n",
        "(nhlの値に依りますが、ちょっぴり計算に時間がかかります)"
      ]
    },
    {
      "cell_type": "code",
      "execution_count": 149,
      "metadata": {
        "id": "Zy6GcfmpSZwc",
        "vscode": {
          "languageId": "python"
        }
      },
      "outputs": [],
      "source": [
        "nepoch = 2000\n",
        "acf = sigmoid; acfder=sigmoid_der\n",
        "verbose=0\n",
        "eta = 0.01 #学習率(パラメータ更新のスケールを決めるパラメータ)\n",
        "W,V,bs,b0,dw,dv,dbs,db0=fitGD(xt,ny,W,V,bs,b0,acf,acfder,nepoch,eta,verbose)"
      ]
    },
    {
      "cell_type": "markdown",
      "metadata": {
        "id": "N-vuF2Z9SRXU"
      },
      "source": [
        "更新された重み・バイアス(W,V,bs,b0)を使って、データとの二乗誤差を計算してみると..."
      ]
    },
    {
      "cell_type": "code",
      "execution_count": 150,
      "metadata": {
        "colab": {
          "base_uri": "https://localhost:8080/"
        },
        "id": "uZUXTpfhS1Y2",
        "outputId": "97daaae6-ed44-4498-fc52-6a61ed1cbb00",
        "vscode": {
          "languageId": "python"
        }
      },
      "outputs": [
        {
          "name": "stdout",
          "output_type": "stream",
          "text": [
            "学習後の二乗誤差 31.426829182338306\n"
          ]
        }
      ],
      "source": [
        "print(\"学習後の二乗誤差\",calc_tloss(xt,ny,W,V,bs,b0,acf))"
      ]
    },
    {
      "cell_type": "markdown",
      "metadata": {
        "id": "3MfVJVWmTJlU"
      },
      "source": [
        "すると、さっきより小さくはなっていますが、そこまで二乗誤差が減っていません。  \n",
        "\n",
        "実際にplotしてみても"
      ]
    },
    {
      "cell_type": "code",
      "execution_count": 151,
      "metadata": {
        "id": "fSpr9Db1SQZ1",
        "vscode": {
          "languageId": "python"
        }
      },
      "outputs": [],
      "source": [
        "xp = np.linspace(0, 0.5, 500) \n",
        "yp = 0.0*xp \n",
        "for i in range(len(yp)):\n",
        "    yp[i] = np.dot(V, sigmoid(W*xp[i]+bs)) + b0 "
      ]
    },
    {
      "cell_type": "code",
      "execution_count": 152,
      "metadata": {
        "colab": {
          "base_uri": "https://localhost:8080/",
          "height": 279
        },
        "id": "M4SvRcWLSSyg",
        "outputId": "8dab58c0-6aed-44f0-972f-4b1df0857d19",
        "vscode": {
          "languageId": "python"
        }
      },
      "outputs": [
        {
          "data": {
            "image/png": "[encoded data removed]",
            "text/plain": [
              "<Figure size 720x288 with 1 Axes>"
            ]
          },
          "metadata": {
            "needs_background": "light"
          },
          "output_type": "display_data"
        }
      ],
      "source": [
        "fig = plt.figure(figsize=(10,4))\n",
        "ax = fig.add_subplot(111)\n",
        "ax.set_xlabel(\"x\"); ax.set_ylabel(\"y\")\n",
        "ax.scatter(xt, yt, facecolor=\"none\", edgecolor=\"b\", s=50, label=\"Data\")\n",
        "ax.plot(xp,yp*ystd+ymean,label=\"ANN\") ## ニューラルネットワークの出力は標準化した値に対して学習されていることに注意\n",
        "ax.legend()\n",
        "plt.show()\n",
        "plt.close()"
      ]
    },
    {
      "cell_type": "markdown",
      "metadata": {
        "id": "cINfIqP4TTAV"
      },
      "source": [
        "ほとんど学習が進んでいません...(絶望)\n",
        "\n"
      ]
    },
    {
      "cell_type": "markdown",
      "metadata": {
        "id": "tDt2m0JKf1Ja"
      },
      "source": [
        "学習の様子を都度printしてみる(```verbose=1```に設定する)ことにして  \n",
        "最初からやりなおしてみると..."
      ]
    },
    {
      "cell_type": "code",
      "execution_count": 153,
      "metadata": {
        "colab": {
          "base_uri": "https://localhost:8080/"
        },
        "id": "U_Je7tlWfX9v",
        "outputId": "72e92421-1808-4794-b074-74511b10a2e5",
        "vscode": {
          "languageId": "python"
        }
      },
      "outputs": [
        {
          "name": "stdout",
          "output_type": "stream",
          "text": [
            "学習前のloss 61.29358546868393\n",
            "0 tloss = 155.20176990047585\n",
            "1 tloss = 636.6940976770327\n",
            "2 tloss = 1982.0790483266553\n",
            "3 tloss = 2056.051066857846\n",
            "4 tloss = 75.1510373285995\n",
            "5 tloss = 41.306942787588895\n",
            "6 tloss = 40.230205073524374\n",
            "7 tloss = 40.1956281449949\n",
            "8 tloss = 40.19379266944327\n",
            "9 tloss = 40.19298621925973\n",
            "10 tloss = 40.19221490236367\n",
            "11 tloss = 40.19144755457859\n",
            "12 tloss = 40.19068317848521\n",
            "13 tloss = 40.18992172293257\n",
            "14 tloss = 40.189163166751285\n",
            "15 tloss = 40.188407489902666\n",
            "16 tloss = 40.18765467254862\n",
            "17 tloss = 40.186904695016516\n",
            "18 tloss = 40.186157537795744\n",
            "19 tloss = 40.18541318153565\n"
          ]
        }
      ],
      "source": [
        "np.random.seed(1234)\n",
        "W = np.random.normal(0.0,1.0,nhl)\n",
        "V = np.random.normal(0.0,1.0,nhl)\n",
        "bs = np.random.normal(0.0,1.0,nhl)\n",
        "b0 = np.random.normal()\n",
        "\n",
        "nepoch=20 #20回だけ学習の様子を表示\n",
        "verbose=1 \n",
        "print(\"学習前のloss\", calc_tloss(xt,ny,W,V,bs,b0,acf))\n",
        "#学習\n",
        "W,V,bs,b0,dw,dv,dbs,db0=fitGD(xt,ny,W,V,bs,b0,acf,acfder,nepoch,eta,verbose)"
      ]
    },
    {
      "cell_type": "markdown",
      "metadata": {
        "id": "TJaqgLw7Uaau"
      },
      "source": [
        "あるところからは、ほとんど学習が進んでいない事がわかります。\n",
        "\n",
        "原因として考えられるのは\n",
        "* loss functionをパラメータ(超)空間上にプロットした際にプラトーが存在する\n",
        "* 最適化手法や学習率の設定が適切でない\n",
        "* 初期値が悪い\n",
        "\n",
        "などがあります。\n",
        "\n",
        "勾配降下法は、最もシンプルな勾配を使った最適化手法ですが、学習の途中で勾配がほとんど0になってしまって(勾配消失ともいう)、学習が進まなくなってしまう、といったことがよく起こります。  \n",
        "\n",
        "「勾配が小さいなら勾配にかける学習率を大きくすればええんとちゃいまんの...？」  \n",
        "と思うかもしれませんが、学習率を単純に大きくしてしまうと、明後日の方向にパラメータを更新するせいで目的関数が発散してしまいます。(eta=0.1などとして試してみてください)\n",
        "\n",
        "注) 勾配降下法を拡張した、データを部分的に使うことで学習が停滞することを防ぐ、確率的勾配降下法(Stochastic Gradient Descent; SGD)は現在もよく使われています。\n",
        "\n",
        "以下では、Adamと呼ばれる別の最適化手法を試してみましょう。"
      ]
    },
    {
      "cell_type": "markdown",
      "metadata": {
        "id": "A3NSz6JulqFB"
      },
      "source": [
        "## Adam"
      ]
    },
    {
      "cell_type": "markdown",
      "metadata": {
        "id": "n0QGVWTmltgl"
      },
      "source": [
        "Adamは、勾配降下法の様にその都度の勾配の情報だけを使うのではなく、\n",
        "以前の勾配の情報も有効活用する手法です。\n",
        "\n",
        "Adamは2014年に提唱された比較的新しい手法で、以降の機械学習の論文では、Adamが最もよく使われています。(*最も\"良い\"という意味では必ずしもありません)"
      ]
    },
    {
      "cell_type": "code",
      "execution_count": 154,
      "metadata": {
        "id": "AdFBxZceoktL",
        "vscode": {
          "languageId": "python"
        }
      },
      "outputs": [],
      "source": [
        "def updateAdam(A,mt,vt,i,beta1,beta2,eps):\n",
        "    mhat = mt / (1.0-beta1**(i+1))\n",
        "    vhat = vt / (1.0-beta2**(i+1))\n",
        "    return mhat / (np.sqrt( vhat )+eps)\n",
        "\n",
        "def fitAdam(x,y,tW,tV,tbs,tb0,acf,acfder,nepoch,eta,verbose):\n",
        "    mts = [ np.zeros(nhl), np.zeros(nhl), np.zeros(nhl), np.zeros(1) ]\n",
        "    vts  = [ np.zeros(nhl), np.zeros(nhl), np.zeros(nhl), np.zeros(1) ]\n",
        "    ## Adamで使用するパラメータ\n",
        "    beta1 = 0.9; beta2 = 0.999; eps = 1.e-6\n",
        "    omb1 = 1.0-beta1; omb2 = 1.0-beta2\n",
        "    ## 最適化\n",
        "    for i in range(nepoch):\n",
        "        tmp = calc_der(x,y,tW,tV,tbs,tb0,acf,acfder)   ### 勾配を計算するところまでは同じ。\n",
        "        for n,mt in enumerate(mts):\n",
        "            mts[n] = beta1 * mt + omb1 * tmp[n]\n",
        "            vts[n]  = beta2 * vts[n] + omb2 * (tmp[n]**2)\n",
        "        ### 重み・バイアスの更新\n",
        "        tW += -eta * updateAdam(tW, mts[0],vts[0],i,beta1,beta2,eps)\n",
        "        tV  += -eta * updateAdam(tV, mts[1],vts[1],i,beta1,beta2,eps)\n",
        "        tbs += -eta * updateAdam(tbs,mts[2],vts[2],i,beta1,beta2,eps)\n",
        "        tb0 += -eta *  (mts[3]/(1.0-beta1**(i+1))) / ( np.sqrt( vts[3]/ (1.0-beta2**(i+1))) + eps)\n",
        "        if verbose and i % 500 == 0:\n",
        "            print(i, \"tloss =\", calc_tloss(x,y,tW,tV,tbs,tb0,acf))        \n",
        "    return tW,tV,tbs,tb0"
      ]
    },
    {
      "cell_type": "markdown",
      "metadata": {
        "id": "ZzDaa2zCoeIm"
      },
      "source": [
        "それでは重みを初期化して、再び学習をしてみましょう"
      ]
    },
    {
      "cell_type": "code",
      "execution_count": 161,
      "metadata": {
        "colab": {
          "base_uri": "https://localhost:8080/"
        },
        "id": "4mkH2DuglqLS",
        "outputId": "de51a9b4-c624-4aba-b11d-24dfd9ee7183",
        "vscode": {
          "languageId": "python"
        }
      },
      "outputs": [
        {
          "name": "stdout",
          "output_type": "stream",
          "text": [
            "学習前のloss 61.29358546868393\n",
            "学習後のloss [0.89838996]\n"
          ]
        }
      ],
      "source": [
        "np.random.seed(1234) ## Gradient descentと同条件でスタートするためseedを固定\n",
        "W = np.random.normal(0.0,1.0,nhl)\n",
        "V = np.random.normal(0.0,1.0,nhl)\n",
        "bs = np.random.normal(0.0,1.0,nhl)\n",
        "b0 = np.random.normal()\n",
        "\n",
        "nepoch=2000\n",
        "verbose=False\n",
        "eta = 0.05\n",
        "\n",
        "acf = sigmoid ; acfder =sigmoid_der\n",
        "print(\"学習前のloss\", calc_tloss(xt,ny,W,V,bs,b0,acf))\n",
        "W,V,bs,b0=fitAdam(xt,ny,W,V,bs,b0,acf,acfder,nepoch,eta,verbose)\n",
        "print(\"学習後のloss\", calc_tloss(xt,ny,W,V,bs,b0,acf))"
      ]
    },
    {
      "cell_type": "markdown",
      "metadata": {
        "id": "0PJr6ceIFVS-"
      },
      "source": [
        "さっきよりlossの値が小さくなっています。学習がうまく行ってそうですね。\n",
        "\n",
        "グラフにしてみると..."
      ]
    },
    {
      "cell_type": "code",
      "execution_count": 156,
      "metadata": {
        "colab": {
          "base_uri": "https://localhost:8080/",
          "height": 279
        },
        "id": "QlVmPtFxVr3u",
        "outputId": "b04eee9d-d29e-4add-9f68-7aeac862198d",
        "vscode": {
          "languageId": "python"
        }
      },
      "outputs": [
        {
          "data": {
            "image/png": "[encoded data removed]",
            "text/plain": [
              "<Figure size 720x288 with 1 Axes>"
            ]
          },
          "metadata": {
            "needs_background": "light"
          },
          "output_type": "display_data"
        }
      ],
      "source": [
        "xp = np.linspace(0, 0.5, 500) \n",
        "yp = 0.0*xp \n",
        "for i in range(len(yp)):\n",
        "    yp[i] = np.dot(V, sigmoid(W*xp[i]+bs)) + b0 \n",
        "ytruth = np.sin(2*np.pi*xp)\n",
        "fig = plt.figure(figsize=(10,4))\n",
        "ax = fig.add_subplot(111)\n",
        "ax.set_xlabel(\"x\"); ax.set_ylabel(\"y\")\n",
        "ax.scatter(xt, yt, facecolor=\"none\", edgecolor=\"b\", s=50, label=\"Data\")\n",
        "ax.plot(xp,yp*ystd+ymean,color=\"C01\",label=\"ANN\")\n",
        "ax.plot(xp,ytruth,color=\"C02\",label=\"Ground Truth\")\n",
        "ax.legend()\n",
        "plt.show()\n",
        "plt.close()"
      ]
    },
    {
      "cell_type": "markdown",
      "metadata": {
        "id": "jOaGjLWiGE0-"
      },
      "source": [
        "のように、データの特徴をそこそこうまく捉えたニューラルネットワークへと学習が進みました。\n",
        "\n",
        "実際には、ニューラルネットワークの精度(良さ)は、前述のような検証データに対する汎化性能で評価します。  \n",
        "\n",
        "上で示した例では、3層のニューラルネットワークにデータからそれらしい関数を学習させてみました。\n",
        "\n",
        "ニューラルネットワークの構造をより複雑化したりしながら、より複雑で高次元な回帰問題に応用したり、回帰問題だけではなく分類問題・画像生成・物体検知などなど、各種の楽しい実社会の問題に応用していきます。 (例: 第2回で説明した敵対的生成ネットワーク)\n"
      ]
    },
    {
      "cell_type": "markdown",
      "metadata": {
        "id": "qMB-1YMwdqij"
      },
      "source": [
        "## 最適化手法に関するまとめ\n",
        "\n",
        "ニューラルネットワークの学習がうまく進むかどうかは一般に\n",
        "1. ネットワークの構造(アーキテクチャとも言ったりします)や活性化関数(とその微分)の持つ性質\n",
        "2. 最適化手法や手法内のパラメータ\n",
        "3. 重みやバイアスの初期値\n",
        "\n",
        "などに強く依存します。\n",
        "\n",
        "1.に関して   \n",
        "回帰問題における代表的な活性化関数としては\n",
        "最近の傾向として、sigmoidよりも以下のReLU関数が使われることが多いです。  \n",
        "\n",
        "\n",
        "\n",
        "\n"
      ]
    },
    {
      "cell_type": "code",
      "execution_count": 157,
      "metadata": {
        "id": "LKDihzzDT0-H",
        "vscode": {
          "languageId": "python"
        }
      },
      "outputs": [],
      "source": [
        "def relu(z):\n",
        "    return (z > 0)* z   \n",
        "\n",
        "def relu_der(z):\n",
        "     return (z > 0)*1.0 \n",
        "     \n",
        "#いずれも、zが実数値でもnp.array型のベクトルでも対応可能な表式"
      ]
    },
    {
      "cell_type": "code",
      "execution_count": 158,
      "metadata": {
        "colab": {
          "base_uri": "https://localhost:8080/",
          "height": 265
        },
        "id": "M962DFirJgu9",
        "outputId": "ce0db346-fd65-47d4-8fcd-911179489442",
        "vscode": {
          "languageId": "python"
        }
      },
      "outputs": [
        {
          "data": {
            "image/png": "[encoded data removed]",
            "text/plain": [
              "<Figure size 720x288 with 2 Axes>"
            ]
          },
          "metadata": {
            "needs_background": "light"
          },
          "output_type": "display_data"
        }
      ],
      "source": [
        "##適当な区間のxの値を用意する\n",
        "xp = np.linspace(-10.0,10.0,100)\n",
        "yp_sigmoid = sigmoid(xp)\n",
        "yp_relu = relu(xp)\n",
        "\n",
        "fig = plt.figure(figsize=(10,4))\n",
        "ax1 = fig.add_subplot(121)\n",
        "ax1.plot(xp,yp_sigmoid,label=\"Sigmoid\")\n",
        "ax1.legend()\n",
        "ax2 = fig.add_subplot(122)\n",
        "ax2.plot(xp,yp_relu,label=\"ReLU\")\n",
        "ax2.legend()\n",
        "plt.show()\n",
        "plt.close()"
      ]
    },
    {
      "cell_type": "markdown",
      "metadata": {
        "id": "f9ELoAn8hYNr"
      },
      "source": [
        "sigmoid関数はx->+∞で1.0, x=-∞で-1.0に漸近します。\n",
        "\n",
        "一方でReLU関数はx=0までは0.0で、x>0.0で、xとなるような関数です。\n",
        "\n",
        "\n",
        "なぜReLUがよく使われる様になったかと言うと、  \n",
        "(特に隠れ層の数が多い深層学習において)学習するにつれて勾配の値が小さくなって学習が進まない、\n",
        "という問題を解決するためです。\n",
        "\n",
        "それぞれの関数の微分を表示してみると"
      ]
    },
    {
      "cell_type": "code",
      "execution_count": 159,
      "metadata": {
        "colab": {
          "base_uri": "https://localhost:8080/",
          "height": 265
        },
        "id": "dj-P7bDfvYpr",
        "outputId": "c8bf0288-f777-4bb1-efb2-d1546c867027",
        "vscode": {
          "languageId": "python"
        }
      },
      "outputs": [
        {
          "data": {
            "image/png": "[encoded data removed]",
            "text/plain": [
              "<Figure size 720x288 with 2 Axes>"
            ]
          },
          "metadata": {
            "needs_background": "light"
          },
          "output_type": "display_data"
        }
      ],
      "source": [
        "xp = np.linspace(-10.0,10.0,100)\n",
        "yp_sigmoid = sigmoid_der(xp)\n",
        "yp_relu = relu_der(xp)\n",
        "\n",
        "fig = plt.figure(figsize=(10,4))\n",
        "ax1 = fig.add_subplot(121)\n",
        "ax1.plot(xp,yp_sigmoid,label=\"Sigmoid\")\n",
        "ax1.legend()\n",
        "ax2 = fig.add_subplot(122)\n",
        "ax2.plot(xp,yp_relu,label=\"ReLU\")\n",
        "ax2.legend()\n",
        "plt.show()\n",
        "plt.close()"
      ]
    },
    {
      "cell_type": "markdown",
      "metadata": {
        "id": "B0FHTFBwvtLP"
      },
      "source": [
        "sigmoid関数は微分の値が最大で0.25なのに対して、ReLU関数では最大1.0となるため勾配の消失が起こりにくいのです。"
      ]
    },
    {
      "cell_type": "markdown",
      "metadata": {
        "id": "PiFx3X4xJd7V"
      },
      "source": [
        "問題ごとに何が最適なネットワーク構造だったり活性化関数なのかは、  \n",
        "予め分かることはなく、試行錯誤が必要です。  \n",
        "ここまでこの授業で勉強してきた皆さんは既に、  \n",
        "「この試行錯誤自体を人力ではなくコンピュータにやらせる方法はないか」という点に思い至るのではないでしょうか?\n",
        "\n",
        "これに関連したお話はベイズ最適化の回で説明します。"
      ]
    },
    {
      "cell_type": "markdown",
      "metadata": {
        "id": "hpVMAFUiwUtT"
      },
      "source": [
        "3.に関して\n",
        "\n",
        "また、ネットワークの重みやバイアスをどのような値から始めるかに学習が依存する場合もあります。\n",
        "\n",
        "というのも、今考えた３層のニューラルネットワークでは、  \n",
        "重み$W$の学習に使う勾配の表式は、$V$に比例しています。\n",
        "\n",
        "したがって単純に勾配の情報のみを使う最適化手法では、  \n",
        "$V$の初期値を0に取ったり、学習の過程で偶然$V$の値が0に近くなってしまうと、  \n",
        "$V$が更新されノンゼロの値を持つまで$W$の学習は始まりません。\n",
        "\n",
        "どのような初期値を採用するべきかに関しても、予め知ることは一般にはできませんが、  \n",
        "いくつかの特定の場合に関して、推奨される方法というのは存在しています。\n",
        "\n",
        "例: ReLU関数を活性化関数に使うときはHeの初期値というものが推奨されている"
      ]
    }
  ],
  "metadata": {
    "accelerator": "TPU",
    "colab": {
      "authorship_tag": "ABX9TyPpQYMbqGEZMRisgxppnqSm",
      "collapsed_sections": [],
      "include_colab_link": true,
      "name": "Python_chapter_ArtificialNeuralNetwork.ipynb",
      "provenance": []
    },
    "kernelspec": {
      "display_name": "Python 3",
      "name": "python3"
    }
  },
  "nbformat": 4,
  "nbformat_minor": 0
}
