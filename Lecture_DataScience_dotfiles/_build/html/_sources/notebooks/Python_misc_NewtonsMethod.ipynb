{
  "cells": [
    {
      "cell_type": "markdown",
      "metadata": {
        "colab_type": "text",
        "id": "view-in-github"
      },
      "source": [
        "<a href=\"https://colab.research.google.com/github/SotaYoshida/Lecture_DataScience/blob/main/notebooks/Python_misc_NewtonsMethod.ipynb\" target=\"_parent\"><img src=\"https://colab.research.google.com/assets/colab-badge.svg\" alt=\"Open In Colab\"/></a>"
      ]
    },
    {
      "cell_type": "markdown",
      "metadata": {
        "id": "aLf3PqMgkFNC"
      },
      "source": [
        "# ニュートン法によるN次元多項式の求根\n",
        "\n"
      ]
    },
    {
      "cell_type": "markdown",
      "metadata": {
        "id": "0ZIFvSR9kOo9"
      },
      "source": [
        "$n$次元多項式$f(x) = c_0 + c_1 x + c_2 x^2 + \\ldots + c_nx^n$が与えられた時、  \n",
        "$f(x)=0$となるような解(根)をどのように求めたら良いだろうか？\n",
        "\n",
        "$n=2$までの場合については、中学までで習うようによく知られた公式がある。  \n",
        "$n=3,4$の場合についてもそれぞれ、[カルダノの公式]や[フェラリの解法]として知られる  \n",
        "代数的な求根法が存在する。  \n",
        "なお、5次以上の代数方程式には代数的な解法※が存在しないことが知られている(アーベル-ルフィニの定理)  \n",
        "(※方程式の係数の有限回の四則演算および冪根操作で解を表示すること)\n",
        "\n",
        "\n",
        "方程式の解や積分値などが代数的/解析的に解けない場合は、もちろん数値計算の出番となる。  \n",
        "\n",
        "このノートブックでは、ニュートン法(あるいはニュートン・ラフソン法)として知られる求根アルゴリズムを紹介する。  "
      ]
    },
    {
      "cell_type": "markdown",
      "metadata": {
        "id": "tPW10YYsnOHs"
      },
      "source": [
        "## ニュートン法"
      ]
    },
    {
      "cell_type": "markdown",
      "metadata": {
        "id": "ZnosTDdTnPFL"
      },
      "source": [
        "ニュートン法による関数$f(x)=0$の求根アルゴリズム自体は非常にシンプルで\n",
        "\n",
        "1. 初期値$x \\in \\mathbb{R} $ (または$x \\in \\mathbb{C})$を決める\n",
        "2.  上の初期値を$x_0$とでも呼ぶことにして、  \n",
        "    $ x_{t+1} = x_t - f(x_t) / f'(x_t) $  と$x$を更新し  \n",
        "    $x$の値が収束するまで更新を繰り返す\n",
        "\n",
        "というものである。  \n",
        "\n",
        "$\\clubsuit$  進んだ注  \n",
        "高次元のベクトル$\\boldsymbol{x}$に拡張することもできる。   \n",
        "$ \\boldsymbol{x}_{t+1} = \\boldsymbol{x}_{t} - \\partial f(\\boldsymbol{x}_t)^{-1} f(\\boldsymbol{x}_t)$\n",
        "$\\partial f(\\boldsymbol{x}_t)$はヤコビ行列になるが、  \n",
        "数値計算上の困難が有り、実際に解く場合には様々な工夫が必要となる。"
      ]
    },
    {
      "cell_type": "markdown",
      "metadata": {
        "id": "lP5pa0eSpqfz"
      },
      "source": [
        "### ニュートン法のアルゴリズムの実装例\n",
        "\n",
        "$n=5$の多項式の例を用いて、ニュートン法のアルゴリズムを実装してみよう。  \n",
        "実数係数の多項式の場合、非ゼロの係数を持つ最大の$n$が奇数次ならば、  \n",
        "関数$f(x)$は必ず実軸を横切る(つまり、$f(x)=0$の解が存在する。  \n",
        "\n",
        "まず係数を適当に...\n",
        "$c_0 = 1.0, c_1 = 1.0, c_2 = 2.0, c_3 = 3.0, c_4 = 4.0, c_5 = 5.0$\n",
        "とでもして、プロットしてみよう。"
      ]
    },
    {
      "cell_type": "code",
      "execution_count": null,
      "metadata": {
        "colab": {
          "base_uri": "https://localhost:8080/",
          "height": 276
        },
        "id": "mDpCwZF0kEnj",
        "outputId": "c5eb065f-87bf-42d0-fc38-1c57f88b8848"
      },
      "outputs": [
        {
          "data": {
            "image/png": "[encoded data removed]",
            "text/plain": [
              "<Figure size 1440x288 with 1 Axes>"
            ]
          },
          "metadata": {
            "needs_background": "light",
            "tags": []
          },
          "output_type": "display_data"
        }
      ],
      "source": [
        "import numpy as np \n",
        "from matplotlib import pyplot as plt\n",
        "\n",
        "\n",
        "## 多項式の係数を定義\n",
        "cs = np.array( [1.0, 1.0, 2.0, 3.0, 4.0, 5.0] )\n",
        "\n",
        "## 愚直に多項式とその微分を定義\n",
        "def xpoly(x):\n",
        "    return np.array([1.0,x,x**2,x**3,x**4,x**5])\n",
        "def xpoly_prime(x):\n",
        "    return np.array([0.0,1.0,2*x,3*x**2,4*x**3,5*x**4])\n",
        "\n",
        "# 適当な区間で点を作成して描画してみる\n",
        "xr = np.arange(-100,100,1.0) \n",
        "yr = np.array([ np.dot(cs,xpoly(x)) for x in xr])\n",
        "fig = plt.figure(figsize = (20,4))\n",
        "ax = fig.add_subplot(111)\n",
        "ax.plot(xr,yr)\n",
        "ax.plot(xr,0.0*yr,linestyle=\"dotted\",color=\"gray\") # y=0\n",
        "plt.show()\n",
        "plt.close() \n"
      ]
    },
    {
      "cell_type": "markdown",
      "metadata": {
        "id": "1anohi6wsU2l"
      },
      "source": [
        "ゼロ点($f(x)=0$となる$x$)があることはわかるが、このスケールだと具体的な値はよくわからない。\n",
        "\n",
        "次にニュートン法のアルゴリズムに対応する関数を作って解を求めてみよう"
      ]
    },
    {
      "cell_type": "code",
      "execution_count": null,
      "metadata": {
        "colab": {
          "base_uri": "https://localhost:8080/"
        },
        "id": "dqnujbsFspn8",
        "outputId": "ceb388d5-e79c-4190-bce1-b6cf812fabe3"
      },
      "outputs": [
        {
          "name": "stdout",
          "output_type": "stream",
          "text": [
            "it 1 x -16.03067071498258 y -15383219.0 -5041023.966714532\n",
            "it 2 x -12.854892481957197 y -5041023.966714532 -1651968.106196959\n",
            "it 3 x -10.313885990777683 y -1651968.106196959 -541379.1850391383\n",
            "it 4 x -8.28061578625216 y -541379.1850391383 -177429.79752234442\n",
            "it 5 x -6.653441486353502 y -177429.79752234442 -58155.11457333112\n",
            "it 6 x -5.3510406877452255 y -58155.11457333112 -19063.39609222064\n",
            "it 7 x -4.308351359326742 y -19063.39609222064 -6250.001804089965\n",
            "it 8 x -3.4733344532483637 y -6250.001804089965 -2049.456302435744\n",
            "it 9 x -2.8044032112313464 y -2049.456302435744 -672.1354918462077\n",
            "it 10 x -2.268410685784332 y -672.1354918462077 -220.3982199780121\n",
            "it 11 x -1.8391438506400222 y -220.3982199780121 -72.1807419252783\n",
            "it 12 x -1.4963673552041776 y -72.1807419252783 -23.526420007144324\n",
            "it 13 x -1.2256340399442445 y -23.526420007144324 -7.546944476833993\n",
            "it 14 x -1.0192792149298004 y -7.546944476833993 -2.3017219833384583\n",
            "it 15 x -0.878192974042394 y -2.3017219833384583 -0.6001347172980255\n",
            "it 16 x -0.8072662373727413 y -0.6001347172980255 -0.09757282508715664\n",
            "it 17 x -0.7905468880551323 y -0.09757282508715664 -0.00434806118170894\n",
            "it 18 x -0.789729888238273 y -0.00434806118170894 -9.879715826832669e-06\n",
            "it 19 x -0.7897280233719703 y -9.879715826832669e-06 -5.135225578101199e-11\n",
            "it 20 x -0.7897280233622771 y -5.135225578101199e-11 5.551115123125783e-16\n",
            "x -20.0 => -0.7897280233622771  after  20 iterations\n"
          ]
        },
        {
          "data": {
            "text/plain": [
              "-0.7897280233622771"
            ]
          },
          "execution_count": 36,
          "metadata": {
            "tags": []
          },
          "output_type": "execute_result"
        }
      ],
      "source": [
        "def Newton(cs,xini,tolxrel=1.e-6,toly=1.e-6,maxit=1000):\n",
        "    xp = xpoly(xini)\n",
        "    xpp = xpoly_prime(xini)\n",
        "    x = xini\n",
        "    itnum = 0\n",
        "    while True:\n",
        "        y = np.dot(cs,xp)\n",
        "        yp = np.dot(cs,xpp)        \n",
        "        delta = y / yp\n",
        "        x += - delta\n",
        "        xp = xpoly(x)\n",
        "        xpp = xpoly_prime(x)\n",
        "        ynew = np.dot(cs,xp)\n",
        "        itnum += 1\n",
        "        print(\"it\", itnum, \"x\",x, \"y\", y,ynew)\n",
        "        if abs(delta/x) < tolxrel and abs(ynew) <toly:\n",
        "            break\n",
        "        if  itnum == maxit:\n",
        "            print(\"x not converged\")\n",
        "            return None\n",
        "    print(\"x\", xini, \"=>\", x, \" after \",itnum, \"iterations\")\n",
        "    return x \n",
        "\n",
        "x_initial = -20.0\n",
        "Newton(cs,x_initial)"
      ]
    },
    {
      "cell_type": "markdown",
      "metadata": {
        "id": "lg6vMncbwyfa"
      },
      "source": [
        "$x=-20.0$から始めると、20回のiteration(反復)で、  \n",
        "yの値が$5.e-16 \\simeq 0$の点が求められている事がわかる。"
      ]
    },
    {
      "cell_type": "markdown",
      "metadata": {
        "id": "_yFWkaZxxBqB"
      },
      "source": [
        "今のようにうまくいく例もある一方で、関数や初期値によっては解に収束しない場合があるので注意が必要"
      ]
    },
    {
      "cell_type": "markdown",
      "metadata": {
        "id": "dPK_KIGcyuod"
      },
      "source": [
        "# LICENSE"
      ]
    },
    {
      "cell_type": "markdown",
      "metadata": {
        "id": "q943wB7Z4DYK"
      },
      "source": [
        "\n",
        "Copyright (C) 2021 Sota Yoshida\n",
        "\n",
        "[ライセンス:クリエイティブ・コモンズ 4.0 表示 (CC-BY 4.0)](https://creativecommons.org/licenses/by/4.0/deed.ja)"
      ]
    }
  ],
  "metadata": {
    "colab": {
      "authorship_tag": "ABX9TyMWxHIsatxKmpa/oePk47i/",
      "collapsed_sections": [],
      "include_colab_link": true,
      "name": "Python_misc_NewtonsMethod.ipynb",
      "provenance": []
    },
    "kernelspec": {
      "display_name": "Python 3.9.13 64-bit",
      "language": "python",
      "name": "python3"
    },
    "language_info": {
      "name": "python",
      "version": "3.9.13"
    },
    "vscode": {
      "interpreter": {
        "hash": "aee8b7b246df8f9039afb4144a1f6fd8d2ca17a180786b69acc140d282b71a49"
      }
    }
  },
  "nbformat": 4,
  "nbformat_minor": 0
}
