{
 "cells": [
  {
   "cell_type": "markdown",
   "metadata": {
    "colab_type": "text",
    "id": "view-in-github"
   },
   "source": [
    "<a href=\"https://colab.research.google.com/github/SotaYoshida/Lecture_DataScience/blob/main/notebooks/Python_chapter4_Matplotlib.ipynb\" target=\"_parent\"><img src=\"https://colab.research.google.com/assets/colab-badge.svg\" alt=\"Open In Colab\"/></a>"
   ]
  },
  {
   "cell_type": "markdown",
   "metadata": {
    "id": "OCa-xyVjiadQ"
   },
   "source": [
    "# ライブラリ/パッケージ/モジュールとデータの可視化(Matplotlib)\n",
    "\n",
    "[この章の目的]\n",
    "* [ライブラリ]という概念の獲得\n",
    "* Pythonを用いた各種グラフの描画\n",
    "\n",
    "\n",
    ":::{margin} ライブラリ/パッケージ/モジュール\n",
    "授業では呼び方が混在しているかと思います。正確な定義としてはライブラリ/パッケージ/モジュールの順に、より上位の集合を指しますが境界はあいまいな印象です。\n",
    ":::\n",
    "Pythonでは(他のプログラミング言語と同様)特定の作業がパッケージ化されたプログラム群が用意されていてこれらをライブラリ/パッケージ/モジュールなどと呼ぶ\n",
    "Pythonのライブラリ/パッケージの多くはGitHub上で開発・公開されていて、簡単にインストールしたりインポートして使うことができる。 \n",
    "\n",
    "データ分析, AI・機械学習, エクセル等の操作, Webスクレイピングなど、非常に多岐にわたるライブラリが存在していて誰でも気軽に使うことができますし、幾つかのライブラリ/モジュールは標準で組み込まれているため、インストール作業をすることなく、以下のように簡単にインポートして使うことができます。\n",
    "\n",
    "たとえば`math`という名前のモジュールをインポートする際には\n"
   ]
  },
  {
   "cell_type": "code",
   "execution_count": null,
   "metadata": {
    "id": "hGBW_qTNkvRq"
   },
   "outputs": [],
   "source": [
    "import math"
   ]
  },
  {
   "cell_type": "markdown",
   "metadata": {
    "id": "It2WtKEtkwNT"
   },
   "source": [
    "とします。簡単ですね。\n",
    "  \n",
    "上のコードを実行し`math`モジュールを一度`import`してやれば、数学で多用される円周率```pi```,対数関数```log(),log10()```,指数関数```exp```,三角関数```sin,cos```などを使うことができます。"
   ]
  },
  {
   "cell_type": "markdown",
   "metadata": {
    "id": "KbRzvsm95XU_"
   },
   "source": [
    "モジュール内に用意されている関数を利用するときは通常  \n",
    "```モジュール名.関数```や```モジュール名.関数(引数)```といった形で使います。"
   ]
  },
  {
   "cell_type": "code",
   "execution_count": null,
   "metadata": {
    "id": "9BbEO3a8k0VH"
   },
   "outputs": [],
   "source": [
    "print(math.log(2.0)) #自然対数 \n",
    "print(math.log10(2.0)) #常用(底が10)対数\n",
    "print(math.exp(2.0)) #指数関数\n",
    "print(math.pi) #円周率pi (引数なし)\n",
    "print(math.sin(math.pi))  # sin(pi)"
   ]
  },
  {
   "cell_type": "markdown",
   "metadata": {
    "id": "cGKN5FijmR8v"
   },
   "source": [
    "注:sin(π)は厳密に0になるべきですが1章で述べたように実数が有限の精度なので微小な量0からずれています"
   ]
  },
  {
   "cell_type": "markdown",
   "metadata": {
    "id": "69y4fMDWSB11"
   },
   "source": [
    "## Numpy"
   ]
  },
  {
   "cell_type": "markdown",
   "metadata": {
    "id": "FIsrOtnTR4qZ"
   },
   "source": [
    "データ分析などで非常によく使われるNumpyというライブラリがあります。  \n",
    "Numpyの大きな特徴に、数値を要素に持つ配列の計算・演算を高速に行うことが可能という点があります。\n",
    "\n",
    "簡単な作業ならリストでも代用できるので必須ではありませんが、コードを大幅に簡略化することもできるため、今後ノートブックでもたびたびNumpyが用いられます。\n",
    "詳しくは[こちらのノートブック](https://colab.research.google.com/github/SotaYoshida/Lecture_DataScience/blob/main/notebooks/Python_misc_numpy.ipynb)を参照してください."
   ]
  },
  {
   "cell_type": "code",
   "execution_count": null,
   "metadata": {
    "id": "_RjUF-6603dn"
   },
   "outputs": [],
   "source": [
    "#先程のmathもnumpyで置き換え可\n",
    "import numpy as np #numpyをnpという名前で使う\n",
    "print(np.log(2.0))\n",
    "print(np.log10(2.0))\n",
    "print(np.exp(2.0))\n",
    "print(np.pi)\n",
    "print(np.sin(np.pi))"
   ]
  },
  {
   "cell_type": "markdown",
   "metadata": {},
   "source": [
    "以降、数値を要素に持つリストを使って演算やグラフを描画するときは、`numpy`の`ndarray`型というものに変更して使う事が多いです。  \n",
    "リストを`ndarray`型に変換するには、numpyの`array`関数を用います。"
   ]
  },
  {
   "cell_type": "code",
   "execution_count": null,
   "metadata": {},
   "outputs": [],
   "source": [
    "import numpy as np\n",
    "\n",
    "list_a = [ 1.23, 9341.22, -32.33] \n",
    "list_a = np.array(list_a)\n",
    "print(list_a, type(list_a))"
   ]
  },
  {
   "cell_type": "markdown",
   "metadata": {
    "id": "XD-dP853zCmO"
   },
   "source": [
    "## Matplotlibを用いた作図\n"
   ]
  },
  {
   "cell_type": "markdown",
   "metadata": {
    "id": "SGAFbBQJnplQ"
   },
   "source": [
    "\n",
    "以降ではMatplotlibと呼ばれるライブラリを使って、各種のグラフを作成する方法を見ていきましょう.\n",
    "\n",
    "Matplotlibは様々なグラフが描ける一方で少々テクニカルな部分が多いので**細かい部分は分からなくても心配は不要です**  \n",
    "「こういうおまじないを唱える(書くと)こうなる」というざっくりとした理解でまずは大丈夫です。  \n",
    "\n",
    ":::{margin} ライブラリの使い方を調べる\n",
    "Pythonのライブラリの細かな使い方を調べる時、真っ先に思いつくのが**ググる**ことだ。\n",
    "最近だと日本語で書かれた情報に気軽にアクセスできるのは良いことだが、(この授業資料同様)不正確な記述が含まれていてかえって理解を遠ざける危険性もある。\n",
    "なにか困ったときに一番頼りになるのは大元のライブラリの公式ドキュメント以外ありえない。なぜなら開発者が作ってんだから。\n",
    ":::\n",
    "はじめはネットに転がっている誰かが書いたコードを少しずつ流用し、自分の目的のためにどうすれば良いか類推しながら改良していって、  \n",
    "自分の描きたいグラフに近づけていくのが良いでしょう。(私もよく過去の自分が作成したコードを流用して作図しています)\n",
    "\n",
    "慣れてくるといろんな図を作ったり、細かいところにこだわったりしたくなります。 そんなときは以下のチートシートが役に立ちます.  \n",
    "https://github.com/matplotlib/cheatsheets  \n",
    "\n",
    "\n",
    "まず、以下のコードを実行して、`matplotlib`内の`pyplot`モジュールをインポートします.  \n",
    "`matplot.pyplot`だと名前が長いので```plt```という名前で使えるように```import XXX as YY``` などとします.\n",
    "\n"
   ]
  },
  {
   "cell_type": "code",
   "execution_count": 1,
   "metadata": {
    "id": "oevjB6tvA97n"
   },
   "outputs": [],
   "source": [
    "import matplotlib.pyplot as plt \n",
    "\n",
    "from matplotlib import pyplot as plt #でも同じ"
   ]
  },
  {
   "cell_type": "markdown",
   "metadata": {
    "id": "-KUcnUBIg2W2"
   },
   "source": [
    "いくつかのライブラリにはディレクトリのように\n",
    "```\n",
    "LibraryA  \n",
    "├ module1.py  \n",
    "│   └─ sub_module1_1.py   \n",
    "│   └─ sub_module1_2.py  \n",
    "├ module2.py  \n",
    "︙  \n",
    "```\n",
    "という階層構造があり\"子\"はピリオドで指定します.  \n",
    "上の```matplotlib.pyplot```はその一例です."
   ]
  },
  {
   "cell_type": "markdown",
   "metadata": {
    "id": "Ycksu5i7BsWp"
   },
   "source": [
    "次に、Matplotlibは標準だと日本語が文字化けして豆腐のように表示されてしまうので、  \n",
    "日本語フォントを使うためのライブラリをGoogleのサーバにインストールします"
   ]
  },
  {
   "cell_type": "code",
   "execution_count": 3,
   "metadata": {
    "colab": {
     "base_uri": "https://localhost:8080/"
    },
    "id": "Qwb9pJyCAcfC",
    "outputId": "29634cc6-f768-4511-fd59-4ebc352de8dd"
   },
   "outputs": [
    {
     "name": "stdout",
     "output_type": "stream",
     "text": [
      "Collecting japanize-matplotlib\n",
      "  Downloading japanize-matplotlib-1.1.3.tar.gz (4.1 MB)\n",
      "\u001b[K     |████████████████████████████████| 4.1 MB 5.1 MB/s \n",
      "\u001b[?25hRequirement already satisfied: matplotlib in /usr/local/lib/python3.7/dist-packages (from japanize-matplotlib) (3.2.2)\n",
      "Requirement already satisfied: numpy>=1.11 in /usr/local/lib/python3.7/dist-packages (from matplotlib->japanize-matplotlib) (1.19.5)\n",
      "Requirement already satisfied: pyparsing!=2.0.4,!=2.1.2,!=2.1.6,>=2.0.1 in /usr/local/lib/python3.7/dist-packages (from matplotlib->japanize-matplotlib) (2.4.7)\n",
      "Requirement already satisfied: cycler>=0.10 in /usr/local/lib/python3.7/dist-packages (from matplotlib->japanize-matplotlib) (0.10.0)\n",
      "Requirement already satisfied: python-dateutil>=2.1 in /usr/local/lib/python3.7/dist-packages (from matplotlib->japanize-matplotlib) (2.8.2)\n",
      "Requirement already satisfied: kiwisolver>=1.0.1 in /usr/local/lib/python3.7/dist-packages (from matplotlib->japanize-matplotlib) (1.3.2)\n",
      "Requirement already satisfied: six in /usr/local/lib/python3.7/dist-packages (from cycler>=0.10->matplotlib->japanize-matplotlib) (1.15.0)\n",
      "Building wheels for collected packages: japanize-matplotlib\n",
      "  Building wheel for japanize-matplotlib (setup.py) ... \u001b[?25l\u001b[?25hdone\n",
      "  Created wheel for japanize-matplotlib: filename=japanize_matplotlib-1.1.3-py3-none-any.whl size=4120274 sha256=f4b79909d06560d80efbd01142270456e2403c260cad143b4647081c91d3a36c\n",
      "  Stored in directory: /root/.cache/pip/wheels/83/97/6b/e9e0cde099cc40f972b8dd23367308f7705ae06cd6d4714658\n",
      "Successfully built japanize-matplotlib\n",
      "Installing collected packages: japanize-matplotlib\n",
      "Successfully installed japanize-matplotlib-1.1.3\n"
     ]
    }
   ],
   "source": [
    "!pip install japanize-matplotlib #!から始めることでLinuxコマンドを使うことができる。\n",
    "import japanize_matplotlib\n",
    "import numpy as np  #ついでにコレもインポート"
   ]
  },
  {
   "cell_type": "markdown",
   "metadata": {
    "id": "QPB383yO9SFq"
   },
   "source": [
    "Pythonでグラフを作る際の基本は、**データ(描画したいもの)が入ったリストを作ること**です。\n",
    "\n",
    "リストに対して、線や棒、いろんな形のシンボルを描いたりして、どんどんグラフを構成する要素を足しながら、   \n",
    "それらの色や線種、透過度や太さ,背景色などを変えつつ徐々に望むようなグラフにしていきます。\n",
    "\n",
    "以下では代表的なグラフを例に、Matplotlibを使った作画を試してみましょう。"
   ]
  },
  {
   "cell_type": "markdown",
   "metadata": {
    "id": "88mhl_c22S4-"
   },
   "source": [
    "### 棒グラフ"
   ]
  },
  {
   "cell_type": "markdown",
   "metadata": {
    "id": "j98rkXdk03-h"
   },
   "source": [
    "Aさんの共通テストの得点をリスト(括弧[ ]内に、数字カンマで区切る)に格納します。  \n",
    "順番(各科目の名前(ラベル))は、国語,英語,数IA,数IIB,化学,物理,世界史として...  "
   ]
  },
  {
   "cell_type": "code",
   "execution_count": null,
   "metadata": {
    "id": "WWBmSr7L0_6s"
   },
   "outputs": [],
   "source": [
    "data = [152, 170, 82, 85, 79, 92, 88]\n",
    "label = [\"国語\",\"英語\", \"数IA\", \"数IIB\", \"化学\", \"物理\", \"世界史\"]\n",
    "total = sum(data)\n",
    "#print(\"合計得点は\", total, \"点で、得点率は\"+str(total/900)+\"%です\")\n",
    "print(\"合計得点は\", total, \"点で、得点率は\"+str(\"%6.1f\" % (100* total/900))+\"%です\")"
   ]
  },
  {
   "cell_type": "markdown",
   "metadata": {
    "id": "4gaNmr3CefUn"
   },
   "source": [
    "Aさん優秀ですね。これを棒グラフにでもしてみましょう。"
   ]
  },
  {
   "cell_type": "code",
   "execution_count": null,
   "metadata": {
    "id": "S0rBmtTL3YsB"
   },
   "outputs": [],
   "source": [
    "plt.figure( figsize=(10,2) ) \n",
    "plt.bar(label,data,align='center',width=0.5,color=\"red\") \n",
    "plt.xlabel(\"各科目\"); plt.ylabel(\"Aさんの得点\") \n",
    "plt.show() \n",
    "plt.close()"
   ]
  },
  {
   "cell_type": "markdown",
   "metadata": {
    "id": "4SV4bCn9nxqV"
   },
   "source": [
    "棒グラフが描けたでしょうか。それぞれの行の意味を順に説明します。  \n",
    "\n",
    "* 1行目:  \n",
    "```plt.figure(figsize=(10,2))  ```  \n",
    "ここでは、`matplotlib.pyplot`内の`figure`という関数を読んでいます。  \n",
    "上で`matplotlib`モジュール内の`pyplot`というモジュールを  \n",
    "`plt`という名前でインポートしたので`plt.figure`というのは、  \n",
    "`pyplot`内の`figure`という関数を使うことを意味します。  \n",
    "役割としては、図を描くキャンバスを用意しているようなイメージです。  \n",
    "ここでは```figsize=(10,2)```という引数を指定しました。  \n",
    "(指定しなければ自動で図のサイズが決まります)  \n",
    "figsize=(横,縦)で大きさが指定できます、figsizeを変えて試してみましょう  \n",
    "\n",
    "* 2行目:  \n",
    "```plt.bar(label,data,align='center',width=0.5,color=\"red\")```  \n",
    "`pyplot`内の`bar`という関数(棒グラフを描く関数)を使っています。  \n",
    "1つめの引数はx軸上の値で、2つめはy軸に対応する値です。  \n",
    "x軸用のリストが数値以外のときは整数値を割り当ててプロットしてくれます  \n",
    "(７個データがあれば、x=0,1,...,6に割り当てられる)\n",
    "\n",
    "* 3行目:  \n",
    "```plt.xlabel(\"各科目\"); plt.ylabel(\"Aさんの得点\")  ```  \n",
    "ここではx軸とy軸のデータの種類(ラベル/labelと呼ぶ)を指定しています。  \n",
    "\n",
    "* 4行目:  \n",
    "```plt.show()```  \n",
    "それまでに指定した条件で絵を描いて表示する\n",
    "\n",
    "* 5行目:  \n",
    "```plt.close()  ```キャンバスを閉じる。  \n",
    "とくに一つのプログラムで複数絵を描くときはこれを書きましょう。  \n",
    "(closeしないと、どこまでがどのグラフのための指示かわからず  \n",
    "意図しない絵になることがあります)"
   ]
  },
  {
   "cell_type": "markdown",
   "metadata": {
    "id": "QJU3ua-h6JS0"
   },
   "source": [
    "####  **練習**   \n",
    "国語と英語の得点を100点満点に換算し、  \n",
    "いくつかの得点や棒グラフの色を変えてプロットしてみましょう。\n"
   ]
  },
  {
   "cell_type": "code",
   "execution_count": null,
   "metadata": {
    "id": "nmcYXrZACP4n"
   },
   "outputs": [],
   "source": []
  },
  {
   "cell_type": "markdown",
   "metadata": {
    "id": "EJpfw2KwCPdV"
   },
   "source": [
    "\n",
    "\n",
    "---\n",
    "\n"
   ]
  },
  {
   "cell_type": "markdown",
   "metadata": {
    "id": "BzWX1S4I3ERW"
   },
   "source": [
    "### 円グラフ"
   ]
  },
  {
   "cell_type": "markdown",
   "metadata": {
    "id": "lH6qwevuz3Wo"
   },
   "source": [
    "世の中には多くの円グラフの誤用が溢れています。  \n",
    "ワイドショーなどで総和が100%になっていなかったり、  \n",
    "円に対して占める割合が明らかに間違っていたりと、ひどい有様です。  \n",
    "\n",
    "他にも、奥行方向に傾いた円グラフも誤った印象を与えます。  \n",
    "このように、円グラフというのは作成する際に注意が必要ですし、  \n",
    "作成した円グラフがおかしいと「私は教養のない人です」  \n",
    "と言っているようなもので大変恥ずかしい思いをします。  \n",
    "\n",
    "そもそも円グラフにしなきゃいけないデータってあるんでしょうか？  \n",
    "帯グラフなどのほうがよっぽど量の比較にも向いています。\n",
    "\n",
    "あれ...無くない？ということで円グラフはオマケとします。"
   ]
  },
  {
   "cell_type": "code",
   "execution_count": null,
   "metadata": {
    "id": "onNa3DTcgq-y"
   },
   "outputs": [],
   "source": [
    "#どうしても円グラフが描きたい方へ (下のコードを適当にいじって遊んでみてください)\n",
    "tlabels = [\"Aと答えた人\",\"Bと答えた人\",\"Cと答えた人\"]\n",
    "ratio = [513,142, 249]\n",
    "\n",
    "plt.figure(figsize=(4,4)) \n",
    "plt.pie(ratio,labels=tlabels,counterclock=False, startangle=90,autopct=\"%.1f%%\")\n",
    "plt.show()\n",
    "plt.close() \n",
    "# labels=tlabelsは、 pie()関数の中のlabelsという引数にtlabelsを突っ込むという意味\n",
    "# label(ラベル)とは、凡例(legend)のこと。それぞれのオブジェクトが何を指すのか\n",
    "# counterclockは反時計回りのオプションをFalse(偽)とするのでつまり時計回り(回りくどいな...)\n",
    "# startangleは円グラフの始点を、x軸から見て何度のところにとるかで、今は90度(つまり12時の方向)と設定.\n",
    "# autopctは「値を%表記に直せ」というオプションで、 %.1f%%は小数点以下1桁まで出力しなさいという命令."
   ]
  },
  {
   "cell_type": "code",
   "execution_count": null,
   "metadata": {
    "id": "efNzOCmBlOyj"
   },
   "outputs": [],
   "source": [
    "tlabels = [\"Aと答えた人\",\"Bと答えた人\",\"Cと答えた人\"]\n",
    "ratio = [513,142, 249]\n",
    "\n",
    "plt.figure(figsize=(10,3)) \n",
    "plt.ylim([-1,1]) #plt.ylim(-1,1)でも可\n",
    "xs = 0.0\n",
    "for i in range(len(tlabels)):\n",
    "    tx = ratio[i]\n",
    "    ty = 0.0\n",
    "    plt.barh([ty],width=tx,left=xs,label=tlabels[i]+\"(\"+str(ratio[i])+\"人, \"+str(\"%4.1f\" % (100*ratio[i]/sum(ratio)))+\"%)\")\n",
    "    xs += ratio[i]\n",
    "plt.legend()\n",
    "plt.show()\n",
    "plt.close()"
   ]
  },
  {
   "cell_type": "code",
   "execution_count": null,
   "metadata": {},
   "outputs": [],
   "source": []
  },
  {
   "cell_type": "markdown",
   "metadata": {
    "id": "Bvlp1LLbpLut"
   },
   "source": [
    "こっちの棒グラフのほうが良い気がする"
   ]
  },
  {
   "cell_type": "markdown",
   "metadata": {
    "id": "6iN_Tl4millJ"
   },
   "source": [
    "### plot: 線の描画\n",
    "\n",
    "説明変数$x$と目的変数$y$があって、  \n",
    "とくに**$x$に対する$y$の振る舞い**に興味がある場合には```plot```を使います。\n",
    "\n",
    "たとえば、日付($x$)に対するコロナウイルス感染者($y$)の推移をプロットしてみましょう。\n",
    "日付は、WHOのSituation Reportが初めて発表された2019年1月20日を起点(ゼロ)とする経過日数として表すことにして...\n",
    "\n",
    "\n",
    "\n"
   ]
  },
  {
   "cell_type": "code",
   "execution_count": 6,
   "metadata": {
    "colab": {
     "base_uri": "https://localhost:8080/",
     "height": 539
    },
    "id": "N0LR-xQii7b3",
    "outputId": "0254ee47-8280-4fec-fb06-81463204cafc"
   },
   "outputs": [
    {
     "data": {
      "image/png": "[encoded data removed]",
      "text/plain": [
       "<Figure size 864x288 with 1 Axes>"
      ]
     },
     "metadata": {
      "filenames": {
       "image/png": "/Users/sotauu/Desktop/Lecture_DataScience/Lecture_DataScience_dotfiles/_build/jupyter_execute/notebooks/Python_chapter4_Matplotlib_35_0.png"
      },
      "needs_background": "light"
     },
     "output_type": "display_data"
    },
    {
     "data": {
      "image/png": "[encoded data removed]",
      "text/plain": [
       "<Figure size 864x288 with 1 Axes>"
      ]
     },
     "metadata": {
      "filenames": {
       "image/png": "/Users/sotauu/Desktop/Lecture_DataScience/Lecture_DataScience_dotfiles/_build/jupyter_execute/notebooks/Python_chapter4_Matplotlib_35_1.png"
      },
      "needs_background": "light"
     },
     "output_type": "display_data"
    }
   ],
   "source": [
    "# 感染者数と重傷者数\n",
    "y= [282,314,None,581,846,1320,2014,2798,4593, 6065,7818,9826,11953,14557,17391,20630,\n",
    "    24554,28276,31481,34886, 37558.40554,43103,45171] #2019年2月13日までのデータ\n",
    "\n",
    "y_sev=[51,51,None,96,177,237,324,461,976,1239,\n",
    "       1370,1527,1795,2110,2296,2788,3219,3859,4821,6101,6188,6484,7333,8304]\n",
    "\n",
    "plt.figure(figsize=(12,4)) \n",
    "plt.xlabel(\"2019年1月20日以降の経過日数\")\n",
    "plt.plot(range(len(y)),y, label=\"世界全体での新型コロナウイルス感染者数\",color=\"red\")\n",
    "#x軸が0から始まる整数値(0,1,...)で良い場合は、x軸のデータを指定しなくてもplotしてくれる\n",
    "plt.plot(y_sev, label=\"重傷者数\",color=\"blue\") \n",
    "plt.legend() ##凡例(線や点等の説明)を描画する\n",
    "plt.show()\n",
    "plt.close() \n",
    "\n",
    "plt.figure(figsize=(12,4)) \n",
    "plt.xlabel(\"1月20日以降の経過日数\")\n",
    "plt.yscale(\"log\") ## y軸を対数スケールに変換\n",
    "plt.plot(range(len(y)), y, marker=\"x\",label=\"世界全体での新型コロナウイルス感染者数\",color=\"red\") ## markerの値を指定すれば、線だけじゃなく点を描くことも出来る。\n",
    "plt.plot(y_sev, label=\"重傷者数\",marker=\"o\",color=\"blue\")\n",
    "plt.legend()\n",
    "plt.show()\n",
    "plt.close() "
   ]
  },
  {
   "cell_type": "markdown",
   "metadata": {
    "id": "5Hbzfjw0pqhu"
   },
   "source": [
    "下のグラフはy軸の対数スケールをとってみました。  \n",
    "*データが無い日の値は0ではなくNone(値なし)にすることに注意しましょう*"
   ]
  },
  {
   "cell_type": "markdown",
   "metadata": {
    "id": "AP4eGtKElufB"
   },
   "source": [
    "**注意**  \n",
    "当然ですが、x軸とy軸方向でデータの数が合っていないとエラーを起こします。  \n",
    "\n",
    "「一緒にしているつもりなのにエラーが出る...」と言う場合は  \n",
    "len()関数などを実行してリストの長さ/要素の数をチェックしてみましょう。  \n",
    "カンマがピリオドになるなどして、意図しないリストになっているかもしれません。  \n",
    "\n",
    "例:   \n",
    "(意図したリスト) [2,3,5]  ←長さ3のリスト  \n",
    "(間違えて作ったリスト) [2.3, 5] ←カンマがピリオドになっていて、長さ2のリストになっている  \n"
   ]
  },
  {
   "cell_type": "markdown",
   "metadata": {
    "id": "EiGt8E4VoWEI"
   },
   "source": [
    "\n",
    "\n",
    "**練習**:   \n",
    "「matplotlib marker」でWeb検索してみて、どんな形状のmarkerが使えるか調べてみましょう。  \n",
    "その中から\"x\"(バツ印)以外の好きなシンボルを選んで上のグラフの二番目をプロットしてみましょう。\n",
    "\n"
   ]
  },
  {
   "cell_type": "code",
   "execution_count": null,
   "metadata": {
    "id": "Oy34IWVsCLZv"
   },
   "outputs": [],
   "source": []
  },
  {
   "cell_type": "markdown",
   "metadata": {
    "id": "H15gDDnkmz5p"
   },
   "source": [
    "### scatter: 散布図の描画\n",
    "\n",
    "$x$と$y$、２つの量があって、どちらにも興味がある、  \n",
    "あるいは両者の間の相関に興味がある場合、散布図を描くと、見通しやすくなることが多いです。\n",
    "\n",
    "以下では、2017年の宇都宮の平均気温とアイスクリームの消費量の相関を見てみましょう。  \n",
    "気温・アイスクリームの消費量ともに、1月から12月に順番にリストに入れていくことにします。\n",
    "\n"
   ]
  },
  {
   "cell_type": "code",
   "execution_count": 4,
   "metadata": {
    "colab": {
     "base_uri": "https://localhost:8080/",
     "height": 304
    },
    "id": "ZpNvApJ-nVKv",
    "outputId": "377c58ab-36c5-4194-e701-9be33e08a4a0"
   },
   "outputs": [
    {
     "data": {
      "image/png": "[encoded data removed]",
      "text/plain": [
       "<Figure size 288x288 with 1 Axes>"
      ]
     },
     "metadata": {
      "filenames": {
       "image/png": "/Users/sotauu/Desktop/Lecture_DataScience/Lecture_DataScience_dotfiles/_build/jupyter_execute/notebooks/Python_chapter4_Matplotlib_41_0.png"
      },
      "needs_background": "light"
     },
     "output_type": "display_data"
    }
   ],
   "source": [
    "x= [3.1, 4.3, 6.6, 13.2, 19.1, 20.9, 26.4, 25.1, 21.9, 15.7, 9.6, 3.8]\n",
    "y= [568, 572, 804, 833, 930, 965, 1213, 1120, 835, 540, 451, 502]\n",
    "\n",
    "plt.figure(figsize=(4,4)) \n",
    "plt.title(\"宇都宮市\") ## 図にはタイトルをつけることができます\n",
    "plt.xlabel(\"平均気温 (℃)\") #軸ラベルの指定\n",
    "plt.ylabel(\"世帯あたりのアイスクリーム・シャーベットの消費金額 (円)\")\n",
    "plt.scatter(x,y)\n",
    "plt.show()\n",
    "plt.close() "
   ]
  },
  {
   "cell_type": "markdown",
   "metadata": {
    "id": "B-535rGQpYsg"
   },
   "source": [
    "相関係数などの情報を含んだもう少しかっこいい図を作ってみましょう。\n"
   ]
  },
  {
   "cell_type": "code",
   "execution_count": 7,
   "metadata": {
    "colab": {
     "base_uri": "https://localhost:8080/",
     "height": 348
    },
    "id": "bOGBYPK7pgJZ",
    "outputId": "05eba7a2-d3a0-4e48-afa4-416483f3b606"
   },
   "outputs": [
    {
     "data": {
      "image/png": "[encoded data removed]",
      "text/plain": [
       "<Figure size 360x360 with 1 Axes>"
      ]
     },
     "metadata": {
      "filenames": {
       "image/png": "/Users/sotauu/Desktop/Lecture_DataScience/Lecture_DataScience_dotfiles/_build/jupyter_execute/notebooks/Python_chapter4_Matplotlib_43_0.png"
      },
      "needs_background": "light"
     },
     "output_type": "display_data"
    }
   ],
   "source": [
    "x= [3.1, 4.3, 6.6, 13.2, 19.1, 20.9, 26.4, 25.1, 21.9, 15.7, 9.6, 3.8]\n",
    "y= [568, 572, 804, 833, 930, 965, 1213, 1120, 835, 540, 451, 502]\n",
    "\n",
    "r = np.corrcoef(x,y) ## x,yの配列間の相関行列を計算します \n",
    "corrcoef=r[0,1] ## 行列の非対角要素が相関係数です。  r[0,1], 0行目1列の値\n",
    "\n",
    "def seasoncolor(month): #季節ごとに適当に色を塗ってみましょう\n",
    "    if month <= 2 or month ==12:\n",
    "        return \"blue\"\n",
    "    elif 3 <= month <=5:\n",
    "        return \"green\"\n",
    "    elif 6 <= month <=8:\n",
    "        return \"red\"\n",
    "    elif 9<= month <=11:\n",
    "        return \"orange\"\n",
    "    else:\n",
    "        print(\"month\",month, \" is not supported\")\n",
    "\n",
    "fig = plt.figure(figsize=(5,5))\n",
    "ax = fig.add_subplot(111)  ## 注2\n",
    "ax.set_facecolor(\"#D3DEF1\")\n",
    "ax.set_title(\"宇都宮市\")\n",
    "ax.set_xlabel(\"平均気温 (℃)\")\n",
    "ax.set_ylabel(\"世帯あたりのアイスクリーム・シャーベットの消費金額 (円)\")\n",
    "ax.grid(True,axis=\"both\",color=\"w\", linestyle=\"dotted\", linewidth=0.8)\n",
    "for i in range(len(x)):\n",
    "    tcol=seasoncolor(i+1)\n",
    "    ax.scatter(x[i],y[i],marker=\"o\",s=10,color=tcol,zorder=20000,alpha=0.7)\n",
    "    ax.text(x[i],y[i],str(i+1)+\"月\",color=\"k\",fontsize=8)\n",
    "ax.text(0.1,0.9, \"r=\"+str(\"%5.2f\" % corrcoef), transform=ax.transAxes,fontsize=12)\n",
    "plt.show()\n",
    "plt.close()"
   ]
  },
  {
   "cell_type": "markdown",
   "metadata": {
    "id": "WTDhlmHY7r2p"
   },
   "source": [
    "### $\\clubsuit$ ```ax (matplotlib.axes) ```"
   ]
  },
  {
   "cell_type": "markdown",
   "metadata": {
    "id": "qQHLqX9ntOur"
   },
   "source": [
    "\n",
    "上では、axという見慣れないものが導入されました。\n",
    "\n",
    "キャンバスの上に小さな作業領域```axes```を指定するための```add_subplot```や```add_axes```といった関数があります。\n",
    "```ax```はこれらの関数で生成される作業領域に慣例的に用いる変数です。\n",
    "\n",
    "たとえばキャンバスを四分割して、似たようなグラフを4つ同時に描いたりするのに便利です。\n",
    "\n",
    "```axes```を使いこなすのは少々テクニカルな点も多いので、よくわからない部分はとりあえず飛ばし読みで構いません。  \n",
    "慣れてくると、その便利さに気がつくはずです。  \n",
    "細かい図の書き方は追々、一緒に勉強していきましょう。\n",
    "\n",
    "axに関しては、日本語で書かれた以下の記事もおすすめです  \n",
    "https://qiita.com/skotaro/items/08dc0b8c5704c94eafb9"
   ]
  },
  {
   "cell_type": "code",
   "execution_count": 9,
   "metadata": {
    "colab": {
     "base_uri": "https://localhost:8080/",
     "height": 319
    },
    "id": "5btbwRL4YCJq",
    "outputId": "252c4ae4-b687-4c45-ff80-62e92db6ede9"
   },
   "outputs": [
    {
     "data": {
      "image/png": "[encoded data removed]",
      "text/plain": [
       "<Figure size 720x360 with 4 Axes>"
      ]
     },
     "metadata": {
      "filenames": {
       "image/png": "/Users/sotauu/Desktop/Lecture_DataScience/Lecture_DataScience_dotfiles/_build/jupyter_execute/notebooks/Python_chapter4_Matplotlib_46_0.png"
      },
      "needs_background": "light"
     },
     "output_type": "display_data"
    }
   ],
   "source": [
    "data = [152, 170, 82,85,79,92,88]\n",
    "label = [\"国語\",\"英語\", \"数IA\", \"数IIB\", \"化学\", \"物理\", \"世界史\"]\n",
    "\n",
    "fig = plt.figure(figsize=(10,5))\n",
    "axTL= fig.add_subplot(2,2,1)  #TL: Top Leftのつもり\n",
    "axTR = fig.add_subplot(2,2,2) #TR: Top Rightのつもり \n",
    "axBL = fig.add_subplot(2,2,3) #BL: Bottom Leftのつもり\n",
    "axBR = fig.add_subplot(2,2,4) #BR: Bottom rightのつもり\n",
    "axTL.plot(y_sev)\n",
    "axTR.scatter(x,y)\n",
    "axBL.bar(label,data,align='center',width=0.5,color=\"red\") \n",
    "axBR.text(0.5,0.4,\"右下だよ\")\n",
    "plt.show()\n",
    "plt.close()"
   ]
  },
  {
   "cell_type": "markdown",
   "metadata": {
    "id": "161cPa6nrVJG"
   },
   "source": [
    "### Google Driveのマウントと、Google Colab.上で作ったグラフの保存\n",
    "\n",
    "プログラムを実行して絵を描けるようになったら、次にそれを保存して、レポートに貼り付けたり、  \n",
    "誰かに送ったりする必要が出てくると思います。  \n",
    "\n",
    "Google Colab.では、同じGoogleのサービスであるGoogle drive上にファイルを保存したり(無料版で15GBまで)  \n",
    "保存したファイルを他人と共有することができます。\n",
    "\n",
    "皆さんのアカウントのGoogle DriveにあるファイルにGoogle Colab.からアクセスするためにはマウントという作業が必要です。"
   ]
  },
  {
   "cell_type": "code",
   "execution_count": null,
   "metadata": {
    "id": "Cr7sAeT37OSo"
   },
   "outputs": [],
   "source": [
    "from google.colab import drive\n",
    "drive.mount('/content/drive')  # ←のマウントする際の名前は好きに決められる。drive.mount('gdrive')とかでもOK"
   ]
  },
  {
   "cell_type": "markdown",
   "metadata": {
    "id": "fKJKV7iQj_kt"
   },
   "source": [
    "上のコードを実行し(複数アカウントを所持している方はアカウントの選択をして)\n",
    "ポップアップ等の指示に従い操作を行います。成功すると、Mounted at ほにゃららというメッセージが出ます。\n",
    "\n",
    "上のコードは「google driveをdriveという名前でマウントする」という操作を表しています。  \n",
    "マウントできていれば、以下のコードを実行すると、  \n",
    "皆さんのアカウントのマイドライブ直下のファイル一覧が表示されます。"
   ]
  },
  {
   "cell_type": "code",
   "execution_count": null,
   "metadata": {
    "id": "6CyxsW43aDh0"
   },
   "outputs": [],
   "source": [
    "!ls ./drive/MyDrive"
   ]
  },
  {
   "cell_type": "markdown",
   "metadata": {
    "id": "Mem3umDTc21A"
   },
   "source": [
    "Google Colab.からは、!マークをつけることでLinuxやMac(Unix)同様のコマンドが使えます。  \n",
    "上のlsというコマンドは(List Segmentsの略で)ファイルやディレクトリの情報を表示するコマンドです。\n",
    "\n",
    "半角のスラッシュ```/```はディレクトリ階層を意味していて、windowsで言うところの￥に相当します。\n",
    "\n",
    "コンピュータでディレクトリやパスを指定するときは通常このような**パス**と呼ばれるものを指定して扱います。  \n",
    "※パスについてはファイル操作のノートに詳しい記述があります。\n"
   ]
  },
  {
   "cell_type": "markdown",
   "metadata": {
    "id": "tWWrxd0N_z4k"
   },
   "source": [
    "次に、GoogleDriveに、図を保存する用のフォルダを作っておきましょう.  \n",
    "\n",
    "mkdir(make directoryの略)コマンドで、マイドライブ直下に```Colab_pic```というディレクトリを作ることにします."
   ]
  },
  {
   "cell_type": "code",
   "execution_count": null,
   "metadata": {
    "id": "Ou5uXl-U_zV9"
   },
   "outputs": [],
   "source": [
    "!mkdir './drive/MyDrive/Colab_pic' "
   ]
  },
  {
   "cell_type": "markdown",
   "metadata": {
    "id": "t3G421FJjMMG"
   },
   "source": [
    "上のコードを実行後にエラーが出ていなければGoogle driveを開くとColab_picというディレクトリが作成されているかと思います。"
   ]
  },
  {
   "cell_type": "markdown",
   "metadata": {
    "id": "dlHHaqPA_8we"
   },
   "source": [
    "一度フォルダを作ってしまうと、２回目以降は上のコードを実行しても「既にフォルダありますよ！！」というメッセージがでますので  \n",
    "ノートを開くたびに実行する必要はありません。  \n"
   ]
  },
  {
   "cell_type": "markdown",
   "metadata": {
    "id": "enGmvm6gAVoE"
   },
   "source": [
    "これで準備ができました。試しに以下のコードを実行して図を保存してみましょう。\n",
    "\n",
    "\n",
    "\n"
   ]
  },
  {
   "cell_type": "code",
   "execution_count": null,
   "metadata": {
    "id": "PHW-hUepA0dD"
   },
   "outputs": [],
   "source": [
    "### 先程の図\n",
    "fig = plt.figure(figsize=(6,6))\n",
    "ax = fig.add_subplot(1,1,1)  \n",
    "ax.set_facecolor(\"#D3DEF1\")\n",
    "ax.set_title(\"宇都宮市\")\n",
    "ax.set_xlabel(\"平均気温 (℃)\")\n",
    "ax.set_ylabel(\"世帯あたりのアイスクリム・シャーベットの消費金額 (円)\")\n",
    "ax.grid(True,axis=\"both\",color=\"w\", linestyle=\"dotted\", linewidth=0.8)\n",
    "for i in range(len(x)):\n",
    "    tcol=seasoncolor(i+1)\n",
    "    ax.scatter(x[i],y[i],marker=\"o\",s=10,color=tcol,zorder=20000,alpha=0.7)\n",
    "    ax.text(x[i],y[i],str(i+1)+\"月\",color=\"k\",fontsize=8)\n",
    "ax.text(0.1,0.9, \"r=\"+str(\"%5.2f\" % corrcoef), transform=ax.transAxes,fontsize=12)\n",
    "plt.savefig(\"./drive/My Drive/Colab_pic/scatter_Utsunomiya_ice.pdf\") #####  ここがさっきと違います！ \n",
    "#plt.show()\n",
    "plt.close()"
   ]
  },
  {
   "cell_type": "markdown",
   "metadata": {
    "id": "LdmUlNpQjwEL"
   },
   "source": [
    "Google drive上の指定したフォルダに、ファイルが作られたでしょうか？  \n",
    "matplotlibはファイル名を変えるだけで指定した拡張子で描画してくれるので色々試してみましょう  \n",
    "(.jpg,.pdf,.eps,.pngなど)"
   ]
  },
  {
   "cell_type": "markdown",
   "metadata": {
    "id": "uICk2RZ5uFwD"
   },
   "source": [
    "**余談**  \n",
    "プレゼンのスライドに載せる画像は可能な限り、ラスタ形式ではなくベクタ形式(pdfやepsなど)がおすすめです。  \n",
    "(それか、高解像度でjpegやpngを作ってスライドで使って、誰かにスライドを渡すときは軽量化する)  \n",
    "プレゼンで図が滲んでいるスライドを見せていると「あぁ配慮が足りないんだな」と思われて損をしてしまうかもしれません。  \n",
    "論文でラスタ画像を使う場合は「トンデモ論文だと思われて誰にも読まれない危険性」を理解して使いましょう。"
   ]
  },
  {
   "cell_type": "markdown",
   "metadata": {
    "id": "WHPD2iPs0JlX"
   },
   "source": [
    "**練習**\n",
    "これまでの(棒グラフ,円グラフ,１次元図,散布図)のグラフを描画したコード部分で、  \n",
    "データを自由に足してみながら、plt.show()を書き換えてファイルに出力してみましょう。"
   ]
  },
  {
   "cell_type": "code",
   "execution_count": null,
   "metadata": {
    "id": "IOyDWeNzUzou"
   },
   "outputs": [],
   "source": []
  },
  {
   "cell_type": "markdown",
   "metadata": {
    "id": "FS7A2eX6daYK"
   },
   "source": [
    "### gifアニメーションの作成"
   ]
  },
  {
   "cell_type": "markdown",
   "metadata": {
    "id": "u5BC24cadfQH"
   },
   "source": [
    "「なんだこの程度のグラフならExcelでも簡単にできるじゃん...」と思った皆さんのために、もう少し凝ったことをやってみましょう。  \n",
    "gifアニメーション(パラパラ漫画)を作ってみます。  \n",
    "\n",
    "以下のリンクに、x軸をGDP,y軸を24歳から35歳の平均就学年数の女性/男性比(%)としたグラフを画像ファイル(png)にしたものを公開しました。  \n",
    "(もともとのデータはFACTFULNESSから来ているのでライセンスフリーです)  \n",
    "https://drive.google.com/drive/folders/1kD0Sk8EL-JSDJv-V8Bim3UytNSlofc6s?usp=sharing\n",
    "\n",
    "1.   まずこれをダウンロードしてください。\n",
    "2.   ZIP形式で保存されるので、それを解凍してください\n",
    "3.   解凍したフォルダを自身のGoogle Driveの好きな場所にアップロードしてください  \n",
    "※以下のコードをそのまま使いたければ```AdDS```というディレクトリを作ってその下にアップロード\n",
    "\n",
    "\n"
   ]
  },
  {
   "cell_type": "markdown",
   "metadata": {
    "id": "qH7GKz_yfRhO"
   },
   "source": [
    "たとえば私のようにGoogle Driveのマイドライブ直下のAdDSというフォルダの下に  \n",
    "GDPvsWomenInSchoolというフォルダを置いたとします\n",
    "\n",
    "参考スクリーンショット(ディレクトリ名が古い(AdDS2021)ので注意):  \n",
    "![](https://drive.google.com/uc?export=view&id=12v-XLgCHTpOehkJ2pmJIZ7zcaGIH4OZv)  \n",
    "\n"
   ]
  },
  {
   "cell_type": "markdown",
   "metadata": {
    "id": "C79BzM_hhBT3"
   },
   "source": [
    "年代ごとに別々になったたくさんのグラフを、1つのパラパラ漫画にまとめてみましょう\n",
    "\n",
    "先程のグラフがgoogle driveに保存されているかどうかは、以下のコマンドで確認できます(アップロードして直後はファイルが見つからないことがあります)"
   ]
  },
  {
   "cell_type": "code",
   "execution_count": null,
   "metadata": {
    "id": "uFfxkEk-hGsO"
   },
   "outputs": [],
   "source": [
    "!ls  ./drive/MyDrive/AdDS/GDPvsWomenInSchool/*.png"
   ]
  },
  {
   "cell_type": "markdown",
   "metadata": {
    "id": "8k2AXhuTfqJF"
   },
   "source": [
    "AdDS/GDPvsWomenInSchool/の部分は皆さんのフォルダ名に適宜変更してください.\n",
    "\n",
    "pngファイルをまとめてgifにするコードは以下のとおりです。(処理にしばし時間がかかります)"
   ]
  },
  {
   "cell_type": "code",
   "execution_count": null,
   "metadata": {
    "id": "Uqdk5CaBdgJi"
   },
   "outputs": [],
   "source": [
    "from PIL import Image\n",
    "import glob\n",
    "\n",
    "files = sorted(glob.glob('./drive/My Drive/AdDS/GDPvsWomenInSchool/GDPvsWomen*.png')) ##まとめたいpngをワイルドカードで指定\n",
    "images = list(map(lambda file: Image.open(file), files))\n",
    "\n",
    "oupf = './drive/My Drive/Colab_pic/GDPvsWomen.gif' ##出力名と保存場所を指定する\n",
    "images[0].save(oupf, save_all=True, append_images=images[1:], duration=400, loop=0)"
   ]
  },
  {
   "cell_type": "markdown",
   "metadata": {
    "id": "eiu1iJjEokt6"
   },
   "source": [
    "エラーが出なければおそらく変数```oupf```で指定した場所に、gifファイルが生成されていると思います。\n",
    "\n",
    "\n",
    "私の作成例([ファイルへのリンク](https://drive.google.com/file/d/1Y4EkRP3U-aUcziBOoHyxuBZWbT7ZGL-k/view?usp=sharing))は以下のとおりです  \n",
    "\n",
    "<img src=\"https://drive.google.com/uc?export=view&id=1Y4EkRP3U-aUcziBOoHyxuBZWbT7ZGL-k\" width = 40%>\n",
    "\n"
   ]
  },
  {
   "cell_type": "markdown",
   "metadata": {
    "id": "7rVhvZASjDPK"
   },
   "source": [
    "### $\\clubsuit$おまけ\n",
    "\n",
    "その他のグラフ"
   ]
  },
  {
   "cell_type": "code",
   "execution_count": null,
   "metadata": {
    "id": "9nJ-tBtxjFJ2"
   },
   "outputs": [],
   "source": [
    "import matplotlib.pyplot as plt\n",
    "from mpl_toolkits.mplot3d import axes3d\n",
    "from mpl_toolkits.mplot3d.axes3d import get_test_data\n",
    "import os\n",
    "\n",
    "X, Y, Z = get_test_data()\n",
    "fig = plt.figure(figsize=(10,5))\n",
    "ax = fig.gca(projection='3d')\n",
    "ax.set_xlabel(\"x\")\n",
    "ax.set_ylabel(\"y\")\n",
    "ax.set_zlabel(\"target function\")\n",
    "ax.view_init(elev=45)#上から見た角度を調整できる\n",
    "ax.plot_surface(X, Y, Z,cmap=plt.cm.viridis)\n",
    "plt.show()\n",
    "plt.close()"
   ]
  },
  {
   "cell_type": "markdown",
   "metadata": {
    "id": "c34ap-zmHd5s"
   },
   "source": [
    "二次元ヒストグラム"
   ]
  },
  {
   "cell_type": "code",
   "execution_count": null,
   "metadata": {
    "id": "n00yqPx9Hf1E"
   },
   "outputs": [],
   "source": [
    "import matplotlib.cm as cm\n",
    "import numpy as np\n",
    "\n",
    "mu1 = [ 3.0, 2.0]\n",
    "cov1 = [ [1.0, 0.7],[0.7,1.0]]\n",
    "numS = 50000\n",
    "\n",
    "sample1 = np.random.multivariate_normal(mu1,cov1,numS)\n",
    "x1, y1 = sample1.T\n",
    "\n",
    "fig = plt.figure(figsize=(6,5))\n",
    "ax1 = fig.add_subplot(111)\n",
    "H1 = ax1.hist2d(x1,y1, bins=40, cmap=cm.jet)\n",
    "ax1.scatter(mu1[0],mu1[1],color=\"k\",marker=\"x\")\n",
    "ax1.set_title('sample1')\n",
    "ax1.set_xlabel('x'); ax1.set_ylabel('y')\n",
    "fig.colorbar(H1[3],ax=ax1)\n",
    "plt.show()\n",
    "plt.close()\n"
   ]
  },
  {
   "cell_type": "markdown",
   "metadata": {
    "id": "n2vmy-cwzHVi"
   },
   "source": [
    "日本地図"
   ]
  },
  {
   "cell_type": "code",
   "execution_count": null,
   "metadata": {
    "id": "eFGbkhOQzH27"
   },
   "outputs": [],
   "source": [
    "!pip install japanmap\n",
    "from japanmap import pref_names,pref_code,groups,picture\n",
    "import matplotlib.pyplot as plt\n",
    "from pylab import rcParams"
   ]
  },
  {
   "cell_type": "code",
   "execution_count": null,
   "metadata": {
    "id": "KkH_HRkYMmUw"
   },
   "outputs": [],
   "source": [
    "plt.figure(figsize=(6,6))\n",
    "plt.imshow(picture({'栃木県': 'red', '群馬県': 'blue'}))"
   ]
  }
 ],
 "metadata": {
  "colab": {
   "collapsed_sections": [],
   "include_colab_link": true,
   "name": "Python_chapter4_Matplotlib.ipynb",
   "provenance": []
  },
  "kernelspec": {
   "display_name": "Python 3.9.13 64-bit",
   "language": "python",
   "name": "python3"
  },
  "language_info": {
   "name": "python",
   "version": "3.9.13"
  },
  "vscode": {
   "interpreter": {
    "hash": "aee8b7b246df8f9039afb4144a1f6fd8d2ca17a180786b69acc140d282b71a49"
   }
  }
 },
 "nbformat": 4,
 "nbformat_minor": 0
}