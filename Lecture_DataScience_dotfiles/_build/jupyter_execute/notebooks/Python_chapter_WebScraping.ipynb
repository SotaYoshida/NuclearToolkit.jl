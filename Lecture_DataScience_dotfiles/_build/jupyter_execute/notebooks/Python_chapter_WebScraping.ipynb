{
 "cells": [
  {
   "cell_type": "markdown",
   "metadata": {
    "colab_type": "text",
    "id": "view-in-github"
   },
   "source": [
    "<a href=\"https://colab.research.google.com/github/SotaYoshida/Lecture_DataScience/blob/main/notebooks/Python_chapter_WebScraping.ipynb\" target=\"_parent\"><img src=\"https://colab.research.google.com/assets/colab-badge.svg\" alt=\"Open In Colab\"/></a>"
   ]
  },
  {
   "cell_type": "markdown",
   "metadata": {
    "id": "hZr60g6XehqN"
   },
   "source": [
    "# Web操作・スクレイピング"
   ]
  },
  {
   "cell_type": "markdown",
   "metadata": {
    "id": "y6bjRQEEPOur"
   },
   "source": [
    "Webから情報を抽出・整形・解析したり、  \n",
    "ブラウザ上での特定の操作を自動化する、といったことも  \n",
    "Pythonでは比較的容易に実行することができる。\n",
    "\n",
    "Web上にある情報にアクセスしたりする方法は色々あるが、大まかには２つに分類され\n",
    "\n",
    "1. プログラムでWebページにアクセスして中身(HTML)を読み、そこから情報を抽出する方法\n",
    "2. ブラウザをプログラムに操作させて特定の作業を実行する方法\n",
    "\n",
    "この章では、とくに1.のWebから情報を抽出すること(スクレイピング)に絞ってそのエッセンスを紹介する。  \n",
    "HTMLとは、Webページを作るための言語のことで、  \n",
    "みなさんが普段からアクセスするほぼ全てのWebページは、  \n",
    "HTMLで記述されています。\n",
    "\n",
    "\n",
    "Webから情報を抽出したりする際、共通して言える注意点を述べておく:\n",
    "* **対象とするページの利用規約を必ず確認する**  \n",
    "規約でスクレイピングを禁止しているページがある (例: Amazon, Twitter, Instagram, facebook, 金融系などなど)  \n",
    "    禁止している場合でも、APIが提供されている場合があります  \n",
    "    ※APIはApplication Programming Interfaceの略です。  \n",
    "    今の場合、大雑把にはデータ提供用の窓口とでも思ってください.\n",
    "\n",
    "* **サーバーに負荷をかけない**  \n",
    "    規約で特にスクレイピングを禁止していない場合でも、過度なアクセスをしてはいけません。  \n",
    "    (どこかの大学の教務ポータルみたいに落ちてしまったら大変です)   \n",
    "    過度なアクセスは、悪意のあるDos攻撃とみなされてアクセスを制限されたり、  \n",
    "    最悪の場合、偽計業務妨害罪などの罪に問われる可能性があります。\n",
    "\n",
    "\n",
    "\n"
   ]
  },
  {
   "cell_type": "markdown",
   "metadata": {
    "id": "4F9VwZUYTv-k"
   },
   "source": [
    "\n",
    "## 東京都の新型コロナウイルス関連情報の取得\n",
    "\n",
    "スクレイピングを可能とするライブラリは多数存在する。  \n",
    "代表的なものは```requests```や```urllib```。以下では```requests```を使います。  \n",
    "\n",
    "JavaScriptの実行などがないページならこれでだいたい十分かと思います.  \n",
    "また```BeutifulSoup4```というライブラリを使うと、HTMLを構文解析して、  \n",
    "タグなどを取り除くといった操作が比較的容易に行えます。\n",
    "\n"
   ]
  },
  {
   "attachments": {},
   "cell_type": "markdown",
   "metadata": {},
   "source": [
    "1つ目の例として、[東京都 新型コロナウイルス感染症対策サイト](https://stopcovid19.metro.tokyo.lg.jp/)の公開データを取得して  \n",
    "それをグラフにして可視化してみましょう。まずは必要なライブラリをインポートしておきます。"
   ]
  },
  {
   "cell_type": "code",
   "execution_count": null,
   "metadata": {
    "id": "up8cPse8AetS",
    "vscode": {
     "languageId": "python"
    }
   },
   "outputs": [],
   "source": [
    "import requests\n",
    "import json\n",
    "import datetime\n",
    "import matplotlib.pyplot as plt\n",
    "!pip install japanize-matplotlib \n",
    "import japanize_matplotlib "
   ]
  },
  {
   "attachments": {},
   "cell_type": "markdown",
   "metadata": {
    "id": "BnQLXHKjFjBq"
   },
   "source": [
    "[東京都 新型コロナウイルス感染症対策サイト](https://stopcovid19.metro.tokyo.lg.jp/)の[レポジトリ](https://github.com/tokyo-metropolitan-gov/covid19)で公開されているデータ(json形式)を読み出す。\n",
    "\n",
    "指定したurlにリクエストを送り、レスポンスをjson形式で取得する"
   ]
  },
  {
   "cell_type": "code",
   "execution_count": null,
   "metadata": {
    "id": "T_1P0zx8AkK2",
    "vscode": {
     "languageId": "python"
    }
   },
   "outputs": [],
   "source": [
    "url = \"https://raw.githubusercontent.com/tokyo-metropolitan-gov/covid19/development/data/data.json\"\n",
    "response = requests.get(url)\n",
    "data = response.json()"
   ]
  },
  {
   "cell_type": "markdown",
   "metadata": {
    "id": "SKHu3BaJGHV7"
   },
   "source": [
    "上の`data`を直接`print`すると表示が冗長になるため  \n",
    "代わりに、jsonのキーとして何があるかを見てみよう。"
   ]
  },
  {
   "cell_type": "code",
   "execution_count": null,
   "metadata": {
    "colab": {
     "base_uri": "https://localhost:8080/"
    },
    "id": "pYuurgg8GQt0",
    "outputId": "daada50f-ae8c-41fb-ae69-8173e3c676b9",
    "vscode": {
     "languageId": "python"
    }
   },
   "outputs": [
    {
     "data": {
      "text/plain": [
       "dict_keys(['contacts', 'querents', 'patients_summary', 'inspections_summary', 'lastUpdate', 'main_summary'])"
      ]
     },
     "metadata": {},
     "output_type": "display_data"
    }
   ],
   "source": [
    "data.keys()"
   ]
  },
  {
   "cell_type": "markdown",
   "metadata": {
    "id": "MauYUeNZGSUt"
   },
   "source": [
    "それぞれ\n",
    "* contacts: 新型コロナコールセンター相談件数\n",
    "* querents: 帰国者・接触者電話相談センター相談件数\n",
    "* patients_summary: 陽性患者数\n",
    "* inspections_summary: 検査実施日別状況\n",
    "* lastUpdate: 最終更新日時\n",
    "* main_summary: (これはよくわからない)\n",
    "\n",
    "に対応している。\n",
    "\n",
    "陽性患者数のデータの構造を調べつつ結果を可視化してみよう。  \n",
    "まずは型を調べてみる。"
   ]
  },
  {
   "cell_type": "code",
   "execution_count": null,
   "metadata": {
    "colab": {
     "base_uri": "https://localhost:8080/"
    },
    "id": "NkQkByDHH4d_",
    "outputId": "a19e1dc9-5625-4cb3-8df2-20eb4305894d",
    "vscode": {
     "languageId": "python"
    }
   },
   "outputs": [
    {
     "name": "stdout",
     "output_type": "stream",
     "text": [
      "<class 'dict'>\n"
     ]
    }
   ],
   "source": [
    "type(data['patients_summary'])"
   ]
  },
  {
   "cell_type": "markdown",
   "metadata": {
    "id": "IHVWrC9OIEP0"
   },
   "source": [
    "辞書型とわかったのでキーの一覧を見てみよう"
   ]
  },
  {
   "cell_type": "code",
   "execution_count": null,
   "metadata": {
    "colab": {
     "base_uri": "https://localhost:8080/"
    },
    "id": "wv2FvdSkIDXg",
    "outputId": "fa3a7ee8-dfdb-498d-de72-9f1cb9b70785",
    "vscode": {
     "languageId": "python"
    }
   },
   "outputs": [
    {
     "data": {
      "text/plain": [
       "dict_keys(['date', 'data'])"
      ]
     },
     "metadata": {},
     "output_type": "display_data"
    }
   ],
   "source": [
    "data['patients_summary'].keys()"
   ]
  },
  {
   "cell_type": "markdown",
   "metadata": {
    "id": "1yZUYEsmIK-I"
   },
   "source": [
    "同様にして`data['patients_summary'][\"data\"]`が\"日付\"と\"小計\"をキーに持つ辞書のリストだと分かる。"
   ]
  },
  {
   "cell_type": "code",
   "execution_count": null,
   "metadata": {
    "colab": {
     "base_uri": "https://localhost:8080/"
    },
    "id": "hhAhiQfSISBz",
    "outputId": "88e0f766-6994-4919-f500-de1be2c7232c",
    "vscode": {
     "languageId": "python"
    }
   },
   "outputs": [
    {
     "data": {
      "text/plain": [
       "{'日付': '2020-01-24T08:00:00.000Z', '小計': 1}"
      ]
     },
     "metadata": {},
     "output_type": "display_data"
    }
   ],
   "source": [
    "data['patients_summary'][\"data\"][0]"
   ]
  },
  {
   "cell_type": "markdown",
   "metadata": {
    "id": "iXuc95Z_IkdB"
   },
   "source": [
    "日付と陽性患者数をリストに直して、描画してみよう"
   ]
  },
  {
   "cell_type": "code",
   "execution_count": null,
   "metadata": {
    "colab": {
     "base_uri": "https://localhost:8080/"
    },
    "id": "y66ZWnHdDK5s",
    "outputId": "c7127a0a-d0e1-4f19-f137-a94dd00e6a63",
    "vscode": {
     "languageId": "python"
    }
   },
   "outputs": [],
   "source": [
    "#　\"2022-01-01\"のような文字列をdatetimeに変換する関数\n",
    "def str_to_dt(tstr):\n",
    "    tdatetime = datetime.datetime.strptime(tstr, '%Y-%m-%d')\n",
    "    tdate = datetime.date(tdatetime.year, tdatetime.month, tdatetime.day)\n",
    "    return tdate\n",
    "    \n",
    "tdat = data['patients_summary'][\"data\"]\n",
    "N = len(tdat)\n",
    "tdat = data['patients_summary'][\"data\"]\n",
    "dates = [ str_to_dt(tdat[i][\"日付\"].split(\"T\")[0]) for i in range(N)]\n",
    "num_patients = [ tdat[i]['小計'] for i in range(N)]\n",
    "print(dates)\n",
    "print(num_patients)"
   ]
  },
  {
   "cell_type": "code",
   "execution_count": null,
   "metadata": {
    "colab": {
     "base_uri": "https://localhost:8080/",
     "height": 292
    },
    "id": "aZx0omoSFYVq",
    "outputId": "44b64330-f48c-4cac-f963-0706adb35ce0",
    "vscode": {
     "languageId": "python"
    }
   },
   "outputs": [
    {
     "data": {
      "image/png": "[encoded data removed]",
      "text/plain": [
       "<Figure size 1080x288 with 1 Axes>"
      ]
     },
     "metadata": {
      "filenames": {
       "image/png": "/Users/sotauu/Desktop/Lecture_DataScience/Lecture_DataScience_dotfiles/_build/jupyter_execute/notebooks/Python_chapter_WebScraping_18_0.png"
      }
     },
     "output_type": "display_data"
    }
   ],
   "source": [
    "fig = plt.figure(figsize=(15,4))\n",
    "plt.title(\"東京都\")\n",
    "plt.xlabel(\"日付\")\n",
    "plt.ylabel(\"陽性者数[人]\")\n",
    "plt.plot(dates,num_patients, color=\"green\")\n",
    "plt.show()\n",
    "plt.close()"
   ]
  },
  {
   "cell_type": "markdown",
   "metadata": {
    "id": "25k4E9a0WBHd"
   },
   "source": [
    "## e-Statのデータを取得する\n",
    "\n",
    "[政府統計の総合窓口(e-Stat)](https://www.e-stat.go.jp/)は  \n",
    "日本の各府省が公表する統計データを一つにまとめた、   \n",
    "政府統計のポータルサイトです。\n",
    "\n",
    "e-Statでは[API機能](https://www.e-stat.go.jp/api/)(ユーザー登録が必要)が提供されていて、  \n",
    "指定されたURLに対してリクエストを送信することで各APIを利用することが出来ます。\n",
    "\n",
    "\n"
   ]
  },
  {
   "cell_type": "markdown",
   "metadata": {
    "id": "0ixj5epofkdl"
   },
   "source": [
    "### 準備1 e-Statの登録\n",
    "\n",
    "\n",
    "\n",
    "\n"
   ]
  },
  {
   "cell_type": "markdown",
   "metadata": {
    "id": "zfPiBxkmizMv"
   },
   "source": [
    "以降の内容でも、e-StatのAPI機能を使用するため予めe-Statへの登録が必要です。\n",
    "\n",
    "国内のデータを使って最終課題に取り組みたいという方は  \n",
    "ここに記載の手順にならって登録しておきましょう。\n",
    "\n",
    "1. まず[こちら](https://www.e-stat.go.jp/mypage/user/preregister)のページからメールアドレス(Gmailを推奨します)を入力し、届いたメールから本登録を行う  \n",
    "このとき、gmailアカウントによる認証をオンにしておくと、以後のログインが楽。\n",
    "2. [ログインページ](https://www.e-stat.go.jp/mypage/login)からログインし、\n",
    "右上の[マイページ]に遷移\n",
    "<img src=\"https://drive.google.com/uc?export=view&id=1NHMQ8GnJ6n6hSaUAIFgOGyRc5Z55Enxj\" width = 70%>\n",
    "3. [API機能(アプリケーションID発行)]に遷移する\n",
    "4. 以下の例にならって、名称とURLを入力し、発行ボタンを押す\n",
    "<img src=\"https://drive.google.com/uc?export=view&id=100w2nmie7ZD6PliQVbjAHIt7o5gaBciN\" width = 80%>\n",
    "\n",
    "5. [appId]に生成された文字列を、どこかに控えておく(**appIdを他人と共有してはいけません**)\n"
   ]
  },
  {
   "cell_type": "markdown",
   "metadata": {
    "id": "H_q7dts4iyJE"
   },
   "source": [
    "### 準備2 Pandas e-Statのインストール\n"
   ]
  },
  {
   "cell_type": "markdown",
   "metadata": {
    "id": "l2ywuL1Ki2QB"
   },
   "source": [
    "さて、e-Statへの登録ができたでしょうか。  \n",
    "\n",
    "早速e-Statにあるデータをどんどん抽出したい  \n",
    "...のですが、[マニュアル](https://www.e-stat.go.jp/api/sites/default/files/uploads/2019/07/API-specVer3.0.pdf)を理解してAPIに適切なリクエストを送るというのは、  \n",
    "それ自体がややハードルが高いかと思います。\n",
    "\n",
    "そこで、このノートブックでは[simaki](https://github.com/simaki)氏が作った  \n",
    "Python用のライブラリ[Pandas e-Stat](https://github.com/simaki/pandas-estat)を使用することにします。  \n",
    "同氏によるQiitaの解説記事→https://qiita.com/simaki/items/05cc242d27b4e6781d19\n",
    "\n",
    "まずはインストール&インポートします。\n",
    "\n"
   ]
  },
  {
   "cell_type": "code",
   "execution_count": null,
   "metadata": {
    "colab": {
     "base_uri": "https://localhost:8080/"
    },
    "id": "P20H8bGrXnC1",
    "outputId": "f855e3db-570a-4091-eec2-df5c65ddf906",
    "vscode": {
     "languageId": "python"
    }
   },
   "outputs": [
    {
     "name": "stdout",
     "output_type": "stream",
     "text": [
      "Requirement already satisfied: pandas-estat in /usr/local/lib/python3.7/dist-packages (0.3.1)\n",
      "Requirement already satisfied: requests<3.0.0,>=2.26.0 in /usr/local/lib/python3.7/dist-packages (from pandas-estat) (2.26.0)\n",
      "Requirement already satisfied: pandas<2.0.0,>=1.3.3 in /usr/local/lib/python3.7/dist-packages (from pandas-estat) (1.3.5)\n",
      "Requirement already satisfied: numpy>=1.17.3 in /usr/local/lib/python3.7/dist-packages (from pandas<2.0.0,>=1.3.3->pandas-estat) (1.19.5)\n",
      "Requirement already satisfied: python-dateutil>=2.7.3 in /usr/local/lib/python3.7/dist-packages (from pandas<2.0.0,>=1.3.3->pandas-estat) (2.8.2)\n",
      "Requirement already satisfied: pytz>=2017.3 in /usr/local/lib/python3.7/dist-packages (from pandas<2.0.0,>=1.3.3->pandas-estat) (2018.9)\n",
      "Requirement already satisfied: six>=1.5 in /usr/local/lib/python3.7/dist-packages (from python-dateutil>=2.7.3->pandas<2.0.0,>=1.3.3->pandas-estat) (1.15.0)\n",
      "Requirement already satisfied: idna<4,>=2.5 in /usr/local/lib/python3.7/dist-packages (from requests<3.0.0,>=2.26.0->pandas-estat) (2.10)\n",
      "Requirement already satisfied: certifi>=2017.4.17 in /usr/local/lib/python3.7/dist-packages (from requests<3.0.0,>=2.26.0->pandas-estat) (2021.10.8)\n",
      "Requirement already satisfied: urllib3<1.27,>=1.21.1 in /usr/local/lib/python3.7/dist-packages (from requests<3.0.0,>=2.26.0->pandas-estat) (1.24.3)\n",
      "Requirement already satisfied: charset-normalizer~=2.0.0 in /usr/local/lib/python3.7/dist-packages (from requests<3.0.0,>=2.26.0->pandas-estat) (2.0.8)\n"
     ]
    }
   ],
   "source": [
    "!pip install pandas-estat\n",
    "import pandas as pd\n",
    "## import pandas_estat \n",
    "# 以降では、pandas_estat内の関数は個別にimportすることにする (そうすると短い名前で使える)\n",
    "#実行時の依存関係のエラーは当面問題ない(はず)"
   ]
  },
  {
   "cell_type": "markdown",
   "metadata": {
    "id": "81nepFn_cbZc"
   },
   "source": [
    "次に```pandas_estat```からAPIを使用するためのIDを指定します"
   ]
  },
  {
   "cell_type": "code",
   "execution_count": null,
   "metadata": {
    "id": "zhWUx4u9aVtS",
    "vscode": {
     "languageId": "python"
    }
   },
   "outputs": [],
   "source": [
    "from pandas_estat import set_appid\n",
    "appID = \"honyahonya\" # 引用符内を準備1で発行したappidに置き換える\n",
    "set_appid(appID) "
   ]
  },
  {
   "cell_type": "markdown",
   "metadata": {
    "id": "IMr1sWo20JI-"
   },
   "source": [
    "## Pandas e-Statを使ってみよう"
   ]
  },
  {
   "cell_type": "markdown",
   "metadata": {
    "id": "KbrL52_4cdga"
   },
   "source": [
    "ライブラリを使ってみましょう.  \n",
    "```read_statslist()```関数の引数に\"政府統計コード\"を指定することで、  \n",
    "該当する統計データの一覧を```pandas.DataFrame```形式で取得することができます。  \n",
    "[政府統計コードの一覧はこちら](https://www.e-stat.go.jp/help/stat-search-3-5)\n",
    "\n",
    "\n",
    "政府統計コードそのものの一覧をdataframe形式取得するコードはそのうち書くつもりです。  \n"
   ]
  },
  {
   "cell_type": "markdown",
   "metadata": {
    "id": "wi4ef0kxtGRD"
   },
   "source": [
    "それでは、さっそくPandas e-statを使ってみましょう。  \n",
    "以下では、例にならって「サービス産業動向調査」の結果を抽出してみることにしましょう。"
   ]
  },
  {
   "cell_type": "code",
   "execution_count": null,
   "metadata": {
    "colab": {
     "base_uri": "https://localhost:8080/"
    },
    "id": "JZ6HgRbkcO3P",
    "outputId": "79189f74-3fcc-4409-ca19-0b8359604627",
    "vscode": {
     "languageId": "python"
    }
   },
   "outputs": [
    {
     "name": "stdout",
     "output_type": "stream",
     "text": [
      "      TABLE_INF STAT_CODE  ... SUB_CATEGORY_CODE SUB_CATEGORY\n",
      "0    0003179100  00200544  ...                02         需給流通\n",
      "1    0003179101  00200544  ...                02         需給流通\n",
      "2    0003085562  00200544  ...                02         需給流通\n",
      "3    0003085612  00200544  ...                02         需給流通\n",
      "4    0003090498  00200544  ...                02         需給流通\n",
      "..          ...       ...  ...               ...          ...\n",
      "137  0003412789  00200544  ...                02         需給流通\n",
      "138  0003412790  00200544  ...                02         需給流通\n",
      "139  0003412791  00200544  ...                02         需給流通\n",
      "140  0003412792  00200544  ...                02         需給流通\n",
      "141  0003412793  00200544  ...                02         需給流通\n",
      "\n",
      "[142 rows x 35 columns]\n"
     ]
    }
   ],
   "source": [
    "from pandas_estat import read_statslist\n",
    "statslist = read_statslist(\"00200544\")  # サービス産業動向調査\n",
    "statslist"
   ]
  },
  {
   "cell_type": "markdown",
   "metadata": {
    "id": "wMHn2KBQgvgI"
   },
   "source": [
    "次に、これらのデータがどうやって分類されているのかを調べてみましょう。  \n",
    "列(column)を表示してみると"
   ]
  },
  {
   "cell_type": "code",
   "execution_count": null,
   "metadata": {
    "colab": {
     "base_uri": "https://localhost:8080/"
    },
    "id": "p13KGCATg0aw",
    "outputId": "575c6607-167d-4a64-e5ac-82da6935e06f",
    "vscode": {
     "languageId": "python"
    }
   },
   "outputs": [
    {
     "name": "stdout",
     "output_type": "stream",
     "text": [
      "Index(['TABLE_INF', 'STAT_CODE', 'STAT_NAME', 'GOV_ORG_CODE', 'GOV_ORG_NAME',\n",
      "       'TABULATION_CATEGORY', 'TABULATION_SUB_CATEGORY1',\n",
      "       'TABULATION_SUB_CATEGORY2', 'TABULATION_SUB_CATEGORY3',\n",
      "       'TABULATION_SUB_CATEGORY4', 'TABULATION_SUB_CATEGORY5',\n",
      "       'TABULATION_CATEGORY_EXPLANATION',\n",
      "       'TABULATION_SUB_CATEGORY_EXPLANATION1',\n",
      "       'TABULATION_SUB_CATEGORY_EXPLANATION2',\n",
      "       'TABULATION_SUB_CATEGORY_EXPLANATION3',\n",
      "       'TABULATION_SUB_CATEGORY_EXPLANATION4',\n",
      "       'TABULATION_SUB_CATEGORY_EXPLANATION5', 'NO', 'TITLE',\n",
      "       'TABLE_EXPLANATION', 'TABLE_CATEGORY', 'TABLE_SUB_CATEGORY1',\n",
      "       'TABLE_SUB_CATEGORY2', 'TABLE_SUB_CATEGORY3', 'CYCLE', 'SURVEY_DATE',\n",
      "       'OPEN_DATE', 'SMALL_AREA', 'COLLECT_AREA', 'OVERALL_TOTAL_NUMBER',\n",
      "       'UPDATED_DATE', 'MAIN_CATEGORY_CODE', 'MAIN_CATEGORY',\n",
      "       'SUB_CATEGORY_CODE', 'SUB_CATEGORY'],\n",
      "      dtype='object')\n"
     ]
    }
   ],
   "source": [
    "print(statslist.columns)"
   ]
  },
  {
   "cell_type": "markdown",
   "metadata": {
    "id": "616jD7Q5hbLL"
   },
   "source": [
    "例えば、```CYCLE```(周期)というものがあるので、  \n",
    "CYCLEが\"月次\"(月ごと)になっているデータだけをピックアップして、  "
   ]
  },
  {
   "cell_type": "code",
   "execution_count": null,
   "metadata": {
    "id": "HJGryvLBc0ty",
    "vscode": {
     "languageId": "python"
    }
   },
   "outputs": [],
   "source": [
    "statslist = statslist[statslist.CYCLE == \"月次\"] "
   ]
  },
  {
   "cell_type": "markdown",
   "metadata": {
    "id": "tGm4W58th85l"
   },
   "source": [
    "\n",
    "その```TABLE_INF```(統計表ID)と```TITLE```(タイトル)だけを表示してみましょう"
   ]
  },
  {
   "cell_type": "code",
   "execution_count": null,
   "metadata": {
    "colab": {
     "base_uri": "https://localhost:8080/"
    },
    "id": "vLnBXsfgh_C_",
    "outputId": "987b8b47-5564-419c-d6c5-5aeac7746081",
    "vscode": {
     "languageId": "python"
    }
   },
   "outputs": [
    {
     "name": "stdout",
     "output_type": "stream",
     "text": [
      "     TABLE_INF                                              TITLE\n",
      "2   0003085562    事業所・企業等の産業（中分類）別売上高，従業上の地位別事業従事者数（月次）【2013年1月～】\n",
      "5   0003191203                     事業活動の産業（中分類）別売上高（月次）【2013年1月～】\n",
      "7   0003085489               事業活動の産業（中分類）別需要の状況【2013年1月～2016年12月】\n",
      "8   0003085521  事業活動の産業（中分類），事業所・企業等の産業（中分類）別売上高（月次）【2013年1月～12月】\n",
      "10  0003094573  事業活動の産業（一部中分類），事業所・企業等の産業（一部中分類）別売上高（月次）【2013年...\n"
     ]
    }
   ],
   "source": [
    "statslist[[\"TABLE_INF\", \"TITLE\"]]"
   ]
  },
  {
   "cell_type": "markdown",
   "metadata": {
    "id": "xuoghPkAciH6"
   },
   "source": [
    "```TABLE_INF```の数値が[統計表ID]と呼ばれるものです。"
   ]
  },
  {
   "cell_type": "markdown",
   "metadata": {
    "id": "TASwyySl35Rf"
   },
   "source": [
    "ではこの中から\"事業活動の産業（中分類）別売上高（月次）【2013年1月～】\"を読み出してみましょう。  \n",
    "それには```read_statsdata```という関数が用意されているので、  \n",
    "引数に```TABLE_INF```(統計表ID)を入力すると..."
   ]
  },
  {
   "cell_type": "code",
   "execution_count": null,
   "metadata": {
    "colab": {
     "base_uri": "https://localhost:8080/"
    },
    "id": "eRg7btsH35X0",
    "outputId": "11cd68e4-c244-4a4f-c6d3-446426d1e0ef",
    "vscode": {
     "languageId": "python"
    }
   },
   "outputs": [
    {
     "name": "stdout",
     "output_type": "stream",
     "text": [
      "     tab_code      表章項目 cat01_code 事業活動の産業  ...    時間軸（月次） unit     value annotation\n",
      "0         001  売上高（収入額）      00000      合計  ...    2013年1月  百万円  27331888        NaN\n",
      "1         001  売上高（収入額）      00000      合計  ...    2013年2月  百万円  27395304        NaN\n",
      "2         001  売上高（収入額）      00000      合計  ...    2013年3月  百万円  35140562        NaN\n",
      "3         001  売上高（収入額）      00000      合計  ...    2013年4月  百万円  28676427        NaN\n",
      "4         001  売上高（収入額）      00000      合計  ...    2013年5月  百万円  28648626        NaN\n",
      "...       ...       ...        ...     ...  ...        ...  ...       ...        ...\n",
      "5035      001  売上高（収入額）      20000     その他  ...    2021年5月  百万円    869554        NaN\n",
      "5036      001  売上高（収入額）      20000     その他  ...    2021年6月  百万円    956542        NaN\n",
      "5037      001  売上高（収入額）      20000     その他  ...  2021年7月 p  百万円    937055        NaN\n",
      "5038      001  売上高（収入額）      20000     その他  ...  2021年8月 p  百万円    894658        NaN\n",
      "5039      001  売上高（収入額）      20000     その他  ...  2021年9月 p  百万円   1005051        NaN\n",
      "\n",
      "[5040 rows x 11 columns]\n",
      "1.1.5\n"
     ]
    }
   ],
   "source": [
    "from pandas_estat import read_statsdata \n",
    "df = read_statsdata(\"0003191203\")  \n",
    "df"
   ]
  },
  {
   "cell_type": "markdown",
   "metadata": {
    "id": "pPWScZG1e0Zu"
   },
   "source": [
    "これで、データを抽出することができました。"
   ]
  },
  {
   "cell_type": "code",
   "execution_count": null,
   "metadata": {
    "colab": {
     "base_uri": "https://localhost:8080/"
    },
    "id": "2IdKeyZ_vLqw",
    "outputId": "62fa4030-df23-453c-8bee-9d6eab523c76",
    "vscode": {
     "languageId": "python"
    }
   },
   "outputs": [
    {
     "data": {
      "text/plain": [
       "Index(['tab_code', '表章項目', 'cat01_code', '事業活動の産業', 'area_code', '地域',\n",
       "       'time_code', '時間軸（月次）', 'unit', 'value', 'annotation'],\n",
       "      dtype='object')"
      ]
     },
     "execution_count": 19,
     "metadata": {},
     "output_type": "execute_result"
    }
   ],
   "source": [
    "df.columns"
   ]
  },
  {
   "cell_type": "markdown",
   "metadata": {
    "id": "BC5Z5beZvgZ_"
   },
   "source": [
    "もう属性を少し絞ってみましょう。\n",
    "\n",
    "dataframeの\"事業活動の産業\"列にどんなものがあるかを抽出し、  \n",
    "```set```関数を使って重複を除くと..."
   ]
  },
  {
   "cell_type": "code",
   "execution_count": null,
   "metadata": {
    "colab": {
     "base_uri": "https://localhost:8080/"
    },
    "id": "J1LtPEnxvf89",
    "outputId": "917711c3-64d2-4f7f-9a02-1f61220056d5",
    "vscode": {
     "languageId": "python"
    }
   },
   "outputs": [
    {
     "data": {
      "text/plain": [
       "{'37通信業',\n",
       " '38放送業',\n",
       " '39情報サービス業',\n",
       " '4*航空運輸業，郵便業（信書便事業を含む）',\n",
       " '40インターネット附随サービス業',\n",
       " '41映像・音声・文字情報制作業',\n",
       " '42鉄道業',\n",
       " '43道路旅客運送業',\n",
       " '44道路貨物運送業',\n",
       " '45水運業',\n",
       " '47倉庫業',\n",
       " '48運輸に附帯するサービス業',\n",
       " '68不動産取引業',\n",
       " '69不動産賃貸業・管理業',\n",
       " '70物品賃貸業',\n",
       " '72専門サービス業（他に分類されないもの）\\u3000（※「純粋持株会社」（平成25年１月以降）を除く）',\n",
       " '73広告業',\n",
       " '74技術サービス業（他に分類されないもの）',\n",
       " '75宿泊業',\n",
       " '76飲食店',\n",
       " '77持ち帰り・配達飲食サービス業',\n",
       " '78洗濯・理容・美容・浴場業',\n",
       " '79その他の生活関連サービス業\\u3000（※「家事サービス業」を除く）',\n",
       " '80娯楽業',\n",
       " '82aうち社会教育，職業・教育支援施設',\n",
       " '82bうち学習塾，教養・技能教授業',\n",
       " '82その他の教育，学習支援業',\n",
       " '83医療業',\n",
       " '84保健衛生\\u3000（※「保健所」を除く）',\n",
       " '85社会保険・社会福祉・介護事業\\u3000（※「社会保険事業団体」（平成25年１月以降）及び「福祉事務所」を除く）',\n",
       " '88廃棄物処理業',\n",
       " '89自動車整備業',\n",
       " '90機械等修理業（別掲を除く）',\n",
       " '91職業紹介・労働者派遣業',\n",
       " '92その他の事業サービス業',\n",
       " '95その他のサービス業',\n",
       " 'その他',\n",
       " 'サービス産業計',\n",
       " '合計',\n",
       " 'Ｇ情報通信業',\n",
       " 'Ｈ運輸業，郵便業',\n",
       " 'Ｋ不動産業，物品賃貸業',\n",
       " 'Ｌ学術研究，専門・技術サービス業\\u3000（※「学術・開発研究機関」（平成25年１月以降）及び「純粋持株会社」（平成25年１月以降）を除く）',\n",
       " 'Ｍ宿泊業，飲食サービス業',\n",
       " 'Ｎ生活関連サービス業，娯楽業\\u3000（※「家事サービス業」を除く）',\n",
       " 'Ｏ教育，学習支援業\\u3000（※「学校教育」を除く）',\n",
       " 'Ｐ医療，福祉（※「保健所」、「社会保険事業団体」（平成25年１月以降）及び「福祉事務所」を除く）',\n",
       " 'Ｒサービス業（他に分類されないもの）\\u3000（※「政治・経済・文化団体」、「宗教」及び「外国公務」を除く）'}"
      ]
     },
     "execution_count": 20,
     "metadata": {},
     "output_type": "execute_result"
    }
   ],
   "source": [
    "set(df[\"事業活動の産業\"])"
   ]
  },
  {
   "cell_type": "markdown",
   "metadata": {
    "id": "u0GQxlyZwJa9"
   },
   "source": [
    "\"42鉄道業\"を見てみましょう。  "
   ]
  },
  {
   "cell_type": "code",
   "execution_count": null,
   "metadata": {
    "colab": {
     "base_uri": "https://localhost:8080/"
    },
    "id": "QM1iHQkKwVhq",
    "outputId": "5a7c4bea-f252-48c2-846a-e7c039fc4bd0",
    "vscode": {
     "languageId": "python"
    }
   },
   "outputs": [
    {
     "name": "stdout",
     "output_type": "stream",
     "text": [
      "        時間軸（月次）   value unit\n",
      "945  2013-01-01  583438  百万円\n",
      "946  2013-02-01  529656  百万円\n",
      "947  2013-03-01  644219  百万円\n",
      "948  2013-04-01  627287  百万円\n",
      "949  2013-05-01  581344  百万円\n",
      "...         ...     ...  ...\n",
      "1042 2021-02-01  332987  百万円\n",
      "1043 2021-03-01  424911  百万円\n",
      "1044 2021-04-01  402705  百万円\n",
      "1045 2021-05-01  341804  百万円\n",
      "1046 2021-06-01  360438  百万円\n",
      "\n",
      "[102 rows x 3 columns]\n",
      "1.1.5\n"
     ]
    }
   ],
   "source": [
    "ndf = df[df[\"事業活動の産業\"] == \"42鉄道業\"] #dfの中の、\"事業活動の産業欄が\"42鉄道業\"のものを抽出し、ndfと名前をつける\n",
    "\n",
    "ndf = ndf[ndf[\"時間軸（月次）\"].str.endswith(\"月\")]\n",
    "ndf[\"時間軸（月次）\"] = pd.to_datetime(ndf[\"時間軸（月次）\"], format=\"%Y年%m月\")\n",
    "ndf = ndf.sort_values(\"時間軸（月次）\")\n",
    "\n",
    "#必要なところだけ抽出すると...\n",
    "ndf[[\"時間軸（月次）\", \"value\", \"unit\"]]"
   ]
  },
  {
   "cell_type": "markdown",
   "metadata": {
    "id": "AS81LjUszJuv"
   },
   "source": [
    "図を描いてみよう"
   ]
  },
  {
   "cell_type": "code",
   "execution_count": null,
   "metadata": {
    "colab": {
     "base_uri": "https://localhost:8080/"
    },
    "id": "t-EtOX6tzLJh",
    "outputId": "97e640e4-00d7-4ee7-d57a-e1fc7933f357",
    "vscode": {
     "languageId": "python"
    }
   },
   "outputs": [
    {
     "name": "stdout",
     "output_type": "stream",
     "text": [
      "Requirement already satisfied: japanize-matplotlib in /usr/local/lib/python3.7/dist-packages (1.1.3)\n",
      "Requirement already satisfied: matplotlib in /usr/local/lib/python3.7/dist-packages (from japanize-matplotlib) (3.2.2)\n",
      "Requirement already satisfied: python-dateutil>=2.1 in /usr/local/lib/python3.7/dist-packages (from matplotlib->japanize-matplotlib) (2.8.2)\n",
      "Requirement already satisfied: numpy>=1.11 in /usr/local/lib/python3.7/dist-packages (from matplotlib->japanize-matplotlib) (1.19.5)\n",
      "Requirement already satisfied: pyparsing!=2.0.4,!=2.1.2,!=2.1.6,>=2.0.1 in /usr/local/lib/python3.7/dist-packages (from matplotlib->japanize-matplotlib) (3.0.6)\n",
      "Requirement already satisfied: kiwisolver>=1.0.1 in /usr/local/lib/python3.7/dist-packages (from matplotlib->japanize-matplotlib) (1.3.2)\n",
      "Requirement already satisfied: cycler>=0.10 in /usr/local/lib/python3.7/dist-packages (from matplotlib->japanize-matplotlib) (0.11.0)\n",
      "Requirement already satisfied: six>=1.5 in /usr/local/lib/python3.7/dist-packages (from python-dateutil>=2.1->matplotlib->japanize-matplotlib) (1.15.0)\n"
     ]
    }
   ],
   "source": [
    "import matplotlib.pyplot as plt\n",
    "!pip install japanize-matplotlib \n",
    "import japanize_matplotlib \n",
    "import matplotlib.dates as mdates"
   ]
  },
  {
   "cell_type": "code",
   "execution_count": null,
   "metadata": {
    "colab": {
     "base_uri": "https://localhost:8080/",
     "height": 205
    },
    "id": "_HnkKKiyxBuT",
    "outputId": "4908d995-9efd-4c91-b947-3a906b029a9d",
    "vscode": {
     "languageId": "python"
    }
   },
   "outputs": [
    {
     "data": {
      "image/png": "[encoded data removed]",
      "text/plain": [
       "<Figure size 2160x288 with 1 Axes>"
      ]
     },
     "metadata": {
      "filenames": {
       "image/png": "/Users/sotauu/Desktop/Lecture_DataScience/Lecture_DataScience_dotfiles/_build/jupyter_execute/notebooks/Python_chapter_WebScraping_48_0.png"
      },
      "needs_background": "light"
     },
     "output_type": "display_data"
    }
   ],
   "source": [
    "x = ndf[\"時間軸（月次）\"].values\n",
    "y = ndf[\"value\"].values.astype(float) * 1.e-2  # XX億円に換算\n",
    "\n",
    "fig = plt.figure(figsize=(30, 4))\n",
    "ax = fig.add_subplot(111)  \n",
    "ax.set_facecolor(\"#e0e0e0\")\n",
    "ax.set_ylabel(\"鉄道業の収益 [億円]\")\n",
    "ax.xaxis.set_major_locator(mdates.MonthLocator(bymonth=range(1, 13, 4)))\n",
    "ax.xaxis.set_major_formatter(mdates.DateFormatter(\"%Y/%m\"))\n",
    "ax.grid(True,axis=\"both\",color=\"w\", linestyle=\"dotted\", linewidth=0.8)\n",
    "ax.plot(x,y,marker=\"o\",color=\"green\")\n",
    "plt.show()\n",
    "plt.close()"
   ]
  },
  {
   "cell_type": "markdown",
   "metadata": {
    "id": "-bB9Upw_zg_K"
   },
   "source": [
    "新型コロナウイルスの感染拡大を受けて2020年の1月ごろから  \n",
    "緊急事態宣言の解除(5月25日)まで、大幅に収益が減っていることが分かる。\n",
    "\n",
    "\n",
    "\n",
    "---\n",
    "\n"
   ]
  },
  {
   "attachments": {},
   "cell_type": "markdown",
   "metadata": {
    "id": "Nq2fTnB_fEjF"
   },
   "source": [
    "### 備考\n",
    "\n",
    "あらかじめ興味のあるデータ,分類・属性等がわかっている場合は、  \n",
    "上記のコードの対応するIDなどを変更すればよいし  \n",
    "コードを拡張して、データ,分類・属性等の一覧表などを適宜表示しながら、  \n",
    "特定のキーワードを含むものに絞ってデータを取得したりもできる。\n",
    "\n",
    "ちなみに、GoogleColabで提供されているコードスニペット(テンプレートのようなもの)  \n",
    "を用いることで、プルダウンでデータ,分類・属性等を選んでプロットする、  \n",
    "といったようにGoogle Colab.上で自分だけのe-Stat分析ツールを作ることもできる  \n",
    "(最終課題で取り組むのも良い)\n"
   ]
  }
 ],
 "metadata": {
  "colab": {
   "collapsed_sections": [],
   "include_colab_link": true,
   "name": "Python_chapter_WebScraping.ipynb",
   "provenance": []
  },
  "kernelspec": {
   "display_name": "Python 3",
   "name": "python3"
  }
 },
 "nbformat": 4,
 "nbformat_minor": 0
}