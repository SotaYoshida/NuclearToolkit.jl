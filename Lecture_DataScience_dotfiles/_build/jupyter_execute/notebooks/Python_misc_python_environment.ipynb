{
 "cells": [
  {
   "cell_type": "markdown",
   "metadata": {
    "id": "xygiFz3F15TQ"
   },
   "source": [
    "# Pythonの環境構築\n",
    "\n",
    "**Windows11をお使いの方は[こちらのノートブック](https://colab.research.google.com/github/SotaYoshida/Lecture_DataScience/blob/main/notebooks/Python_misc_python_env_forWin11.ipynb)を参照してください**\n",
    "\n",
    "手元で作業がしたい、という方に向けて  \n",
    "ローカル環境にPythonを導入する方法をOSごとに紹介する。  \n",
    "\n",
    "難易度としてはLinux < Mac << (壁)<<  Windowsといった感じ(私見).\n",
    "\n",
    ":::{note}\n",
    "授業の受講者で環境構築を希望される方は、事前に相談することを強く推奨します。\n",
    "とくにWindowsの場合、作成者(吉田)はWindowsユーザーではないので幾つかの情報が古い恐れがあります。\n",
    ":::"
   ]
  },
  {
   "cell_type": "code",
   "execution_count": null,
   "metadata": {
    "id": "sq5ewMLVBX_D"
   },
   "outputs": [],
   "source": [
    "#動画貼り付け用\n",
    "from IPython.display import HTML\n",
    "from base64 import b64encode"
   ]
  },
  {
   "cell_type": "markdown",
   "metadata": {
    "id": "6Z6mR5y871Nj"
   },
   "source": [
    "## Windowsの場合\n",
    "\n",
    "\n"
   ]
  },
  {
   "cell_type": "markdown",
   "metadata": {
    "id": "EvTOzAC173gT"
   },
   "source": [
    "いくつかの方針が考えられる。\n",
    "\n",
    "1. Pythonのインストーラを用いてインストールする  \n",
    "    * メリット: Windows環境を汚さない, インストールが楽  \n",
    "    * デメリット: 他のプログラミング言語などへの拡張性が低い\n",
    "    \n",
    "2. Linux環境を構築する（**推奨**)\n",
    "    * 2-1.   Windows Subsystem for Linux(WSL)（**推奨**)  \n",
    "        * メリット: Windows環境を汚さない, Linuxシェル環境・パッケージマネージャ(Pythonに限らず各種インストールが楽)  \n",
    "        * デメリット: WSL特有の情報を調べる必要がある\n",
    "\n",
    "    * 2-2.  デュアルブート   \n",
    "        * メリット: Windowsとは別に好きなLinuxディストリビューションを共存させられる  \n",
    "        * デメリット: ディスク領域の分割などが必要\n",
    "        慣れないとデータを吹っ飛ばす危険あり  \n",
    "        (外部ストレージ等でのバックアップ必須です)\n",
    "\n",
    "    * 2-3. その他 (Docker環境など)\n",
    "\n",
    "        * このノートブックでは説明しない"
   ]
  },
  {
   "cell_type": "markdown",
   "metadata": {
    "id": "dSRDbGRtjOUq"
   },
   "source": [
    "### 1.の方法"
   ]
  },
  {
   "cell_type": "code",
   "execution_count": null,
   "metadata": {
    "colab": {
     "base_uri": "https://localhost:8080/",
     "height": 335
    },
    "id": "LlF9t8tRCl3-",
    "outputId": "9cc59d5f-7f78-4094-d7aa-6fdf370b53bc"
   },
   "outputs": [
    {
     "data": {
      "text/html": [
       "<iframe width=\"560\" height=\"315\" src=\"https://www.youtube.com/embed/z2_nNvpgonY\" frameborder=\"0\" allow=\"accelerometer; autoplay; clipboard-write; encrypted-media; gyroscope; picture-in-picture\" allowfullscreen></iframe>"
      ],
      "text/plain": [
       "<IPython.core.display.HTML object>"
      ]
     },
     "execution_count": 2,
     "metadata": {
      "tags": []
     },
     "output_type": "execute_result"
    }
   ],
   "source": [
    "HTML(r'<iframe width=\"560\" height=\"315\" src=\"https://www.youtube.com/embed/z2_nNvpgonY\" frameborder=\"0\" allow=\"accelerometer; autoplay; clipboard-write; encrypted-media; gyroscope; picture-in-picture\" allowfullscreen></iframe>')"
   ]
  },
  {
   "cell_type": "markdown",
   "metadata": {
    "id": "LxXDO1L1HSGZ"
   },
   "source": [
    "以下のA)B)いずれかの方法でストアを開き  \n",
    "Python3.8かPython3.9を選び[入手]する。\n",
    "\n",
    "A) Microsoft Storeを開き、pythonと検索する。\n",
    "\n",
    "B)コマンドプロンプト※を開き、pythonと入力してEnter→Storeが開く。  \n",
    "(※Win１０の左下にある検索バーにcmdと打つと出てくる)  \n",
    "B)の方法だとstore上で古いpythonが開くかもしれないので  \n",
    "検索バーから再度pythonと検索しよう。\n",
    "\n",
    "**インストールしたpythonの使い方**\n",
    "\n",
    "コマンドプロンプト上で\n",
    "```\n",
    "python\n",
    "```\n",
    "と実行すると対話モードでpythonが開く。  \n",
    "スタートメニューからpythonを起動しても同じ。\n",
    "\n",
    "\n",
    "\n",
    "```\n",
    "print(\"Hello World\")\n",
    "```\n",
    "や、\n",
    "```\n",
    "for i in range(5):\n",
    "    print(i)\n",
    "```\n",
    "などを実行してみよう。\n",
    "\n",
    "Python(対話モード)を終了する際はCtrl+Z(もしくはCtrl+Cを実行後にCtrl+Z)→Enterを押すか、\n",
    "```\n",
    "exit()\n",
    "```\n",
    "と入力しEnterを押せば良い。\n",
    "\n",
    "**Python用のライブラリをインストールする方法**\n",
    "\n",
    "コマンドプロンプト上で\n",
    "```\n",
    "pip install matplotlib\n",
    "pip install pandas\n",
    "pip install Selenium\n",
    "```\n",
    "などとする。\n",
    "\n",
    "**ソースファイルの編集と実行**\n",
    "\n",
    "対話モードだと、長い処理を実現するのには向いていないので、  \n",
    "作業をソースコードとしてファイルに書き出し、それを実行したくなる。  \n",
    "実行したい場合は、コマンドプロンプト上で\n",
    "```\n",
    "python hogehoge.py\n",
    "```\n",
    "などとすると```hogehoge.py```というファイルに書いた処理が実行される。\n",
    "\n",
    "例: デスクトップにあるソースコードを実行する場合\n",
    "\n",
    "```\n",
    "chdir Desktop　\n",
    "```\n",
    "などして、適宜カレント(現在いる)ディレクトリの変更をするか\n",
    "```\n",
    "python Desktop/hogehoge.py\n",
    "```\n",
    "など実行するソースの(相対 or 絶対)パスの指定が必要になる。"
   ]
  },
  {
   "cell_type": "markdown",
   "metadata": {
    "id": "rAlPquBCSVud"
   },
   "source": [
    "### 2-1. の方法"
   ]
  },
  {
   "cell_type": "markdown",
   "metadata": {
    "id": "jutP3oJrDq-1"
   },
   "source": [
    "Windowsの中にLinux(とくにUbuntu)を入れる方法\n",
    "\n",
    "[Windows11用の資料](https://colab.research.google.com/github/SotaYoshida/Lecture_DataScience/blob/2021/notebooks/Python_misc_python_env_forWin11.ipynb)も参考になります。"
   ]
  },
  {
   "cell_type": "code",
   "execution_count": null,
   "metadata": {
    "colab": {
     "base_uri": "https://localhost:8080/",
     "height": 335
    },
    "id": "9Es-IU7ZFaEq",
    "outputId": "b5ef62a9-2efd-4acf-d974-bc71b06cd521"
   },
   "outputs": [
    {
     "data": {
      "text/html": [
       "<iframe width=\"560\" height=\"315\" src=\"https://www.youtube.com/embed/deZTrWYk9vU\" frameborder=\"0\" allow=\"accelerometer; autoplay; clipboard-write; encrypted-media; gyroscope; picture-in-picture\" allowfullscreen></iframe>"
      ],
      "text/plain": [
       "<IPython.core.display.HTML object>"
      ]
     },
     "execution_count": 4,
     "metadata": {
      "tags": []
     },
     "output_type": "execute_result"
    }
   ],
   "source": [
    "HTML(r'<iframe width=\"560\" height=\"315\" src=\"https://www.youtube.com/embed/deZTrWYk9vU\" frameborder=\"0\" allow=\"accelerometer; autoplay; clipboard-write; encrypted-media; gyroscope; picture-in-picture\" allowfullscreen></iframe>')"
   ]
  },
  {
   "cell_type": "markdown",
   "metadata": {
    "id": "iKAHNa6LSatq"
   },
   "source": [
    "* **手順1.WSLの有効化**\n",
    "\n",
    "    コントロールパネルから[プログラム]->[Windowsの機能の有効化または無効化] を選択し  \n",
    "    「Windows Subsystem for Linux」にチェックを入れて有効化する(再起動が必要)\n",
    "\n",
    "* **手順2. Ubuntuのインストール**\n",
    "\n",
    "    Microsoft storeでUbuntuと検索し、1番目(単にUbuntuという名前のもの)か、  \n",
    "    あるいは20.04LTSをインストールする  \n",
    "    \n",
    "    ※Windows OSのアップデートをしばらく行っていない場合、入手ボタンが押せない。  \n",
    "    一般論として、OSのマイナーアップデートは都度行うようにしましょう。    \n",
    "    (メジャーアップデートは場合による...)\n",
    "\n",
    "* **手順3.Ubuntuの起動・初期設定**\n",
    "    \n",
    "    スタートメニューからUbuntuを起動する\n",
    "\n",
    "    * Enter new UNIX username: Linuxで使うユーザー名を入力する\n",
    "    * new password: パスワードを設定する\n",
    "    * Retype new password: 確認のため再入力する\n",
    "\n",
    "    これで、windows内にlinux環境が構築されます。\n",
    "\n",
    "* **手順4. aptのupdate/upgrade** \n",
    "\n",
    "    Ubuntuターミナルに以下を入力し実行\n",
    "    ```\n",
    "    $sudo apt update\n",
    "    $sudo apt upgrade\n",
    "    ```\n",
    "\n",
    "    注:上の```$```は皆さんが入力すべきものではなく、   \n",
    "    Ubuntuターミナルにある$を指し  \n",
    "    Pythonの対話モードなどで打ち込む場合と区別するための表記。\n",
    "\n",
    "    sudoはコマンドの頭につけることで管理者権限で実行する、という命令を意味します。  \n",
    "    実行時に、Ubuntu用に設定したパスワードが要求されます  \n",
    "    入力しても画面には表示されないので注意しながら打ち込んでEnterを押す。  \n",
    "    (間違っても再度入力を求めてくれますし、やめたければCtrl+C)\n",
    "    \n",
    "    aptはLinux(Debian系)のパッケージ管理システム  \n",
    "    ※PCの時刻設定がきちんと行われていないと、aptのupdate/upgradeに失敗します。\n",
    "\n",
    "   \n",
    "\n",
    "* **手順5. Pythonのインストール** \n",
    "\n",
    "    Ubuntuには初めからPython3系が含まれていますが、  \n",
    "    pythonの最新バージョンをpip込みでインストールしましょう。\n",
    "\n",
    "    ```\n",
    "    $sudo apt install python3-pip -y\n",
    "    ```\n",
    "    これでpython3.xの最新バージョンと、python用のパッケージマネージャpipがインストールされる\n",
    "\n",
    "* **手順6. ライブラリのインストール** \n",
    "\n",
    "    ライブラリ・モジュールをインストールしたければ\n",
    "    ```\n",
    "    $pip3 install matplotlib\n",
    "    $pip3 install pandas\n",
    "    $pip3 install Selenium\n",
    "    ```\n",
    "    などを実行する。\n"
   ]
  },
  {
   "cell_type": "markdown",
   "metadata": {
    "id": "qpMLRtznBk-F"
   },
   "source": [
    "### Windows環境のどこにLinuxのファイルが保存されるか"
   ]
  },
  {
   "cell_type": "markdown",
   "metadata": {
    "id": "m14aIZMayDK3"
   },
   "source": [
    "\n",
    "```C:\\Users\\XXX\\AppData\\Local\\Packages\\CanonicalGroupLimited.UbuntuonWindows_79rhkp1fndgsc\\LocalState\\rootfs```\n",
    "\n",
    "のXXX部分(や場合によってはドライブ部分C:)を皆さんの環境に置き換えたものが、  \n",
    "Windows内に構築されたLinuxのルートディレクトリ(最上位のディレクトリ)となります。  \n",
    "Ubuntuを開くと、rootfs以下のhomeディレクトリにログインした状態でターミナルが開きます。\n",
    "\n",
    "パスが上記と微妙に異なる場合は、  \n",
    "WindowsのユーザーフォルダからAppDataを開いて、  \n",
    "検索バーでUbuntuと検索すれば、  \n",
    "該当するディレクトリが見つけられるはずです。  \n",
    "(隠しフォルダを非表示にしていると見えないかも)\n",
    "\n",
    "\n",
    "Windows11の場合は適当なフォルダ(エクスプローラー)を開くと  \n",
    "左側にLinuxのペンギンマークがあるので、そこから参照できます。"
   ]
  },
  {
   "cell_type": "markdown",
   "metadata": {
    "id": "pf6D3K6nDMGz"
   },
   "source": [
    "### Linux側からWindows側のファイルにアクセスする"
   ]
  },
  {
   "cell_type": "markdown",
   "metadata": {
    "id": "1lD8ywRszRCM"
   },
   "source": [
    "WindowsのディスクはLinuxからみた```/mnt/```以下にマウントされている。  \n",
    "たとえば、```/mnt/c/Users/[ユーザー名]/Downloads```\n",
    "で、Windows側のダウンロードフォルダのパスを指定できる。\n",
    "\n",
    "OneDriveによるバックアップに含まれているフォルダは、  \n",
    "デフォルトパスから、OneDriveの下に変更されていることがあるので注意。\n",
    "\n",
    "(例: デスクトップはLinuxから見ると```/mnt/c/Users/[ユーザー名]/Desktop```のはずだが、  \n",
    "デスクトップフォルダがOneDriveのバックアップ対象になっていると、  \n",
    "```/mnt/c/Users/[ユーザー名]/OneDrive/Desktop```などと変更されてしまうので注意。)"
   ]
  },
  {
   "cell_type": "markdown",
   "metadata": {
    "id": "2SNhn1kXHiRh"
   },
   "source": [
    "### WSLのバージョン確認と更新\n",
    "\n",
    "Windows10を使っていてMS Storeから導入した方で  \n",
    "GUIを伴う処理を行いたい場合、WSLのバージョンを2にする必要がある。\n",
    "\n",
    "以下の手順でバージョンを確認し、必要なら更新しよう\n",
    "\n",
    "1. スタートメニューからWindows PowerShellを開く\n",
    "\n",
    "2.  PowerShell上で下記のコマンドを入力し、バージョンを確認する\n",
    "    ```\n",
    "    > wsl --list --verbose\n",
    "    ```\n",
    "    出力結果をみてUbuntuのVERSIONが1になっている場合  \n",
    "    更新を行おう\n",
    "    <img src=\"https://drive.google.com/uc?export=view&id=15oq0ajSHdUgGQli6aN4fX6sOoZ-qsjuC\" width=30%>\n",
    "\n",
    "3. 更新のための前準備として、https://aka.ms/wsl2kernel\n",
    "    にアクセスし  \n",
    "    x64 マシン用 WSL2 Linux カーネル更新プログラム パッケージをダウンロードする。  \n",
    "    ダウンロードが終わったらパッケージを起動して、案内にしたがって実行する\n",
    "\n",
    "4.  PowerShellに戻り、\n",
    "    ```\n",
    "    wsl --set-version Ubuntu 2\n",
    "    ```\n",
    "    を実行しwslのバージョンを2に変更する(そこそこ時間がかかる)\n",
    "\n",
    "    <img src=\"https://drive.google.com/uc?export=view&id=1c0IgD0x2-m8eG7ZRUiceyJC1IfOqc-7m\" width=30%>\n",
    "\n"
   ]
  },
  {
   "cell_type": "markdown",
   "metadata": {
    "id": "LUePSAzjio_g"
   },
   "source": [
    "### WSL環境でMatplotlibのshow()などを使う\n",
    "\n",
    "\n",
    "WSL(今はUbuntu)では、そのままでplt.show()などの  \n",
    "ウィンドウを開くような操作が使えない。\n",
    "\n",
    "その場合はx11とtkinterを含むpython3をインストールしよう\n",
    "```\n",
    "$ sudo apt update\n",
    "$ sudo apt upgrde\n",
    "$ sudo apt install language-pack-ja\n",
    "$ sudo apt install x11-apps\n",
    "$ sudo apt install python3-tk\n",
    "```\n",
    "\n",
    "\n",
    "さらにXサーバ(以下ではVcXsrvを選びます)をインストールする:\n",
    "\n",
    "1. https://sourceforge.net/projects/vcxsrv/\n",
    "   からDownload\n",
    "\n",
    "2. ダウンロードしたものを実行\n",
    "\n",
    "    (デスクトップショートカットは無くても良い)\n",
    "    <img src=\"https://drive.google.com/uc?export=view&id=1HOx0QNZLmRGERt9ZZLFUGa65d0MwPeNe\" width=20%>\n",
    "\n",
    "\n",
    "3. スタートメニューからXLaunchを実行\n",
    "\n",
    "     <img src=\"https://drive.google.com/uc?export=view&id=1dw6VgF0mqkFOXuN3yZtxXC2Gya8qK4zb\" width=20%>\n",
    "\n",
    "    道なりに進んでAdditional parameters for VcXsrvの欄に-acを入力し進む\n",
    "\n",
    "4. \"Save Configuration\"を選択してショートカットを作成することで、次回以降同様の作業をしなくても良いようにできる\n",
    "\n",
    "\n",
    "```\n",
    "$xlogo\n",
    "```\n",
    "を実行するか、Pythonの対話環境の中で\n",
    "```\n",
    "import matplotlib.pyplot as plt\n",
    "fig = plt.figure()\n",
    "plt.show()\n",
    "```\n",
    "などとやってウィンドウが表示されればOK.\n",
    "\n",
    "\n",
    "<img src=\"https://drive.google.com/uc?export=view&id=1HZJ9Pgu6AX-fJpWgZRqMt4reTZ7HDoKq\" width=20%>\n",
    "\n",
    "<img src=\"https://drive.google.com/uc?export=view&id=15oq0ajSHdUgGQli6aN4fX6sOoZ-qsjuC\" width=30%>\n",
    "\n"
   ]
  },
  {
   "cell_type": "markdown",
   "metadata": {
    "id": "h2K-l3Iu0vHS"
   },
   "source": [
    "### 2-2.の方法"
   ]
  },
  {
   "cell_type": "markdown",
   "metadata": {
    "id": "5th6Q2I90yXC"
   },
   "source": [
    "バックアップや起動ディスク等の知識なくデュアルブート環境を構築しようとすると  \n",
    "最悪の場合すべてのデータを失いますので、こちらを選ぶ場合は予め相談してください。\n",
    "\n",
    "Linux環境を構築をすれば、あとはLinuxを起動し、以下のLinuxの場合の手順に従うだけ。\n",
    "\n"
   ]
  },
  {
   "cell_type": "markdown",
   "metadata": {
    "id": "c17cT0gy2fwF"
   },
   "source": [
    "## Macの場合"
   ]
  },
  {
   "cell_type": "code",
   "execution_count": null,
   "metadata": {
    "colab": {
     "base_uri": "https://localhost:8080/",
     "height": 335
    },
    "id": "-0EaMODUBA0a",
    "outputId": "d71eaf40-8fb9-447f-bca7-be2f2f9dec99"
   },
   "outputs": [
    {
     "data": {
      "text/html": [
       "<iframe width=\"560\" height=\"315\" src=\"https://www.youtube.com/embed/X2FMQYpXtGY\" frameborder=\"0\" allow=\"accelerometer; autoplay; clipboard-write; encrypted-media; gyroscope; picture-in-picture\" allowfullscreen></iframe>"
      ],
      "text/plain": [
       "<IPython.core.display.HTML object>"
      ]
     },
     "execution_count": 1,
     "metadata": {
      "tags": []
     },
     "output_type": "execute_result"
    }
   ],
   "source": [
    "HTML(r'<iframe width=\"560\" height=\"315\" src=\"https://www.youtube.com/embed/X2FMQYpXtGY\" frameborder=\"0\" allow=\"accelerometer; autoplay; clipboard-write; encrypted-media; gyroscope; picture-in-picture\" allowfullscreen></iframe>')"
   ]
  },
  {
   "cell_type": "markdown",
   "metadata": {
    "id": "HMrb9so42ihm"
   },
   "source": [
    "python2.xやpython3.x (xは購入機種・時期によって違う)が元々入っている。  \n",
    "\n",
    "Launchpadにある[その他]から**ターミナル**を開き、  \n",
    "```python```と入力し、タブキーを2回押すと該当するものが表示される。  \n",
    "以下は一例:\n",
    "```\n",
    "python             python2            python2.7-config   python3-config     python3.7-config   python3.7m-config  pythonw            \n",
    "python-config      python2.7          python3            python3.7          python3.7m         pythontex          pythonw2.7 \n",
    "```\n",
    "\n",
    "python3がある場合は、\n",
    "```$python3```\n",
    "と入力しエンターを押すと、pythonの対話モード(インタラクティブモードとも)が開く※。\n",
    "\n",
    "\n",
    "※初回起動時はXcodeの導入が必要かもしれない  \n",
    "その場合は、ターミナルに\n",
    "```\n",
    "xcode-select --install\n",
    "```\n",
    "を打ち込みインストール作業を行う。  \n",
    "Xcodeのサイズがでかいので安定したネットワーク下で実行すること.\n",
    "\n",
    "Python(対話モード)が起動できたら\n",
    "```\n",
    "print(\"Hello World\")\n",
    "```\n",
    "などと打って、エンターを押すと、文字列```\"Hello World\"```が表示されるので試してみよう。\n",
    "\n",
    "\n",
    "\n",
    "pythonの最新のバージョンやその他色々なものを導入したければ  \n",
    "今後のことも考えてMacにHomebrewと呼ばれるパッケージマネージャを導入しよう。\n",
    "[参考](https://qiita.com/zaburo/items/29fe23c1ceb6056109fd)\n",
    "\n",
    "Homebrewが導入できたら、\n",
    "\n",
    "```\n",
    "brew update\n",
    "brew upgrade\n",
    "brew upgrade python3\n",
    "```\n",
    "と順にターミナルで実行する(暫く掛かるかも).   \n",
    "\n",
    "※python3がもともとない場合は、3つめのものを　\n",
    "```\n",
    "brew install python3\n",
    "```\n",
    "などと置き換える。\n",
    "\n",
    "インストールに成功すれば、python用のパッケージマネージャ(pip)も使えるようになるはず。  \n",
    "以後は\n",
    "```\n",
    "pip install matplotlib\n",
    "pip install pandas\n",
    "```\n",
    "などとすると、python用のモジュールがインストールされ、  \n",
    "pythonからいつでもインポートして使うことができる。\n"
   ]
  },
  {
   "cell_type": "markdown",
   "metadata": {
    "id": "JBnG_Zeapnc5"
   },
   "source": [
    "MacにDocker環境を入れておけば、```apt```で色々揃うので、レガシーコードの動作確認等にも役に立つ。\n",
    "\n",
    "M1以降のApple制のCPUを搭載している場合、Pythonのパッケージ管理やDockerの導入などはやや難易度が上がる。\n",
    "(※英語で調べれば必要な情報は出てくる)"
   ]
  },
  {
   "cell_type": "markdown",
   "metadata": {
    "id": "OtjKhaH451we"
   },
   "source": [
    "## Linuxの場合"
   ]
  },
  {
   "cell_type": "markdown",
   "metadata": {
    "id": "0rZweyH-53og"
   },
   "source": [
    "Linuxを使っている人が、pythonのインストールができないとは思いにくいが...  \n",
    "\n",
    "ターミナルから\n",
    "```\n",
    "$sudo apt update -y\n",
    "$sudo apt upgrade -y\n",
    "$sudo apt dist-upgrade -y\n",
    "$sudo apt autoremove -y\n",
    "```\n",
    "などを実行しパッケージマネージャのアップデート等を行った後  \n",
    "python3系がない場合は\n",
    "```\n",
    "$sudo apt install python3\n",
    "```\n",
    "ある場合は\n",
    "```\n",
    "$sudo apt upgrade python3\n",
    "```\n",
    "などを実行すればよい。\n",
    "\n",
    "pipがない場合、\n",
    "```\n",
    "$sudo apt install python3-pip\n",
    "```\n",
    "を実行する。"
   ]
  },
  {
   "cell_type": "markdown",
   "metadata": {
    "id": "N4vEf_Av9hjN"
   },
   "source": [
    "# Linux/Unix ターミナルの操作"
   ]
  },
  {
   "cell_type": "markdown",
   "metadata": {
    "id": "3uyugO029lsM"
   },
   "source": [
    "Linux(WSL)やUnix(Mac)のCUI環境で必要な基本的な操作をまとめる\n",
    "\n",
    "* Ctrl+C: 入力内容の消去・実行中の作業の中断\n",
    "* Ctrl+D: ターミナル(タブ)を閉じる (Pythonの対話モードから出るときにも使う)\n",
    "* Tab: 入力を補完してくれる\n",
    "* *(半角アスタリスク): ワイルドカード記号\n",
    "\n",
    "基本的なコマンド\n",
    "* ```cd``` \"現在地\"を変更する\n",
    "```\n",
    "$cd ./Desktop \n",
    "$cd ../ \n",
    "$cd ~\n",
    "$cd -\n",
    "```\n",
    "1つめはhomeディレクトリからデスクトップ(があれば)移動  \n",
    "2つめは1つ上の階層に移動する  \n",
    "3つめはホームディレクトリに移動  \n",
    "4つめは直前にいたディレクトリに移動\n",
    "\n",
    "* ```ls``` ファイルやディレクトリなどを表示する.\n",
    "```\n",
    "$ls \n",
    "$ls ../*.txt\n",
    "$ls Picutures/pic_*.png\n",
    "``` \n",
    "1つめは現在いるディレクトリ以下のファイル等を表示  \n",
    "2つめは現在いるディレクトリの１つ上の階層にある.txt拡張子の全ファイルを表示  \n",
    "3つめは現在ホームディレクトリにいると仮定して、その直下にあるPictures以下にあるpngファイルのうち、冒頭が```pic_```のものを全て表示\n",
    "\n",
    "* mv　ファイル・ディレクトリの移動・リネーム\n",
    "\n",
    "    ```\n",
    "    $mv aa.txt ~/Desktop\n",
    "    $mv bb.txt ../AdDS/cc.txt\n",
    "    ```\n",
    "    1つめ: カレントディレクトリにあるaa.txtというファイルをデスクトップに移動  \n",
    "    2つめ: bb.txtを一つ上の階層にあるAdDSというディレクトリに移動し、cc.txtとリネームする。  \n",
    "    \n",
    "    ワイルドカード*で複数ファイルを一気に移動させることもできる。ディレクトリの場合も同様。    \n",
    "\n",
    "\n",
    "* mkdir ディレクトリを作る\n",
    "``` \n",
    "$mkdir Desktop/AdDS2021\n",
    "```\n",
    "\n",
    "* rm ファイルやディレクトリを削除する\n",
    "```\n",
    "$rm ./Desktop/report1.txt\n",
    "```\n",
    "ディレクトリを消すときは-rオプションが必要\n",
    "```\n",
    "$rm -r ./Desktop/AdDS2021\n",
    "```\n",
    "    **rmコマンドで削除したものはゴミ箱に入れられずに削除されるので注意** \n",
    "    特にワイルドカードを使って全て削除してしまうとバックアップを取っていないと復元は困難だし、誰も責任をとってくれない。\n",
    "    (rmコマンドにエイリアスを貼って、ゴミ箱を経由する命令に置き換えたりrmtrash(や類似のもの)を使用するのがオススメ)\n",
    "\n",
    "* grep 検索\n",
    "``` \n",
    "$grep \"Hello World\" Desktop/AdDS2021/*py\n",
    "```\n",
    "\n",
    "\n",
    "**タブ補完**\n",
    "\n",
    "Linux/Unixターミナルでは、タブによる入力補完が使えますので  \n",
    "ぜひ多用してください。\n",
    "\n",
    "ちなみに今Desktopにいて、そこに  \n",
    "```AdDS2019, AdDS2020, AdDS2021```\n",
    "というディレクトリがあり、  \n",
    "最初のものに移動したいとします。\n",
    "こんなとき、いちいち\n",
    "```\n",
    "$cd AdDS2019\n",
    "```\n",
    "と打つのは面倒だし、打ち間違えたりします。\n",
    "```\n",
    "$cd Ad\n",
    "```\n",
    "と打った時点でタブをポンポンと叩くと、    \n",
    "Desktopに上記のフォルダ以外の\"Ad\"を含むディレクトリがなければ  \n",
    "```AdDS20```まで入力が補完され、  \n",
    "該当する候補(上の全てのディレクトリ)がターミナル上で表示されます。  \n",
    "その後1を打って再びタブを叩くと、該当するものは一つですので  \n",
    "(ambiguityがなくなった時点で)最後まで入力が補完されます。\n",
    "\n",
    "\n",
    "ちなみにPython側からLinuxのコマンドを実行したければ  \n",
    "```\n",
    "import os\n",
    "os.system(\"ls *.txt\")\n",
    "```\n",
    "などとすれば良い。"
   ]
  },
  {
   "cell_type": "markdown",
   "metadata": {
    "id": "-59SkHdxcbdW"
   },
   "source": [
    "## Linuxのホームディレクトリの変更\n",
    "\n"
   ]
  },
  {
   "cell_type": "markdown",
   "metadata": {
    "id": "Cr8gjvHLcf_0"
   },
   "source": [
    "WSLを使用する際、Windows側から見るとLinux(Ubuntu)は```C:\\Users\\username\\AppData\\Local\\Packages\\CanonicalGroupLimited.UbuntuonWindows_79rhkp1fndgsc\\LocalState\\rootfs```  \n",
    "といった階層に入っている。\n",
    "\n",
    "Ubuntuを起動した際に開くターミナルの\"位置\"(これをホームディレクトリと呼ぶ)は、  \n",
    "上記のルートディレクトリ(rootfs)直下にあるhomeである。  \n",
    "\n",
    "たとえばWindows側のホームディレクトリ ```C:\\Users\\[username]```以下に  \n",
    "適当なディレクトリを作って、それをUbuntuのログイン(ホーム)ディレクトリとして設定することも出来る。\n",
    "\n",
    "※ 以下の操作では、emacsやvi(m)などのエディタに慣れていないうちは  \n",
    "システムファイルに余計な文字を書き込んでしまう危険性があるので  \n",
    "エディタの使い方を調べてから実行するなど、注意が必要です。  \n",
    "(不安な場合はZoomで画面を共有しながら一緒にやりましょう)\n",
    "\n",
    "ホームディレクトリの変更方法は、  \n",
    "1. Ubuntuターミナルから、管理者権限で```/etc/passwd```を開く  \n",
    "たとえば、emacsが入っていれば\n",
    "```\n",
    "$sudo emacs /etc/passwd\n",
    "```\n",
    "なければ\n",
    "```\n",
    "$sudo vim /etc/passwd\n",
    "```\n",
    "でファイルを開きます。\n",
    "\n",
    "\n",
    "2. どこかに\n",
    "```\n",
    "Ubuntuユーザ名:x:1000:1000:\"\",,,:/home/ユーザ名:/bin/bash\n",
    "```\n",
    "といった欄があるので```/home/ユーザー名```部分を、  \n",
    "Windows側に作成しておいた新しくLinuxのホームディレクトリとしたいディレクトリの  \n",
    "パスに置き換えて、passwdを上書き保存し、閉じる。\n",
    "\n",
    "* Emacsの場合 編集は簡単. Ctrl+X -> Ctrl +Sを押して上書き保存. Ctrl+X->Ctrl+Cで閉じる.\n",
    "* vimの場合 iを押すとインサートモードに入り編集可能に. 編集モードから抜けるのはEsc. ```:wq```で保存して終了\n",
    "\n",
    "3. Ubuntuを再起動し、エラー等が表示されず、  \n",
    "```pwd```コマンドで現在地を確認して設定したディレクトリになっているか確認しましょう。\n",
    "\n",
    "4. もともとのホームディレクトリにあった```.bashrc```(エイリアスなどの情報を書くファイル)を\n",
    "新しいホームディレクトリに移動させれば完了です。\n",
    "```\n",
    "$cp -r /home/[user name]/.*  ~/\n",
    "```\n"
   ]
  },
  {
   "cell_type": "markdown",
   "metadata": {},
   "source": [
    "### 隠しファイル/隠しフォルダ(dot files)について\n",
    "\n",
    "Linuxでは、ファイル名の先頭に```.```がついているものは隠しファイルと呼ばれ、通常の`ls`コマンドなどの表示対象外となる。\n",
    "隠しファイルを表示するには、`ls`コマンドに`-a`オプションをつければよい。\n",
    "\n",
    "とくに、ホームディレクトリには、特定のアプリケーションの設定ファイルなどが隠しファイルとして保存されていることが多く、\n",
    "数値計算ライブラリの開発や使用、ソースコードの編集・実行などの際には、隠しファイルを扱うこともある。\n",
    "\n",
    "これら隠しファイルや隠しフォルダは、dot filesと呼ばれることもあり、\n",
    "新しい端末を購入したときの設定ファイルの移行などにも使われる。\n",
    "\n",
    "特に複数台の端末を使用している人などは、GitHubなどのリポジトリに自身のdot filesをアップロードしておき、\n",
    "新しい端末を購入した際には、そのリポジトリからdot filesをダウンロードして使用することで、\n",
    "移行をスムーズにしているようである(私は割とイチから設定するのが好きだったりします)。\n",
    "\n",
    "\n",
    "以下では、代表的なものを少し紹介しておく:\n",
    "\n",
    "**.bashrc** : bashの設定ファイル \n",
    "\n",
    "エイリアスの設定などを書くことができる. エイリアスとは、例えばコマンドでpythonを使う際、いちいち`python`とか`python3.9`などを\n",
    "指定しなくてもお目当てのpython環境を使用できるようにするためのもの. 例えば、.bashrcに\n",
    "```\n",
    "alias py=python3.9\n",
    "```\n",
    "などと書いておけば、`py`と打つだけでpython3.9が起動/使用できるようになる.\n",
    "\n",
    "注意としては\n",
    "1. 使用しているシェルによって、設定ファイルの名前が異なることがある. 例えば、bashの場合は`.bashrc`だが、zshの場合は`.zshrc`となる.\n",
    "2. 設定ファイルを変更した場合は、`source`コマンドを実行することで、変更を反映させる必要がある. 例えば、`.bashrc`を変更した場合は、\n",
    "```\n",
    "$source ~/.bashrc\n",
    "```\n",
    "とするか、ターミナルを再起動する必要がある.\n",
    "\n",
    "**エディタの設定ファイル**\n",
    "\n",
    "CUI/GUIを問わず、エディタの設定ファイルもホームディレクトリ直下の隠しディレクトリとして保存されることが多い.\n",
    "\n",
    "例えば私の環境だと、`~/.emacs`,`~/.vim`,`~/.vscode`,`~/.atom`など、今は使っていないものも含めて、\n",
    "エディタの設定ファイルが保存されている。\n",
    "\n",
    "**sshの設定ファイル**\n",
    "\n",
    "SSHとは、スーパーサイエンスハイスクール...ではなく、Secure Shellの略で、ネットワーク上で安全にリモートコンピュータにログインしたり、\n",
    "ファイルを転送したりするためのプロトコルである。\n",
    "\n",
    "例えば研究室内に置かれたワークステーションやスパコンなど別の環境にログインして重い計算を回す、といったときには基本的にはssh公開鍵認証を用いてローカル環境からリモート環境にログインすることになるが、\n",
    "その際に使用する鍵や、リモート環境へのログインに必要な情報などが、ホームディレクトリ直下の隠しディレクトリ`~/.ssh`に保存される。\n",
    "\n",
    "例えば、(sshを使ったことがある場合は)`~/.ssh/config`に、接続先のホスト名やポート番号などが記載されたり、\n",
    "逆にリモート側では、`~/.ssh/authorized_keys`に、接続を許可する公開鍵が記載されていたりする。\n",
    "\n",
    "なお、公開鍵認証とは、リモート環境にログインする際に、公開鍵と秘密鍵のペアを用いて認証を行う方式で、\n",
    "秘密鍵はローカル環境に、公開鍵はリモート環境に置いておくことで、安全にログインを行うことができるものである。\n",
    "秘密鍵の取り扱いに注意が必要であることは言うまでもない。\n",
    "\n"
   ]
  },
  {
   "cell_type": "markdown",
   "metadata": {},
   "source": []
  }
 ],
 "metadata": {
  "colab": {
   "collapsed_sections": [
    "dSRDbGRtjOUq",
    "rAlPquBCSVud",
    "h2K-l3Iu0vHS",
    "c17cT0gy2fwF",
    "OtjKhaH451we",
    "N4vEf_Av9hjN"
   ],
   "include_colab_link": true,
   "name": "Python_misc_python_environment.ipynb",
   "provenance": []
  },
  "kernelspec": {
   "display_name": "Python 3.9.13 64-bit",
   "language": "python",
   "name": "python3"
  },
  "language_info": {
   "name": "python",
   "version": "3.9.13"
  },
  "vscode": {
   "interpreter": {
    "hash": "aee8b7b246df8f9039afb4144a1f6fd8d2ca17a180786b69acc140d282b71a49"
   }
  }
 },
 "nbformat": 4,
 "nbformat_minor": 0
}