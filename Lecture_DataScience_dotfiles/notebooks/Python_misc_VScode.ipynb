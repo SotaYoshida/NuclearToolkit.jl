{
  "cells": [
    {
      "cell_type": "markdown",
      "metadata": {
        "id": "xygiFz3F15TQ"
      },
      "source": [
        "# コードの編集環境とGitHub Copilot\n",
        "\n",
        "この章では、Pythonを始め様々なプログラミング言語のソースコードを編集するための環境として、VS Codeを紹介する。  \n",
        "また、GitHub Copilotという、大規模言語モデルを使ったコード補完ツールを紹介する。\n",
        "\n",
        ":::{note}\n",
        "他のノートブックと同様に、Macユーザーは`Ctrl`を適宜`Command`に置き換えて読んでほしい。\n",
        ":::\n",
        "\n",
        "免責事項として、本章の記述は2023年7月時点のもの(著者の理解)であり、アップデート等によって内容が不正確となる可能性があることを予めご了承いただきたい。  \n",
        "また、一般論として、環境構築に伴うエラーの解決は、使用環境,バージョンや設定などに依存するため、本章の記述をそのまま適用できない場合があること、\n",
        "インストール等に関する種々のトラブルについて著者は責任を負わないこともあわせてご了承いただきたい。  \n",
        "これも一般論だが、OSに備わっているバックアップ機能(Windows バックアップ, TimeMachine)などで、常時バックアップは取るようにしよう。"
      ]
    },
    {
      "cell_type": "markdown",
      "metadata": {
        "id": "EvTOzAC173gT"
      },
      "source": [
        "## Visual Studio Code (VS Code)の導入\n",
        "\n",
        "エディタは様々なものがあるが、VS Codeは機能が豊富かつユーザー数が多い(=情報も豊富な)ため、最もオススメしやすいエディタである。  \n",
        "とくに拡張機能が便利で、言語ごとに様々な拡張機能が用意されている。著者も紆余曲折ありVS Codeを95%位の割合でメインエディタとして使っている。\n",
        "\n",
        "### インストール方法\n",
        "\n",
        "1. VScodeのインストールは、[公式サイト](https://code.visualstudio.com/)またはOS毎のStore系のソフト(Microsoft Store, Mac App Store)からインストールする。\n",
        "2. インストール後、VScodeを起動すると、日本語化を促されるので、必要であれば指示に従う。\n",
        "3. 初めてPythonのコードをVS Codeで作成/開く際に、拡張機能のインストールを促されるかもしれない。その時は、インストールを許可しよう。\n",
        "4. その他、必要に応じて拡張機能を導入したり、フォントを変更したりすると良い。表示サイズなどはショートカットで拡大(`Ctrl`+`+`)・縮小(`Ctrl`+`-`)できる。\n",
        "\n",
        "#### Windows+WSLの導入例\n",
        "\n",
        "著者はWindowsユーザーではないので、情報が古い可能性があるがご容赦頂きたい。\n",
        "\n",
        "1. Storeまたは[Webページ](https://azure.microsoft.com/ja-jp/products/visual-studio-code/)からインストールする\n",
        "\n",
        "             \n",
        "   <img src=\"https://github.com/SotaYoshida/Lecture_DataScience/blob/main/notebooks/pic_for_notebook/pic_vscode_1.png?raw=true\" width=30%>\n",
        "\n",
        "2.  起動すると、日本語化を提案してくれるので日本語で使いたければ、インストールして再起動をクリック\n",
        "\n",
        "   <img src=\"https://github.com/SotaYoshida/Lecture_DataScience/blob/main/notebooks/pic_for_notebook/pic_vscode_2.png?raw=true\" width=30%>\n",
        "\n",
        "3. ターミナルから新しいターミナルを開くと規定のターミナルが開く(Windowsの場合だとpowershell?)\n",
        "   ∨記号から、Ubuntu(WSL)を選択すると、Ubuntu(Linux)ターミナルを起動することが出来る\n",
        "\n",
        "   <img src=\"https://github.com/SotaYoshida/Lecture_DataScience/blob/main/notebooks/pic_for_notebook/pic_vscode_3.png?raw=true\" width=20%>\n",
        "\n",
        "   <img src=\"https://github.com/SotaYoshida/Lecture_DataScience/blob/main/notebooks/pic_for_notebook/pic_vscode_4.png?raw=true\" width=30%>\n",
        "   <img src=\"https://github.com/SotaYoshida/Lecture_DataScience/blob/main/notebooks/pic_for_notebook/pic_vscode_5.png?raw=true\" width=30%>\n",
        "\n",
        "\n",
        "### Pythonコードの編集\n",
        "\n",
        "1. 適当なPythonファイルを作成してみよう。[ファイル]→[新しいファイル]で新規ファイルを作成する。  \n",
        "   その際**ファイルの種類を入力するか、ファイル名を入力してください**などという表示がでるのでpythonと打ち、Pythonファイルを作成する。  \n",
        "   Untitled-1などというファイルが作成されるので、`Ctrl+S`で保存しようとすると、ファイル名を入力するように促される。  \n",
        "   その際、適当な名前をつけてみよう。例えば`sample_code.py`などとする。\n",
        "2. ファイルを編集したら、保存(`Ctrl+S`)しよう。編集内容が残っている場合は(標準では)ファイル名の横に丸◯が表示されるので、わかりやすい。\n",
        "   Pythonコードだけでなく、様々なファイルを編集したり閲覧したりすることができるので試してみよう。(例: pdfファイルをVS Codeにドラッグ&ドロップしてみよう)\n",
        "3. 拡張子に応じて、なんのプログラミング言語で書かれたソースコードなのかを推定して、色分けしてくれたりする。\n",
        "4. また、VS Codeでは、\"フォルダを開く\"ことで複数のソースコードを効率的に編集したりすることもできる。\n",
        "\n",
        "\n",
        "### ターミナルの起動\n",
        "\n",
        "VS Codeでは、ターミナルをVS Code内で起動することができる。  \n",
        "[ターミナル]タブから新しいターミナル(規定のターミナル)を起動することができ、画面の上下や左右などに分割して表示することができる。  \n",
        "したがって、ソースコードを編集しながら実行したりといった作業がしやすい。\n",
        "\n",
        "Windowsの場合は、WSL(Windows Subsystem for Linux)をインストールしておくと、Linuxのターミナルを使うことができる。  \n",
        "MacやLinuxの場合は言うまでもなく、規定のターミナルが開くので、Unix/Linuxコマンドを使えば良い。\n",
        "\n",
        "よく使うLinuxコマンドを下記の表にまとめる:\n",
        "\n",
        "|コマンド|説明|\n",
        "|:--|:--|\n",
        "|`ls`|カレントディレクトリのファイル一覧を表示する|\n",
        "|`cd`|ディレクトリを移動する|\n",
        "|`pwd`|カレントディレクトリのパスを表示する|\n",
        "|`mkdir`|ディレクトリを作成する|\n",
        "|`rm`|ファイルを削除する(ゴミ箱を経由しないので使用には注意すること)|\n",
        "|`cp`|ファイルをコピーする|\n",
        "|`mv`|ファイルを移動する|\n",
        "|`cat`|ファイルの中身を表示する|\n",
        "|`head`|ファイルの先頭を表示する|\n",
        "|`tail`|ファイルの末尾を表示する|\n",
        "|`grep`|ファイルの中から文字列を検索する|\n",
        "|`echo`|文字列を表示する|\n",
        "|`chmod`|ファイルのアクセス権を変更する|\n",
        "|`sudo`|root権限でコマンドを実行する|\n",
        "\n",
        "それぞれのコマンドの使い方やオプションについては網羅的に説明することはしないので、適宜調べて使い方を覚えてほしい。  \n",
        "Chat GPTなどに尋ねてみるのも良い。\n",
        "\n",
        "ターミナルからPythonコードを実行する際は、\n",
        "\n",
        "1. `python`コマンドでPythonの対話環境を起動して使う\n",
        "2. `python`コマンドに続けてファイル名を入力し、そのファイルを実行する\n",
        "\n",
        "の２つの方法がある。最初は1の方法でも良いが、コードで実現したい作業が大きくなるにつれ、\n",
        "作成したソースコードを後者の方法で実行することが多くなるはずだ。\n",
        "\n",
        "```bash\n",
        "python sample_code.py\n",
        "```\n",
        "\n",
        "※システムによっては`python3`などとバージョンを明示的に指定しないといけない場合もあるので注意すること。  \n",
        "Pythonをコマンドラインで使う際に毎回`python`などと入力するのが面倒なら、\n",
        "エイリアスを設定して別ののコマンド(著者は`py`としている)に置き換えてしまうのも良い。\n",
        "\n",
        "(Linuxコマンドやシェルについての知識が少しだけ必要になるが)詳しい方法については「python コマンド エイリアス」などで検索してみよう。\n"
      ]
    },
    {
      "cell_type": "markdown",
      "metadata": {},
      "source": [
        "## 授業資料(.ipynb)をVS codeで実行・編集する\n",
        "\n",
        "VS Codeを使うと、ローカル環境で.ipynbファイルを実行・編集することができる。\n",
        "著者も、この授業資料の作成にはVS Codeを使っている。\n",
        "\n",
        "以下で紹介するGitHub Copilotとの相性も良いので、今後プログラミング学習を継続するつもりだ、という方は、\n",
        "VS Codeでの.ipynbファイルの実行・編集も是非やってみてほしい。\n",
        "\n",
        "### 授業資料のダウンロード方法\n",
        "\n",
        "本授業資料の.ipynbファイルは、GitHubのレポジトリかBookの各ページからダウンロードすることができる。\n",
        "\n",
        "* 方法1: GitHubの[レポジトリ](https://github.com/SotaYoshida/Lecture_DataScience)からダウンロードする.\n",
        "  `<>Code`という緑色のボタンをクリックし、`Download ZIP`をクリックすると、全てのファイルをダウンロードできる。\n",
        "  展開したフォルダ内の`notebooks`というディレクトリが、本授業資料の.ipynbファイルがある場所である。\n",
        "  \n",
        "  <img src=\"https://github.com/SotaYoshida/Lecture_DataScience/blob/main/notebooks/pic_for_notebook/download_repozip.png?raw=true\" width=30%>\n",
        "\n",
        "* 方法2: Bookの各ページからダウンロードする. ブックの各章の上部にダウンロードボタン(下向き矢印)があるので、そこから`.ipynb`形式を選択し、ダウンロードすれば良い。\n",
        "  \n",
        "\n",
        "### ipynb形式のファイルをVS Codeで開く&実行する\n",
        "\n",
        "実行には当然Python環境が必要なので、インストール済みであるとする。\n",
        "\n",
        "1. ターミナルから  \n",
        "\n",
        "    ```bash\n",
        "    pip3 install jupyter\n",
        "    ```\n",
        "    などとして、Jupyterをインストールしておく。\n",
        "2. VS Codeを起動し、ダウンロードした`ipynb`ファイルを開く。\n",
        "3. コードセルを実行するには、`Shift+Enter`を押す。または、コードセルの左側にある`▶︎`をクリックする。このとき、複数のPython環境がインストールされている場合は、どのPython環境で実行するかを選択する必要がある。\n",
        "4. コードセルの実行結果が表示される。\n"
      ]
    },
    {
      "cell_type": "markdown",
      "metadata": {},
      "source": [
        "## GitHub Copilot\n",
        "\n",
        "GitHub Copilotは、GitHubがOpenAIと共同で開発したコード補完ツールである。  \n",
        "背後には、GPT-3ベースのOpenAI Codexが動いており、文字通りcopilotとして様々なコードやスニペットを提案してくれる。\n",
        "\n",
        "GitHub Copilotは、VS Codeなどの拡張機能としても使用することができる。\n",
        "ただし、GitHub Copilotが生成するコードは完璧ではないため、使う際は、**提案されたコードを注意深く確認し、必要に応じて修正を行う必要がある**ことは言うまでもない。\n",
        "\n",
        "GitHub Copilotを使うには、まず、GitHub Copilotのベータ版に登録する必要がある。学生は、学生証などを提出することで、無料で登録・使用することができる。上手く使いこなせれば、かなりの生産性向上が期待できるツールであり、私も日々の研究において活用している。\n",
        "\n",
        "もちろん、自身の意図を100%反映したコードを生成してくれるわけではないが、コードの骨組みを作ってくれるため大幅に作業が楽になることも多い。ときに「こんな書き方もあるのか」という気づきを与えてくれたりもする。\n",
        "\n",
        "\n",
        "### VS Codeへの導入\n",
        "\n",
        "1. GitHub Copilotに登録する。この際、GitHubアカウントを作成する必要がある。\n",
        "   既にGitHubアカウントを持っている場合は、そのアカウントでログインする。  \n",
        "   「Github Copilot 学生申請」などで検索すると、学生向けの登録方法が見つかる。\n",
        "    認証が済むと、GitHubのアカウントがPROアカウントになり、Copilotを使うことができるようになる。\n",
        "2. 次に、[Copilotのページ](https://github.com/features/copilot/)から、Start my free trialをクリックし、指示に従う。\n",
        "\n",
        "3. VS Codeのアカウント(人型)のアイコンから、GitHubアカウントにログインする。\n",
        "\n",
        "4. VS Codeの拡張機能タブから[GitHub Copilot]などと検索したのち、拡張機能をインストールする(2.でインストールが始まるかも)。その後指示に従い、インストールを完了する。\n",
        "\n",
        "### 試してみよう\n",
        "\n",
        "試しに著者の環境(VS Code)で「適当な二次元データのヒートマップを描画するコードは以下のようになる」などと打つと...  \n",
        "以下のように、自身で入力した際よりも薄い色でコード(場合によっては複数行)が提案される。\n",
        "\n",
        "<img src=\"https://github.com/SotaYoshida/Lecture_DataScience/blob/main/notebooks/pic_for_notebook/pic_copilot_1.jpeg?raw=true\" width=70%>\n",
        "\n",
        "Copilotの提案を受け入れるには`Tab`キーを押し、棄却する場合には`Esc`を押せば良い。複数行に渡る場合も同様である。\n",
        "こうした作業を繰り返して生成されたコードを実行してみよう。\n"
      ]
    },
    {
      "cell_type": "code",
      "execution_count": 3,
      "metadata": {},
      "outputs": [
        {
          "data": {
            "image/png": "[encoded data removed]",
            "text/plain": [
              "<Figure size 640x480 with 1 Axes>"
            ]
          },
          "metadata": {},
          "output_type": "display_data"
        }
      ],
      "source": [
        "#適当な二次元データのヒートマップを描画するコードは以下のようになる:\n",
        "\n",
        "import numpy as np\n",
        "import matplotlib.pyplot as plt\n",
        "import seaborn as sns\n",
        "\n",
        "# 2次元データの生成\n",
        "x = np.random.randn(1000)\n",
        "y = np.random.randn(1000)\n",
        "\n",
        "# ヒストグラムの描画\n",
        "plt.hist2d(x, y, bins=50, cmap='Blues')\n",
        "plt.show()"
      ]
    },
    {
      "cell_type": "markdown",
      "metadata": {},
      "source": [
        "もう少し具体的にカラーマップも指定してみよう。以下のコード例は\n",
        "「適当な二次元データのヒートマップを作成するコード、但しカラーマップはjetを用いる。」と入力したあとに提案されたコードである。"
      ]
    },
    {
      "cell_type": "code",
      "execution_count": 2,
      "metadata": {},
      "outputs": [
        {
          "data": {
            "image/png": "[encoded data removed]",
            "text/plain": [
              "<Figure size 640x480 with 2 Axes>"
            ]
          },
          "metadata": {},
          "output_type": "display_data"
        }
      ],
      "source": [
        "import numpy as np\n",
        "import matplotlib.pyplot as plt\n",
        "import matplotlib.cm as cm\n",
        "\n",
        "#データの作成\n",
        "x = np.arange(0, 10, 0.1)\n",
        "y = np.arange(0, 10, 0.1)\n",
        "X, Y = np.meshgrid(x, y)\n",
        "Z = np.sin(X) + np.cos(Y)\n",
        "\n",
        "#ヒートマップの作成\n",
        "plt.pcolor(X, Y, Z, cmap=cm.jet)\n",
        "plt.colorbar()\n",
        "plt.show()"
      ]
    },
    {
      "cell_type": "markdown",
      "metadata": {},
      "source": [
        "1回目は`seaborn`ライブラリを使っていたのに対し、２回目では`matplotlib.cm`からカラーマップ`cm`を呼んでいる事がわかる。\n",
        "ランダムなデータの作り方も１回目と２回目、あるいはユーザーの実行ごとに変わったりすることに注意しよう。\n",
        "\n",
        "繰り返しになるが、GitHub Copilotの提案が本当に自身の意図したものとなっているかについては、**常にユーザーである我々が注意して確認する必要があること**は肝に命じておこう。"
      ]
    },
    {
      "cell_type": "markdown",
      "metadata": {},
      "source": [
        "### 練習相手・チューターとしてのCopilot/Chat GPT\n",
        "\n",
        "この授業を履修する皆さんにはぜひ、GitHub CopilotやChat GPTを、自身の学習のための練習相手や24時間対応のTAやチューターのように活用してもらいたい。  \n",
        "大規模言語モデルを使用したチャットボット(Chat GPT)は、プロンプトと呼ばれる指示文を適切に与えることで、その文脈に沿った文章を生成してくれる(かもしれない)という性質のものである。\n",
        "\n",
        "自分が望むような文章を生成する、あるいは文章生成を\"回答\"とみなし活用するためには、プロンプトの与え方に工夫が必要になる。  \n",
        "「何がわからないのかも分からない」状態では質問のしようがないのと同様、指示が漠然としているとおそらく有効な回答を引き出す蓋然性は低くなってしまう。\n",
        "プログラミング学習に活用するための適切なプロンプトを工夫することは、それ自体が**自身のやりたい作業を言語化する**という作業になっていて、一定の学習効果が期待される。\n",
        "\n",
        "皆さんの主体的な学習にむけて、幾つかChat GPTの使用例を紹介してみよう。  \n",
        "適当な指示文を与えてみる。\n",
        "\n",
        "<img src=\"https://github.com/SotaYoshida/Lecture_DataScience/blob/main/notebooks/pic_for_notebook/pic_copilot_2.jpeg?raw=true\" width=50%>\n",
        "\n",
        "\n",
        "もちろん、ここでは具体的なファイル構造を示したりファイルを与えているわけではないので、正しく動く保証も全く無いわけだが、概ねもっともらしいコードを生成してくれている。\n",
        "仮に提案されたコードがうまく動かない/使えないとき、うまく行かない理由と関連していそうな情報を与えてやったりすることで、解決策を提示してきたり、補足知識を与えてくれたりするという例も見せよう。\n",
        "\n",
        "<img src=\"https://github.com/SotaYoshida/Lecture_DataScience/blob/main/notebooks/pic_for_notebook/pic_copilot_3.jpeg?raw=true\" width=50%>\n",
        "<img src=\"https://github.com/SotaYoshida/Lecture_DataScience/blob/main/notebooks/pic_for_notebook/pic_copilot_4.jpeg?raw=true\" width=50%>\n",
        "\n",
        "細かいことを言うと、2.の1つめの画像の提案(`encoding=\"SHIFT-JIS\"`)は、サポートされていないオプションの指定となりエラーになるが、(言語モデルはPythonの文法、とくにPythonの中での文字コードの指定に相当するコードを\"理解\"しているわけではないため)推論としては真っ当なものになっている。  \n",
        "\n",
        "実は上の画像で挙げた例は、実際にPythonでcsvやエクセルファイルを読み書きしようとする際に、よく遭遇するエラーの例になっていて、\n",
        "私はそのことを知っているため、上のようなある種\"誘導的な\"プロンプトを与えることで、より有用な回答を得られるよう仕向けている。\n",
        "2.の2つめの画像で、より適切なオプションを指定するためにもう少しヒントをあげているという訳だ。\n",
        "\n",
        "\n",
        "\"自身の理解やこれまでの思考・試行を開示した上で質問をする\"ことが、他人に質問する際に有効な回答を引き出すための近道であることと同じで、\n",
        "言語モデルを対話的に活用する上では、こうしたコツを抑えておくと良いかもしれない。\n",
        "\n",
        "また、大規模言語モデルの性質・特性やその背景にある基礎について理解を深めることも非常に重要な姿勢だと感じる。  \n",
        "理研AIPシンポジウムでの岡崎直観先生の特別講演[Youtubeへのリンク](https://youtu.be/PUuk4Cv-ycg)が非常に参考になる。ぜひ一度視聴してみてほしい。"
      ]
    }
  ],
  "metadata": {
    "colab": {
      "collapsed_sections": [
        "h2K-l3Iu0vHS",
        "c17cT0gy2fwF",
        "OtjKhaH451we",
        "N4vEf_Av9hjN"
      ],
      "include_colab_link": true,
      "name": "Python_misc_python_env_forWin11.ipynb",
      "provenance": []
    },
    "kernelspec": {
      "display_name": "Python 3.9.13 64-bit",
      "language": "python",
      "name": "python3"
    },
    "language_info": {
      "codemirror_mode": {
        "name": "ipython",
        "version": 3
      },
      "file_extension": ".py",
      "mimetype": "text/x-python",
      "name": "python",
      "nbconvert_exporter": "python",
      "pygments_lexer": "ipython3",
      "version": "3.9.13"
    },
    "vscode": {
      "interpreter": {
        "hash": "aee8b7b246df8f9039afb4144a1f6fd8d2ca17a180786b69acc140d282b71a49"
      }
    }
  },
  "nbformat": 4,
  "nbformat_minor": 0
}
